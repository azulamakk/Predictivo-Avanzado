{
 "cells": [
  {
   "cell_type": "code",
   "execution_count": 213,
   "metadata": {},
   "outputs": [],
   "source": [
    "import pandas as pd\n",
    "from sklearn.preprocessing import LabelEncoder\n",
    "from sklearn.model_selection import train_test_split\n",
    "from sklearn.metrics import accuracy_score\n",
    "import xgboost as xgb\n",
    "import matplotlib.pyplot as plt\n",
    "from sklearn.metrics import precision_score, f1_score, roc_auc_score"
   ]
  },
  {
   "cell_type": "code",
   "execution_count": 214,
   "metadata": {},
   "outputs": [],
   "source": [
    "datos = pd.read_csv('Encuesta_ingreso_202401.csv', sep=';', encoding='latin1')"
   ]
  },
  {
   "cell_type": "code",
   "execution_count": 215,
   "metadata": {},
   "outputs": [
    {
     "name": "stdout",
     "output_type": "stream",
     "text": [
      "Index(['Nacionalidad', 'Edad', 'Género', 'Barrio/Localidad',\n",
      "       'Tipo de vacación preferida', 'Estilo de música preferido',\n",
      "       'Género preferido de películas', 'Deporte preferido',\n",
      "       'Hobbie preferido', '¿En que rubro trabajás o te gustaría trabajar?',\n",
      "       '¿Qué esperan de la carrera?',\n",
      "       '¿Qué esperan de la materia? ¿Qué temas quisieran ver?',\n",
      "       '¿Qué algoritmos conocés?',\n",
      "       '¿Sobre qué temas trabajaste en los TPs de Análisis Predictivo?',\n",
      "       '¿Qué película te gustó más o quisieras ver primero?'],\n",
      "      dtype='object')\n"
     ]
    }
   ],
   "source": [
    "print(datos.columns)"
   ]
  },
  {
   "cell_type": "code",
   "execution_count": 216,
   "metadata": {},
   "outputs": [],
   "source": [
    "columnasRelevantes = ['Edad','Género', 'Barrio/Localidad',\n",
    "       'Tipo de vacación preferida', 'Estilo de música preferido',\n",
    "       'Género preferido de películas', 'Deporte preferido',\n",
    "       'Hobbie preferido', '¿Qué película te gustó más o quisieras ver primero?'] \n",
    "datosFiltrados = datos[columnasRelevantes]"
   ]
  },
  {
   "cell_type": "code",
   "execution_count": 217,
   "metadata": {},
   "outputs": [
    {
     "data": {
      "image/png": "[encoded data removed]",
      "text/plain": [
       "<Figure size 400x400 with 1 Axes>"
      ]
     },
     "metadata": {},
     "output_type": "display_data"
    }
   ],
   "source": [
    "movie_preferences_counts = datosFiltrados['¿Qué película te gustó más o quisieras ver primero?'].value_counts()\n",
    "\n",
    "labels = movie_preferences_counts.index\n",
    "sizes = movie_preferences_counts.values\n",
    "\n",
    "plt.figure(figsize=(4, 4))\n",
    "plt.pie(sizes, labels=labels, autopct='%1.1f%%', startangle=140)\n",
    "plt.axis('equal') \n",
    "plt.title('Preferencias de películas')\n",
    "plt.show()"
   ]
  },
  {
   "cell_type": "code",
   "execution_count": 218,
   "metadata": {},
   "outputs": [
    {
     "name": "stdout",
     "output_type": "stream",
     "text": [
      "    Edad  Género  Barrio/Localidad  Tipo de vacación preferida  \\\n",
      "0     22       0                 2                           1   \n",
      "1     22       0                14                           2   \n",
      "2     22       1                 3                           2   \n",
      "3     26       1                11                           1   \n",
      "4     22       0                15                           2   \n",
      "5     26       1                 7                           2   \n",
      "6     21       0                 0                           2   \n",
      "7     21       1                12                           1   \n",
      "8     24       0                14                           2   \n",
      "9     22       1                 9                           1   \n",
      "10    23       1                 6                           0   \n",
      "11    23       0                 9                           0   \n",
      "12    21       0                 9                           1   \n",
      "13    22       0                 6                           2   \n",
      "14    21       0                 6                           1   \n",
      "15    21       0                 9                           2   \n",
      "16    23       1                 6                           2   \n",
      "17    21       0                 5                           2   \n",
      "18    22       0                14                           2   \n",
      "19    21       0                16                           2   \n",
      "20    21       1                14                           1   \n",
      "21    21       0                 8                           2   \n",
      "22    22       1                 4                           1   \n",
      "23    21       1                10                           1   \n",
      "24    21       0                13                           1   \n",
      "25    21       0                 6                           2   \n",
      "26    20       0                 9                           1   \n",
      "27    21       0                 1                           1   \n",
      "28    20       0                 1                           2   \n",
      "\n",
      "    Estilo de música preferido  Género preferido de películas  \\\n",
      "0                            1                              2   \n",
      "1                            1                              4   \n",
      "2                            0                              2   \n",
      "3                            0                              1   \n",
      "4                            1                              4   \n",
      "5                            1                              1   \n",
      "6                            2                              3   \n",
      "7                            3                              1   \n",
      "8                            1                              2   \n",
      "9                            0                              3   \n",
      "10                           3                              1   \n",
      "11                           3                              3   \n",
      "12                           3                              0   \n",
      "13                           2                              2   \n",
      "14                           1                              3   \n",
      "15                           1                              4   \n",
      "16                           0                              5   \n",
      "17                           2                              4   \n",
      "18                           0                              4   \n",
      "19                           1                              2   \n",
      "20                           3                              1   \n",
      "21                           1                              2   \n",
      "22                           3                              2   \n",
      "23                           0                              2   \n",
      "24                           0                              0   \n",
      "25                           1                              4   \n",
      "26                           1                              4   \n",
      "27                           1                              4   \n",
      "28                           1                              4   \n",
      "\n",
      "    Deporte preferido  Hobbie preferido  \\\n",
      "0                   2                 6   \n",
      "1                   1                 6   \n",
      "2                   0                 9   \n",
      "3                   2                10   \n",
      "4                   0                 9   \n",
      "5                   3                 4   \n",
      "6                   3                 5   \n",
      "7                   2                 9   \n",
      "8                   0                 2   \n",
      "9                   0                 9   \n",
      "10                  1                 7   \n",
      "11                  0                 2   \n",
      "12                  2                 1   \n",
      "13                  2                10   \n",
      "14                  0                 9   \n",
      "15                  2                 6   \n",
      "16                  2                 2   \n",
      "17                  2                 9   \n",
      "18                  2                10   \n",
      "19                  2                 9   \n",
      "20                  2                 9   \n",
      "21                  3                 2   \n",
      "22                  0                 9   \n",
      "23                  1                 6   \n",
      "24                  2                 4   \n",
      "25                  3                11   \n",
      "26                  2                 8   \n",
      "27                  0                 3   \n",
      "28                  2                 0   \n",
      "\n",
      "    ¿Qué película te gustó más o quisieras ver primero?  \n",
      "0                                                   0    \n",
      "1                                                   0    \n",
      "2                                                   1    \n",
      "3                                                   0    \n",
      "4                                                   0    \n",
      "5                                                   1    \n",
      "6                                                   0    \n",
      "7                                                   1    \n",
      "8                                                   0    \n",
      "9                                                   1    \n",
      "10                                                  0    \n",
      "11                                                  1    \n",
      "12                                                  1    \n",
      "13                                                  0    \n",
      "14                                                  0    \n",
      "15                                                  0    \n",
      "16                                                  1    \n",
      "17                                                  0    \n",
      "18                                                  0    \n",
      "19                                                  1    \n",
      "20                                                  1    \n",
      "21                                                  0    \n",
      "22                                                  1    \n",
      "23                                                  1    \n",
      "24                                                  1    \n",
      "25                                                  0    \n",
      "26                                                  0    \n",
      "27                                                  0    \n",
      "28                                                  0    \n"
     ]
    },
    {
     "name": "stderr",
     "output_type": "stream",
     "text": [
      "/var/folders/22/kk3jgz8n1yn0zwh0vft67d040000gn/T/ipykernel_93215/860948780.py:4: SettingWithCopyWarning: \n",
      "A value is trying to be set on a copy of a slice from a DataFrame.\n",
      "Try using .loc[row_indexer,col_indexer] = value instead\n",
      "\n",
      "See the caveats in the documentation: https://pandas.pydata.org/pandas-docs/stable/user_guide/indexing.html#returning-a-view-versus-a-copy\n",
      "  datosFiltrados[column] = label_encoder.fit_transform(datosFiltrados[column])\n",
      "/var/folders/22/kk3jgz8n1yn0zwh0vft67d040000gn/T/ipykernel_93215/860948780.py:4: SettingWithCopyWarning: \n",
      "A value is trying to be set on a copy of a slice from a DataFrame.\n",
      "Try using .loc[row_indexer,col_indexer] = value instead\n",
      "\n",
      "See the caveats in the documentation: https://pandas.pydata.org/pandas-docs/stable/user_guide/indexing.html#returning-a-view-versus-a-copy\n",
      "  datosFiltrados[column] = label_encoder.fit_transform(datosFiltrados[column])\n",
      "/var/folders/22/kk3jgz8n1yn0zwh0vft67d040000gn/T/ipykernel_93215/860948780.py:4: SettingWithCopyWarning: \n",
      "A value is trying to be set on a copy of a slice from a DataFrame.\n",
      "Try using .loc[row_indexer,col_indexer] = value instead\n",
      "\n",
      "See the caveats in the documentation: https://pandas.pydata.org/pandas-docs/stable/user_guide/indexing.html#returning-a-view-versus-a-copy\n",
      "  datosFiltrados[column] = label_encoder.fit_transform(datosFiltrados[column])\n",
      "/var/folders/22/kk3jgz8n1yn0zwh0vft67d040000gn/T/ipykernel_93215/860948780.py:4: SettingWithCopyWarning: \n",
      "A value is trying to be set on a copy of a slice from a DataFrame.\n",
      "Try using .loc[row_indexer,col_indexer] = value instead\n",
      "\n",
      "See the caveats in the documentation: https://pandas.pydata.org/pandas-docs/stable/user_guide/indexing.html#returning-a-view-versus-a-copy\n",
      "  datosFiltrados[column] = label_encoder.fit_transform(datosFiltrados[column])\n",
      "/var/folders/22/kk3jgz8n1yn0zwh0vft67d040000gn/T/ipykernel_93215/860948780.py:4: SettingWithCopyWarning: \n",
      "A value is trying to be set on a copy of a slice from a DataFrame.\n",
      "Try using .loc[row_indexer,col_indexer] = value instead\n",
      "\n",
      "See the caveats in the documentation: https://pandas.pydata.org/pandas-docs/stable/user_guide/indexing.html#returning-a-view-versus-a-copy\n",
      "  datosFiltrados[column] = label_encoder.fit_transform(datosFiltrados[column])\n",
      "/var/folders/22/kk3jgz8n1yn0zwh0vft67d040000gn/T/ipykernel_93215/860948780.py:4: SettingWithCopyWarning: \n",
      "A value is trying to be set on a copy of a slice from a DataFrame.\n",
      "Try using .loc[row_indexer,col_indexer] = value instead\n",
      "\n",
      "See the caveats in the documentation: https://pandas.pydata.org/pandas-docs/stable/user_guide/indexing.html#returning-a-view-versus-a-copy\n",
      "  datosFiltrados[column] = label_encoder.fit_transform(datosFiltrados[column])\n",
      "/var/folders/22/kk3jgz8n1yn0zwh0vft67d040000gn/T/ipykernel_93215/860948780.py:4: SettingWithCopyWarning: \n",
      "A value is trying to be set on a copy of a slice from a DataFrame.\n",
      "Try using .loc[row_indexer,col_indexer] = value instead\n",
      "\n",
      "See the caveats in the documentation: https://pandas.pydata.org/pandas-docs/stable/user_guide/indexing.html#returning-a-view-versus-a-copy\n",
      "  datosFiltrados[column] = label_encoder.fit_transform(datosFiltrados[column])\n",
      "/var/folders/22/kk3jgz8n1yn0zwh0vft67d040000gn/T/ipykernel_93215/860948780.py:4: SettingWithCopyWarning: \n",
      "A value is trying to be set on a copy of a slice from a DataFrame.\n",
      "Try using .loc[row_indexer,col_indexer] = value instead\n",
      "\n",
      "See the caveats in the documentation: https://pandas.pydata.org/pandas-docs/stable/user_guide/indexing.html#returning-a-view-versus-a-copy\n",
      "  datosFiltrados[column] = label_encoder.fit_transform(datosFiltrados[column])\n"
     ]
    }
   ],
   "source": [
    "label_encoder = LabelEncoder()\n",
    "for column in datosFiltrados.columns:\n",
    "    if datosFiltrados[column].dtype == 'object':\n",
    "        datosFiltrados[column] = label_encoder.fit_transform(datosFiltrados[column])\n",
    "\n",
    "print(datosFiltrados)"
   ]
  },
  {
   "cell_type": "code",
   "execution_count": 219,
   "metadata": {},
   "outputs": [],
   "source": [
    "datosFiltrados = datosFiltrados.dropna()"
   ]
  },
  {
   "cell_type": "code",
   "execution_count": 220,
   "metadata": {},
   "outputs": [],
   "source": [
    "X = datosFiltrados.drop('¿Qué película te gustó más o quisieras ver primero?', axis=1)\n",
    "y = datosFiltrados['¿Qué película te gustó más o quisieras ver primero?']"
   ]
  },
  {
   "cell_type": "code",
   "execution_count": 221,
   "metadata": {},
   "outputs": [],
   "source": [
    "X_train, X_test, y_train, y_test = train_test_split(X, y, test_size=0.2, random_state=42)"
   ]
  },
  {
   "cell_type": "code",
   "execution_count": 222,
   "metadata": {},
   "outputs": [
    {
     "name": "stdout",
     "output_type": "stream",
     "text": [
      "Exactitud del modelo XGBoost: 0.6666666666666666\n",
      "Precisión: 0.75\n",
      "F1-score: 0.75\n",
      "AUC-ROC: 0.625\n"
     ]
    }
   ],
   "source": [
    "X = datosFiltrados.drop('¿Qué película te gustó más o quisieras ver primero?', axis=1)\n",
    "y = datosFiltrados['¿Qué película te gustó más o quisieras ver primero?']\n",
    "\n",
    "X_train, X_test, y_train, y_test = train_test_split(X, y, test_size=0.2, random_state=42)\n",
    "\n",
    "dtrain = xgb.DMatrix(X_train, label=y_train)\n",
    "dtest = xgb.DMatrix(X_test, label=y_test)\n",
    "\n",
    "params = {\n",
    "    'objective': 'multi:softmax',  \n",
    "    'num_class': len(datosFiltrados['¿Qué película te gustó más o quisieras ver primero?'].unique()), \n",
    "    'eval_metric': 'merror'  \n",
    "}\n",
    "\n",
    "num_round = 100\n",
    "model = xgb.train(params, dtrain, num_round)\n",
    "\n",
    "y_pred = model.predict(dtest)\n",
    "\n",
    "accuracy = accuracy_score(y_test, y_pred)\n",
    "precision = precision_score(y_test, y_pred)\n",
    "f1 = f1_score(y_test, y_pred)\n",
    "auc_roc = roc_auc_score(y_test, y_pred)\n",
    "\n",
    "print(\"Exactitud del modelo XGBoost:\", accuracy)\n",
    "print(\"Precisión:\", precision)\n",
    "print(\"F1-score:\", f1)\n",
    "print(\"AUC-ROC:\", auc_roc)"
   ]
  }
 ],
 "metadata": {
  "kernelspec": {
   "display_name": "Python 3",
   "language": "python",
   "name": "python3"
  },
  "language_info": {
   "codemirror_mode": {
    "name": "ipython",
    "version": 3
   },
   "file_extension": ".py",
   "mimetype": "text/x-python",
   "name": "python",
   "nbconvert_exporter": "python",
   "pygments_lexer": "ipython3",
   "version": "3.11.5"
  }
 },
 "nbformat": 4,
 "nbformat_minor": 2
}
