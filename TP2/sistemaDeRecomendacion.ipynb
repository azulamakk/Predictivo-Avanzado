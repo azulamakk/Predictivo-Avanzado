{
 "cells": [
  {
   "cell_type": "code",
   "execution_count": 67,
   "metadata": {},
   "outputs": [],
   "source": [
    "import pandas as pd\n",
    "import numpy as np\n",
    "import matplotlib.pyplot as plt\n",
    "from surprise import Reader, Dataset, SVD, KNNBasic, NormalPredictor, BaselineOnly, NMF\n",
    "from surprise.model_selection import cross_validate, KFold, GridSearchCV\n",
    "from collections import defaultdict\n",
    "from surprise.prediction_algorithms import NormalPredictor, BaselineOnly, SVD, KNNBasic, NMF\n",
    "from sklearn.model_selection import train_test_split as sklearn_train_test_split\n",
    "from surprise.model_selection import train_test_split\n",
    "from sklearn.ensemble import RandomForestRegressor\n",
    "\n",
    "plt.rcParams['font.family'] = 'Times New Roman'"
   ]
  },
  {
   "cell_type": "markdown",
   "metadata": {},
   "source": [
    "# Preparacion de datos"
   ]
  },
  {
   "cell_type": "code",
   "execution_count": 33,
   "metadata": {},
   "outputs": [
    {
     "name": "stdout",
     "output_type": "stream",
     "text": [
      "Shape del DataFrame original de locales: (130, 22)\n",
      "Shape del DataFrame final de locales con promedios: (130, 29)\n"
     ]
    }
   ],
   "source": [
    "df_ratings = pd.read_csv('./datos/rating_final.csv')\n",
    "df_places = pd.read_csv('./datos/geoplaces2.csv')\n",
    "\n",
    "datasets_locales = ['./datos/chefmozaccepts.csv', './datos/chefmozcuisine.csv', './datos/chefmozhours4.csv', './datos/chefmozparking.csv']\n",
    "\n",
    "for dataset in datasets_locales:\n",
    "    df_temp = pd.read_csv(dataset)\n",
    "    merged_places = pd.merge(df_places, df_temp, on='placeID', how='left')\n",
    "\n",
    "print(f\"Shape del DataFrame original de locales: {merged_places.shape}\")\n",
    "\n",
    "merged_places = df_places.drop_duplicates(subset=['placeID'])\n",
    "\n",
    "merged_places.to_csv('./datos/dataLocal.csv', sep=';', index=False)\n",
    "\n",
    "for dataset in datasets_locales:\n",
    "    df_temp = pd.read_csv(dataset)\n",
    "    df_places = pd.merge(df_places, df_temp, on='placeID', how='left')\n",
    "\n",
    "avg_ratings = df_ratings.groupby('placeID')[['rating', 'food_rating', 'service_rating']].mean().reset_index()\n",
    "\n",
    "df_places = pd.merge(df_places, avg_ratings, on='placeID', how='left')\n",
    "df_places = df_places.drop_duplicates(subset=['placeID'])\n",
    "df_places.to_csv('./datos/dataLocal_with_averages.csv', sep=';', index=False)\n",
    "\n",
    "print(f\"Shape del DataFrame final de locales con promedios: {df_places.shape}\")"
   ]
  },
  {
   "cell_type": "code",
   "execution_count": 34,
   "metadata": {},
   "outputs": [
    {
     "name": "stdout",
     "output_type": "stream",
     "text": [
      "Shape del DataFrame original de usuarios: (138, 24)\n"
     ]
    }
   ],
   "source": [
    "userprofile_file = './datos/userprofile.csv'\n",
    "usercuisine_file = './datos/usercuisine.csv'\n",
    "userpayment_file = './datos/userpayment.csv'\n",
    "\n",
    "df_userprofile = pd.read_csv(userprofile_file, sep=',')\n",
    "df_usercuisine = pd.read_csv(usercuisine_file, sep=',')\n",
    "df_userpayment = pd.read_csv(userpayment_file, sep=',')\n",
    "\n",
    "df_users = pd.merge(df_userprofile, df_usercuisine, on='userID', how='left')\n",
    "df_users = pd.merge(df_users, df_userpayment, on='userID', how='left')\n",
    "\n",
    "df_users = df_users.drop_duplicates(subset=['userID'])\n",
    "\n",
    "avg_user_ratings = df_ratings.groupby('userID')[['rating', 'food_rating', 'service_rating']].mean().reset_index()\n",
    "\n",
    "df_users = pd.merge(df_users, avg_user_ratings, on='userID', how='left')\n",
    "\n",
    "df_users.to_csv('./datos/dataUser.csv', sep=';', index=False)\n",
    "\n",
    "print(f\"Shape del DataFrame original de usuarios: {df_users.shape}\")"
   ]
  },
  {
   "cell_type": "code",
   "execution_count": 35,
   "metadata": {},
   "outputs": [],
   "source": [
    "ratings = df_users\n",
    "locales = df_places"
   ]
  },
  {
   "cell_type": "code",
   "execution_count": 36,
   "metadata": {},
   "outputs": [
    {
     "name": "stdout",
     "output_type": "stream",
     "text": [
      "Index(['userID', 'latitude', 'longitude', 'smoker', 'drink_level',\n",
      "       'dress_preference', 'ambience', 'transport', 'marital_status', 'hijos',\n",
      "       'birth_year', 'interest', 'personality', 'religion', 'activity',\n",
      "       'color', 'weight', 'budget', 'height', 'Rcuisine', 'Upayment', 'rating',\n",
      "       'food_rating', 'service_rating'],\n",
      "      dtype='object')\n",
      "Index(['placeID', 'latitude', 'longitude', 'the_geom_meter', 'name', 'address',\n",
      "       'city', 'state', 'country', 'fax', 'zip', 'alcohol', 'smoking_area',\n",
      "       'dress_code', 'accessibility', 'price', 'url', 'Rambience', 'franchise',\n",
      "       'area', 'other_services', 'Rpayment', 'Rcuisine', 'hours', 'days',\n",
      "       'parking_lot', 'rating', 'food_rating', 'service_rating'],\n",
      "      dtype='object')\n"
     ]
    }
   ],
   "source": [
    "print(ratings.columns)\n",
    "print(locales.columns)"
   ]
  },
  {
   "cell_type": "markdown",
   "metadata": {},
   "source": [
    "# Similitud del coseno"
   ]
  },
  {
   "cell_type": "code",
   "execution_count": 37,
   "metadata": {},
   "outputs": [],
   "source": [
    "df_ratings = pd.read_csv('./datos/dataRatings.csv', delimiter=';')\n",
    "\n",
    "df_ratings = df_ratings.drop_duplicates(subset=['userID', 'placeID'])\n",
    "\n",
    "df_ratings.to_csv('./datos/dataRatings.csv', index=False, sep=';')"
   ]
  },
  {
   "cell_type": "code",
   "execution_count": 38,
   "metadata": {},
   "outputs": [
    {
     "name": "stdout",
     "output_type": "stream",
     "text": [
      "[[1.         0.29052311 0.26067155 ... 0.43389833 0.7050241  0.17912732]\n",
      " [0.29052311 1.         0.62682767 ... 0.13611863 0.49574583 0.57941364]\n",
      " [0.26067155 0.62682767 1.         ... 0.22696956 0.15812585 0.33536408]\n",
      " ...\n",
      " [0.43389833 0.13611863 0.22696956 ... 1.         0.51621685 0.15246621]\n",
      " [0.7050241  0.49574583 0.15812585 ... 0.51621685 1.         0.43144178]\n",
      " [0.17912732 0.57941364 0.33536408 ... 0.15246621 0.43144178 1.        ]]\n"
     ]
    }
   ],
   "source": [
    "from sklearn.preprocessing import StandardScaler, OneHotEncoder\n",
    "from sklearn.compose import ColumnTransformer\n",
    "from sklearn.pipeline import Pipeline\n",
    "from sklearn.metrics.pairwise import cosine_similarity\n",
    "\n",
    "categorical_features = ['alcohol', 'smoking_area', 'dress_code', 'accessibility', 'price', 'Rambience', 'franchise', 'area', 'other_services', 'Rpayment', 'Rcuisine']\n",
    "numerical_features = ['latitude', 'longitude', 'rating', 'food_rating', 'service_rating']\n",
    "\n",
    "preprocessor = ColumnTransformer(\n",
    "    transformers=[\n",
    "        ('num', StandardScaler(), numerical_features),\n",
    "        ('cat', OneHotEncoder(), categorical_features)])\n",
    "\n",
    "pipeline = Pipeline(steps=[('preprocessor', preprocessor)])\n",
    "locales_preprocessed = pipeline.fit_transform(locales)\n",
    "\n",
    "similarity_matrix = cosine_similarity(locales_preprocessed, locales_preprocessed)\n",
    "\n",
    "print(similarity_matrix)"
   ]
  },
  {
   "cell_type": "code",
   "execution_count": 39,
   "metadata": {},
   "outputs": [
    {
     "name": "stdout",
     "output_type": "stream",
     "text": [
      "                                    name  \\\n",
      "522            Hamburguesas Valle Dorado   \n",
      "639                    Hamburguesas saul   \n",
      "57             Abondance Restaurante Bar   \n",
      "645                      Rincon Huasteco   \n",
      "669                         Cafe Chaires   \n",
      "705                 Restaurant Orizatlan   \n",
      "898                     sirloin stockade   \n",
      "330                            Luna Cafe   \n",
      "441                           Potzocalli   \n",
      "354                          el pueblito   \n",
      "261      Restaurante la Estrella de Dima   \n",
      "465  Restaurante El Chivero S.A. de C.V.   \n",
      "531                          dairy queen   \n",
      "54                        Restaurante 75   \n",
      "3                        puesto de tacos   \n",
      "\n",
      "                                      address             city    rating  \\\n",
      "522                                 Av. Coral  San Luis Potosi  0.800000   \n",
      "639  Av. Saan Luis enttre moctezuma y salinas  San Luis Potosi  0.600000   \n",
      "57                Industrias 908 Valle Dorado  San Luis Potosi  0.500000   \n",
      "645                                         ?                ?  0.916667   \n",
      "669                                         ?  San Luis Potosi  1.000000   \n",
      "705                  Pascual M. Hernandez 240  San Luis Potosi  0.875000   \n",
      "898                                         ?                ?  0.750000   \n",
      "330                   Francisco I. Madero 215  San Luis Potosi  1.176471   \n",
      "441                      Carretera Central Sn  San Luis Potosi  1.181818   \n",
      "354                                         ?                ?  1.000000   \n",
      "261           Soledad Sn Arboledas de Soledad          Soledad  1.250000   \n",
      "465                  Angel Veral 328 Altamira  San Luis Potosi  0.882353   \n",
      "531                                         ?                ?  1.166667   \n",
      "54         Villa de Pozos 4497 Villa de Pozos  San Luis Potosi  0.875000   \n",
      "3      esquina santos degollado y leon guzman           s.l.p.  1.281250   \n",
      "\n",
      "     food_rating  service_rating  \n",
      "522     1.400000        0.600000  \n",
      "639     0.600000        0.400000  \n",
      "57      0.500000        0.750000  \n",
      "645     1.166667        0.916667  \n",
      "669     1.000000        0.933333  \n",
      "705     1.375000        1.000000  \n",
      "898     0.750000        1.000000  \n",
      "330     1.176471        1.000000  \n",
      "441     1.181818        1.000000  \n",
      "354     1.200000        1.200000  \n",
      "261     1.250000        1.000000  \n",
      "465     1.058824        0.705882  \n",
      "531     1.166667        1.166667  \n",
      "54      1.000000        0.750000  \n",
      "3       1.343750        0.937500  \n"
     ]
    }
   ],
   "source": [
    "def recommend_locales_based_on_similarity(local_input, n=15):\n",
    "    try:\n",
    "        local_index = locales.loc[locales.name == local_input].index[0]\n",
    "    except IndexError:\n",
    "        return \"Local no encontrado. Asegúrate de que el nombre sea correcto.\"\n",
    "\n",
    "    similarity_score = list(enumerate(similarity_matrix[local_index]))\n",
    "    similarity_score = sorted(similarity_score, key=lambda x: x[1], reverse=True)\n",
    "    similarity_score = similarity_score[1:n+1]\n",
    "    local_indices = [i[0] for i in similarity_score]\n",
    "\n",
    "    return locales[['name', 'address', 'city', 'rating', 'food_rating', 'service_rating']].iloc[local_indices]\n",
    "\n",
    "recomendaciones = recommend_locales_based_on_similarity('carnitas_mata', n=15)\n",
    "print(recomendaciones)"
   ]
  },
  {
   "cell_type": "markdown",
   "metadata": {},
   "source": [
    "# SR usando Surprise"
   ]
  },
  {
   "cell_type": "code",
   "execution_count": 40,
   "metadata": {},
   "outputs": [
    {
     "name": "stdout",
     "output_type": "stream",
     "text": [
      "     userID  placeID  rating  food_rating  service_rating   latitude  \\\n",
      "0     U1077   135085       2            2               2  22.150802   \n",
      "1     U1077   135038       2            2               1  22.155651   \n",
      "2     U1077   132825       2            2               2  22.147392   \n",
      "3     U1077   135060       1            2               2  22.156883   \n",
      "4     U1068   135104       1            1               2  23.752982   \n",
      "...     ...      ...     ...          ...             ...        ...   \n",
      "1156  U1043   132630       1            1               1  23.752931   \n",
      "1157  U1011   132715       1            1               0  23.732423   \n",
      "1158  U1068   132733       1            1               0  23.752707   \n",
      "1159  U1068   132594       1            1               1  23.752168   \n",
      "1160  U1068   132660       0            0               0  23.752943   \n",
      "\n",
      "       longitude                                     the_geom_meter  \\\n",
      "0    -100.982680  0101000020957F00009F823DA6094858C18A2D4D37F9A4...   \n",
      "1    -100.977767  0101000020957F0000506149736E4758C1A8BC93DA48A3...   \n",
      "2    -100.983092  0101000020957F00001AD016568C4858C1243261274BA5...   \n",
      "3    -100.978485  0101000020957F00004C95C918394758C17A5C44896AA3...   \n",
      "4     -99.168434  0101000020957F00007CDF5EAFC58157C1645743B23E4F...   \n",
      "...          ...                                                ...   \n",
      "1156  -99.164473  0101000020957F000047206572DE8157C1D3315028254E...   \n",
      "1157  -99.158660  0101000020957F00004609B96F198557C11973490A874D...   \n",
      "1158  -99.162565  0101000020957F0000F2F4110CF28157C1DCFD7C1BA04D...   \n",
      "1159  -99.165709  0101000020957F00003AE4C6DBF48157C1CE38ECC1864E...   \n",
      "1160  -99.164679  0101000020957F00003D7905C9DC8157C13FCD1AB7334E...   \n",
      "\n",
      "                                       name  \\\n",
      "0                    Tortas Locas Hipocampo   \n",
      "1                     Restaurant la Chalita   \n",
      "2                           puesto de tacos   \n",
      "3                   Restaurante Marisco Sam   \n",
      "4                                      vips   \n",
      "...                                     ...   \n",
      "1156                             palomo tec   \n",
      "1157                   tacos de la estacion   \n",
      "1158                          Little Cesarz   \n",
      "1159     tacos de barbacoa enfrente del Tec   \n",
      "1160  carnitas mata calle Emilio Portes Gil   \n",
      "\n",
      "                                     address  ... url Rambience franchise  \\\n",
      "0             Venustiano Carranza 719 Centro  ...   ?  familiar         f   \n",
      "1         Guajardo Sn San Luis Potosi Centro  ...   ?  familiar         f   \n",
      "2     esquina santos degollado y leon guzman  ...   ?  familiar         f   \n",
      "3                 Ignacio Allende 785 Centro  ...   ?  familiar         f   \n",
      "4                                          ?  ...   ?  familiar         t   \n",
      "...                                      ...  ...  ..       ...       ...   \n",
      "1156                 blvrd emilio portes gil  ...   ?  familiar         f   \n",
      "1157                                       ?  ...   ?     quiet         f   \n",
      "1158                                       ?  ...   ?  familiar         t   \n",
      "1159                                       ?  ...   ?  familiar         f   \n",
      "1160                       Emilio Portes Gil  ...   ?  familiar         f   \n",
      "\n",
      "        area other_services Rpayment   Rcuisine         hours  \\\n",
      "0     closed           none     cash  Fast_Food  00:00-00:00;   \n",
      "1     closed           none     cash        NaN  08:00-17:00;   \n",
      "2       open           none     cash    Mexican  09:00-12:00;   \n",
      "3     closed           none     cash    Seafood  11:30-19:00;   \n",
      "4     closed        variety     cash    Mexican  00:00-23:30;   \n",
      "...      ...            ...      ...        ...           ...   \n",
      "1156  closed           none      NaN    Mexican  00:00-23:30;   \n",
      "1157    open           none     cash    Mexican  09:00-16:00;   \n",
      "1158  closed           none     cash   Pizzeria  10:30-22:30;   \n",
      "1159    open           none     cash    Mexican  09:30-23:30;   \n",
      "1160  closed           none      NaN        NaN  00:00-23:30;   \n",
      "\n",
      "                      days parking_lot  \n",
      "0     Mon;Tue;Wed;Thu;Fri;      public  \n",
      "1     Mon;Tue;Wed;Thu;Fri;        none  \n",
      "2     Mon;Tue;Wed;Thu;Fri;        none  \n",
      "3     Mon;Tue;Wed;Thu;Fri;        none  \n",
      "4     Mon;Tue;Wed;Thu;Fri;         yes  \n",
      "...                    ...         ...  \n",
      "1156  Mon;Tue;Wed;Thu;Fri;        none  \n",
      "1157  Mon;Tue;Wed;Thu;Fri;        none  \n",
      "1158  Mon;Tue;Wed;Thu;Fri;         yes  \n",
      "1159  Mon;Tue;Wed;Thu;Fri;      public  \n",
      "1160  Mon;Tue;Wed;Thu;Fri;        none  \n",
      "\n",
      "[1161 rows x 30 columns]\n"
     ]
    }
   ],
   "source": [
    "print(df_ratings)"
   ]
  },
  {
   "cell_type": "code",
   "execution_count": 41,
   "metadata": {},
   "outputs": [],
   "source": [
    "from surprise import Dataset\n",
    "from surprise import Reader\n",
    "\n",
    "reader = Reader(rating_scale=(1, 5))\n",
    "data = Dataset.load_from_df(df_ratings[['userID', 'placeID', 'rating']], reader)"
   ]
  },
  {
   "cell_type": "code",
   "execution_count": 42,
   "metadata": {},
   "outputs": [
    {
     "name": "stdout",
     "output_type": "stream",
     "text": [
      "Processing epoch 0\n",
      "Processing epoch 1\n",
      "Processing epoch 2\n",
      "Processing epoch 3\n",
      "Processing epoch 4\n",
      "Processing epoch 5\n",
      "Processing epoch 6\n",
      "Processing epoch 7\n",
      "Processing epoch 8\n",
      "Processing epoch 9\n",
      "Processing epoch 0\n",
      "Processing epoch 1\n",
      "Processing epoch 2\n",
      "Processing epoch 3\n",
      "Processing epoch 4\n",
      "Processing epoch 5\n",
      "Processing epoch 6\n",
      "Processing epoch 7\n",
      "Processing epoch 8\n",
      "Processing epoch 9\n",
      "Processing epoch 0\n",
      "Processing epoch 1\n",
      "Processing epoch 2\n",
      "Processing epoch 3\n",
      "Processing epoch 4\n",
      "Processing epoch 5\n",
      "Processing epoch 6\n",
      "Processing epoch 7\n",
      "Processing epoch 8\n",
      "Processing epoch 9\n",
      "Evaluating RMSE, MAE of algorithm SVD on 3 split(s).\n",
      "\n",
      "                  Fold 1  Fold 2  Fold 3  Mean    Std     \n",
      "RMSE (testset)    0.7190  0.7230  0.7308  0.7243  0.0049  \n",
      "MAE (testset)     0.6147  0.6143  0.6253  0.6181  0.0051  \n",
      "Fit time          0.01    0.00    0.00    0.00    0.00    \n",
      "Test time         0.00    0.00    0.00    0.00    0.00    \n"
     ]
    },
    {
     "data": {
      "text/plain": [
       "{'test_rmse': array([0.71899549, 0.72301997, 0.73081863]),\n",
       " 'test_mae': array([0.61470442, 0.6143286 , 0.6253304 ]),\n",
       " 'fit_time': (0.006574153900146484,\n",
       "  0.0031540393829345703,\n",
       "  0.003481149673461914),\n",
       " 'test_time': (0.0015361309051513672,\n",
       "  0.0014159679412841797,\n",
       "  0.0018391609191894531)}"
      ]
     },
     "execution_count": 42,
     "metadata": {},
     "output_type": "execute_result"
    }
   ],
   "source": [
    "from surprise import SVD\n",
    "from surprise.model_selection import cross_validate\n",
    "\n",
    "svd = SVD(verbose=True, n_epochs=10)\n",
    "cross_validate(svd, data, measures=['RMSE', 'MAE'], cv=3, verbose=True)"
   ]
  },
  {
   "cell_type": "code",
   "execution_count": 43,
   "metadata": {},
   "outputs": [
    {
     "name": "stdout",
     "output_type": "stream",
     "text": [
      "Processing epoch 0\n",
      "Processing epoch 1\n",
      "Processing epoch 2\n",
      "Processing epoch 3\n",
      "Processing epoch 4\n",
      "Processing epoch 5\n",
      "Processing epoch 6\n",
      "Processing epoch 7\n",
      "Processing epoch 8\n",
      "Processing epoch 9\n"
     ]
    },
    {
     "data": {
      "text/plain": [
       "<surprise.prediction_algorithms.matrix_factorization.SVD at 0x29aa078e0>"
      ]
     },
     "execution_count": 43,
     "metadata": {},
     "output_type": "execute_result"
    }
   ],
   "source": [
    "trainset = data.build_full_trainset()\n",
    "svd.fit(trainset)"
   ]
  },
  {
   "cell_type": "code",
   "execution_count": 44,
   "metadata": {},
   "outputs": [
    {
     "data": {
      "text/plain": [
       "Prediction(uid=10, iid=100, r_ui=None, est=1.1998277347114557, details={'was_impossible': False})"
      ]
     },
     "execution_count": 44,
     "metadata": {},
     "output_type": "execute_result"
    }
   ],
   "source": [
    "svd.predict(uid=10, iid=100)"
   ]
  },
  {
   "cell_type": "code",
   "execution_count": 45,
   "metadata": {},
   "outputs": [
    {
     "name": "stdout",
     "output_type": "stream",
     "text": [
      "     userID  placeID  rating  food_rating  service_rating   latitude  \\\n",
      "0     U1077   135085       2            2               2  22.150802   \n",
      "1     U1077   135038       2            2               1  22.155651   \n",
      "2     U1077   132825       2            2               2  22.147392   \n",
      "3     U1077   135060       1            2               2  22.156883   \n",
      "4     U1068   135104       1            1               2  23.752982   \n",
      "...     ...      ...     ...          ...             ...        ...   \n",
      "1156  U1043   132630       1            1               1  23.752931   \n",
      "1157  U1011   132715       1            1               0  23.732423   \n",
      "1158  U1068   132733       1            1               0  23.752707   \n",
      "1159  U1068   132594       1            1               1  23.752168   \n",
      "1160  U1068   132660       0            0               0  23.752943   \n",
      "\n",
      "       longitude                                     the_geom_meter  \\\n",
      "0    -100.982680  0101000020957F00009F823DA6094858C18A2D4D37F9A4...   \n",
      "1    -100.977767  0101000020957F0000506149736E4758C1A8BC93DA48A3...   \n",
      "2    -100.983092  0101000020957F00001AD016568C4858C1243261274BA5...   \n",
      "3    -100.978485  0101000020957F00004C95C918394758C17A5C44896AA3...   \n",
      "4     -99.168434  0101000020957F00007CDF5EAFC58157C1645743B23E4F...   \n",
      "...          ...                                                ...   \n",
      "1156  -99.164473  0101000020957F000047206572DE8157C1D3315028254E...   \n",
      "1157  -99.158660  0101000020957F00004609B96F198557C11973490A874D...   \n",
      "1158  -99.162565  0101000020957F0000F2F4110CF28157C1DCFD7C1BA04D...   \n",
      "1159  -99.165709  0101000020957F00003AE4C6DBF48157C1CE38ECC1864E...   \n",
      "1160  -99.164679  0101000020957F00003D7905C9DC8157C13FCD1AB7334E...   \n",
      "\n",
      "                                       name  \\\n",
      "0                    Tortas Locas Hipocampo   \n",
      "1                     Restaurant la Chalita   \n",
      "2                           puesto de tacos   \n",
      "3                   Restaurante Marisco Sam   \n",
      "4                                      vips   \n",
      "...                                     ...   \n",
      "1156                             palomo tec   \n",
      "1157                   tacos de la estacion   \n",
      "1158                          Little Cesarz   \n",
      "1159     tacos de barbacoa enfrente del Tec   \n",
      "1160  carnitas mata calle Emilio Portes Gil   \n",
      "\n",
      "                                     address  ... url Rambience franchise  \\\n",
      "0             Venustiano Carranza 719 Centro  ...   ?  familiar         f   \n",
      "1         Guajardo Sn San Luis Potosi Centro  ...   ?  familiar         f   \n",
      "2     esquina santos degollado y leon guzman  ...   ?  familiar         f   \n",
      "3                 Ignacio Allende 785 Centro  ...   ?  familiar         f   \n",
      "4                                          ?  ...   ?  familiar         t   \n",
      "...                                      ...  ...  ..       ...       ...   \n",
      "1156                 blvrd emilio portes gil  ...   ?  familiar         f   \n",
      "1157                                       ?  ...   ?     quiet         f   \n",
      "1158                                       ?  ...   ?  familiar         t   \n",
      "1159                                       ?  ...   ?  familiar         f   \n",
      "1160                       Emilio Portes Gil  ...   ?  familiar         f   \n",
      "\n",
      "        area other_services Rpayment   Rcuisine         hours  \\\n",
      "0     closed           none     cash  Fast_Food  00:00-00:00;   \n",
      "1     closed           none     cash        NaN  08:00-17:00;   \n",
      "2       open           none     cash    Mexican  09:00-12:00;   \n",
      "3     closed           none     cash    Seafood  11:30-19:00;   \n",
      "4     closed        variety     cash    Mexican  00:00-23:30;   \n",
      "...      ...            ...      ...        ...           ...   \n",
      "1156  closed           none      NaN    Mexican  00:00-23:30;   \n",
      "1157    open           none     cash    Mexican  09:00-16:00;   \n",
      "1158  closed           none     cash   Pizzeria  10:30-22:30;   \n",
      "1159    open           none     cash    Mexican  09:30-23:30;   \n",
      "1160  closed           none      NaN        NaN  00:00-23:30;   \n",
      "\n",
      "                      days parking_lot  \n",
      "0     Mon;Tue;Wed;Thu;Fri;      public  \n",
      "1     Mon;Tue;Wed;Thu;Fri;        none  \n",
      "2     Mon;Tue;Wed;Thu;Fri;        none  \n",
      "3     Mon;Tue;Wed;Thu;Fri;        none  \n",
      "4     Mon;Tue;Wed;Thu;Fri;         yes  \n",
      "...                    ...         ...  \n",
      "1156  Mon;Tue;Wed;Thu;Fri;        none  \n",
      "1157  Mon;Tue;Wed;Thu;Fri;        none  \n",
      "1158  Mon;Tue;Wed;Thu;Fri;         yes  \n",
      "1159  Mon;Tue;Wed;Thu;Fri;      public  \n",
      "1160  Mon;Tue;Wed;Thu;Fri;        none  \n",
      "\n",
      "[1161 rows x 30 columns]\n"
     ]
    }
   ],
   "source": [
    "print(df_ratings)"
   ]
  },
  {
   "cell_type": "code",
   "execution_count": 46,
   "metadata": {},
   "outputs": [
    {
     "data": {
      "text/html": [
       "<div>\n",
       "<style scoped>\n",
       "    .dataframe tbody tr th:only-of-type {\n",
       "        vertical-align: middle;\n",
       "    }\n",
       "\n",
       "    .dataframe tbody tr th {\n",
       "        vertical-align: top;\n",
       "    }\n",
       "\n",
       "    .dataframe thead th {\n",
       "        text-align: right;\n",
       "    }\n",
       "</style>\n",
       "<table border=\"1\" class=\"dataframe\">\n",
       "  <thead>\n",
       "    <tr style=\"text-align: right;\">\n",
       "      <th></th>\n",
       "      <th>userID</th>\n",
       "      <th>placeID</th>\n",
       "      <th>rating</th>\n",
       "      <th>food_rating</th>\n",
       "      <th>service_rating</th>\n",
       "      <th>latitude</th>\n",
       "      <th>longitude</th>\n",
       "      <th>the_geom_meter</th>\n",
       "      <th>name</th>\n",
       "      <th>address</th>\n",
       "      <th>...</th>\n",
       "      <th>url</th>\n",
       "      <th>Rambience</th>\n",
       "      <th>franchise</th>\n",
       "      <th>area</th>\n",
       "      <th>other_services</th>\n",
       "      <th>Rpayment</th>\n",
       "      <th>Rcuisine</th>\n",
       "      <th>hours</th>\n",
       "      <th>days</th>\n",
       "      <th>parking_lot</th>\n",
       "    </tr>\n",
       "  </thead>\n",
       "  <tbody>\n",
       "    <tr>\n",
       "      <th>0</th>\n",
       "      <td>U1077</td>\n",
       "      <td>135085</td>\n",
       "      <td>2</td>\n",
       "      <td>2</td>\n",
       "      <td>2</td>\n",
       "      <td>22.150802</td>\n",
       "      <td>-100.98268</td>\n",
       "      <td>0101000020957F00009F823DA6094858C18A2D4D37F9A4...</td>\n",
       "      <td>Tortas Locas Hipocampo</td>\n",
       "      <td>Venustiano Carranza 719 Centro</td>\n",
       "      <td>...</td>\n",
       "      <td>?</td>\n",
       "      <td>familiar</td>\n",
       "      <td>f</td>\n",
       "      <td>closed</td>\n",
       "      <td>none</td>\n",
       "      <td>cash</td>\n",
       "      <td>Fast_Food</td>\n",
       "      <td>00:00-00:00;</td>\n",
       "      <td>Mon;Tue;Wed;Thu;Fri;</td>\n",
       "      <td>public</td>\n",
       "    </tr>\n",
       "    <tr>\n",
       "      <th>68</th>\n",
       "      <td>U1108</td>\n",
       "      <td>135085</td>\n",
       "      <td>1</td>\n",
       "      <td>2</td>\n",
       "      <td>1</td>\n",
       "      <td>22.150802</td>\n",
       "      <td>-100.98268</td>\n",
       "      <td>0101000020957F00009F823DA6094858C18A2D4D37F9A4...</td>\n",
       "      <td>Tortas Locas Hipocampo</td>\n",
       "      <td>Venustiano Carranza 719 Centro</td>\n",
       "      <td>...</td>\n",
       "      <td>?</td>\n",
       "      <td>familiar</td>\n",
       "      <td>f</td>\n",
       "      <td>closed</td>\n",
       "      <td>none</td>\n",
       "      <td>cash</td>\n",
       "      <td>Fast_Food</td>\n",
       "      <td>00:00-00:00;</td>\n",
       "      <td>Mon;Tue;Wed;Thu;Fri;</td>\n",
       "      <td>public</td>\n",
       "    </tr>\n",
       "    <tr>\n",
       "      <th>211</th>\n",
       "      <td>U1081</td>\n",
       "      <td>135085</td>\n",
       "      <td>1</td>\n",
       "      <td>2</td>\n",
       "      <td>1</td>\n",
       "      <td>22.150802</td>\n",
       "      <td>-100.98268</td>\n",
       "      <td>0101000020957F00009F823DA6094858C18A2D4D37F9A4...</td>\n",
       "      <td>Tortas Locas Hipocampo</td>\n",
       "      <td>Venustiano Carranza 719 Centro</td>\n",
       "      <td>...</td>\n",
       "      <td>?</td>\n",
       "      <td>familiar</td>\n",
       "      <td>f</td>\n",
       "      <td>closed</td>\n",
       "      <td>none</td>\n",
       "      <td>cash</td>\n",
       "      <td>Fast_Food</td>\n",
       "      <td>00:00-00:00;</td>\n",
       "      <td>Mon;Tue;Wed;Thu;Fri;</td>\n",
       "      <td>public</td>\n",
       "    </tr>\n",
       "    <tr>\n",
       "      <th>246</th>\n",
       "      <td>U1056</td>\n",
       "      <td>135085</td>\n",
       "      <td>2</td>\n",
       "      <td>2</td>\n",
       "      <td>2</td>\n",
       "      <td>22.150802</td>\n",
       "      <td>-100.98268</td>\n",
       "      <td>0101000020957F00009F823DA6094858C18A2D4D37F9A4...</td>\n",
       "      <td>Tortas Locas Hipocampo</td>\n",
       "      <td>Venustiano Carranza 719 Centro</td>\n",
       "      <td>...</td>\n",
       "      <td>?</td>\n",
       "      <td>familiar</td>\n",
       "      <td>f</td>\n",
       "      <td>closed</td>\n",
       "      <td>none</td>\n",
       "      <td>cash</td>\n",
       "      <td>Fast_Food</td>\n",
       "      <td>00:00-00:00;</td>\n",
       "      <td>Mon;Tue;Wed;Thu;Fri;</td>\n",
       "      <td>public</td>\n",
       "    </tr>\n",
       "    <tr>\n",
       "      <th>257</th>\n",
       "      <td>U1134</td>\n",
       "      <td>135085</td>\n",
       "      <td>2</td>\n",
       "      <td>1</td>\n",
       "      <td>2</td>\n",
       "      <td>22.150802</td>\n",
       "      <td>-100.98268</td>\n",
       "      <td>0101000020957F00009F823DA6094858C18A2D4D37F9A4...</td>\n",
       "      <td>Tortas Locas Hipocampo</td>\n",
       "      <td>Venustiano Carranza 719 Centro</td>\n",
       "      <td>...</td>\n",
       "      <td>?</td>\n",
       "      <td>familiar</td>\n",
       "      <td>f</td>\n",
       "      <td>closed</td>\n",
       "      <td>none</td>\n",
       "      <td>cash</td>\n",
       "      <td>Fast_Food</td>\n",
       "      <td>00:00-00:00;</td>\n",
       "      <td>Mon;Tue;Wed;Thu;Fri;</td>\n",
       "      <td>public</td>\n",
       "    </tr>\n",
       "    <tr>\n",
       "      <th>347</th>\n",
       "      <td>U1116</td>\n",
       "      <td>135085</td>\n",
       "      <td>2</td>\n",
       "      <td>2</td>\n",
       "      <td>2</td>\n",
       "      <td>22.150802</td>\n",
       "      <td>-100.98268</td>\n",
       "      <td>0101000020957F00009F823DA6094858C18A2D4D37F9A4...</td>\n",
       "      <td>Tortas Locas Hipocampo</td>\n",
       "      <td>Venustiano Carranza 719 Centro</td>\n",
       "      <td>...</td>\n",
       "      <td>?</td>\n",
       "      <td>familiar</td>\n",
       "      <td>f</td>\n",
       "      <td>closed</td>\n",
       "      <td>none</td>\n",
       "      <td>cash</td>\n",
       "      <td>Fast_Food</td>\n",
       "      <td>00:00-00:00;</td>\n",
       "      <td>Mon;Tue;Wed;Thu;Fri;</td>\n",
       "      <td>public</td>\n",
       "    </tr>\n",
       "    <tr>\n",
       "      <th>403</th>\n",
       "      <td>U1132</td>\n",
       "      <td>135085</td>\n",
       "      <td>2</td>\n",
       "      <td>2</td>\n",
       "      <td>2</td>\n",
       "      <td>22.150802</td>\n",
       "      <td>-100.98268</td>\n",
       "      <td>0101000020957F00009F823DA6094858C18A2D4D37F9A4...</td>\n",
       "      <td>Tortas Locas Hipocampo</td>\n",
       "      <td>Venustiano Carranza 719 Centro</td>\n",
       "      <td>...</td>\n",
       "      <td>?</td>\n",
       "      <td>familiar</td>\n",
       "      <td>f</td>\n",
       "      <td>closed</td>\n",
       "      <td>none</td>\n",
       "      <td>cash</td>\n",
       "      <td>Fast_Food</td>\n",
       "      <td>00:00-00:00;</td>\n",
       "      <td>Mon;Tue;Wed;Thu;Fri;</td>\n",
       "      <td>public</td>\n",
       "    </tr>\n",
       "    <tr>\n",
       "      <th>420</th>\n",
       "      <td>U1120</td>\n",
       "      <td>135085</td>\n",
       "      <td>0</td>\n",
       "      <td>0</td>\n",
       "      <td>0</td>\n",
       "      <td>22.150802</td>\n",
       "      <td>-100.98268</td>\n",
       "      <td>0101000020957F00009F823DA6094858C18A2D4D37F9A4...</td>\n",
       "      <td>Tortas Locas Hipocampo</td>\n",
       "      <td>Venustiano Carranza 719 Centro</td>\n",
       "      <td>...</td>\n",
       "      <td>?</td>\n",
       "      <td>familiar</td>\n",
       "      <td>f</td>\n",
       "      <td>closed</td>\n",
       "      <td>none</td>\n",
       "      <td>cash</td>\n",
       "      <td>Fast_Food</td>\n",
       "      <td>00:00-00:00;</td>\n",
       "      <td>Mon;Tue;Wed;Thu;Fri;</td>\n",
       "      <td>public</td>\n",
       "    </tr>\n",
       "    <tr>\n",
       "      <th>450</th>\n",
       "      <td>U1036</td>\n",
       "      <td>135085</td>\n",
       "      <td>2</td>\n",
       "      <td>2</td>\n",
       "      <td>2</td>\n",
       "      <td>22.150802</td>\n",
       "      <td>-100.98268</td>\n",
       "      <td>0101000020957F00009F823DA6094858C18A2D4D37F9A4...</td>\n",
       "      <td>Tortas Locas Hipocampo</td>\n",
       "      <td>Venustiano Carranza 719 Centro</td>\n",
       "      <td>...</td>\n",
       "      <td>?</td>\n",
       "      <td>familiar</td>\n",
       "      <td>f</td>\n",
       "      <td>closed</td>\n",
       "      <td>none</td>\n",
       "      <td>cash</td>\n",
       "      <td>Fast_Food</td>\n",
       "      <td>00:00-00:00;</td>\n",
       "      <td>Mon;Tue;Wed;Thu;Fri;</td>\n",
       "      <td>public</td>\n",
       "    </tr>\n",
       "    <tr>\n",
       "      <th>485</th>\n",
       "      <td>U1084</td>\n",
       "      <td>135085</td>\n",
       "      <td>2</td>\n",
       "      <td>2</td>\n",
       "      <td>2</td>\n",
       "      <td>22.150802</td>\n",
       "      <td>-100.98268</td>\n",
       "      <td>0101000020957F00009F823DA6094858C18A2D4D37F9A4...</td>\n",
       "      <td>Tortas Locas Hipocampo</td>\n",
       "      <td>Venustiano Carranza 719 Centro</td>\n",
       "      <td>...</td>\n",
       "      <td>?</td>\n",
       "      <td>familiar</td>\n",
       "      <td>f</td>\n",
       "      <td>closed</td>\n",
       "      <td>none</td>\n",
       "      <td>cash</td>\n",
       "      <td>Fast_Food</td>\n",
       "      <td>00:00-00:00;</td>\n",
       "      <td>Mon;Tue;Wed;Thu;Fri;</td>\n",
       "      <td>public</td>\n",
       "    </tr>\n",
       "    <tr>\n",
       "      <th>504</th>\n",
       "      <td>U1113</td>\n",
       "      <td>135085</td>\n",
       "      <td>1</td>\n",
       "      <td>2</td>\n",
       "      <td>1</td>\n",
       "      <td>22.150802</td>\n",
       "      <td>-100.98268</td>\n",
       "      <td>0101000020957F00009F823DA6094858C18A2D4D37F9A4...</td>\n",
       "      <td>Tortas Locas Hipocampo</td>\n",
       "      <td>Venustiano Carranza 719 Centro</td>\n",
       "      <td>...</td>\n",
       "      <td>?</td>\n",
       "      <td>familiar</td>\n",
       "      <td>f</td>\n",
       "      <td>closed</td>\n",
       "      <td>none</td>\n",
       "      <td>cash</td>\n",
       "      <td>Fast_Food</td>\n",
       "      <td>00:00-00:00;</td>\n",
       "      <td>Mon;Tue;Wed;Thu;Fri;</td>\n",
       "      <td>public</td>\n",
       "    </tr>\n",
       "    <tr>\n",
       "      <th>512</th>\n",
       "      <td>U1104</td>\n",
       "      <td>135085</td>\n",
       "      <td>2</td>\n",
       "      <td>2</td>\n",
       "      <td>1</td>\n",
       "      <td>22.150802</td>\n",
       "      <td>-100.98268</td>\n",
       "      <td>0101000020957F00009F823DA6094858C18A2D4D37F9A4...</td>\n",
       "      <td>Tortas Locas Hipocampo</td>\n",
       "      <td>Venustiano Carranza 719 Centro</td>\n",
       "      <td>...</td>\n",
       "      <td>?</td>\n",
       "      <td>familiar</td>\n",
       "      <td>f</td>\n",
       "      <td>closed</td>\n",
       "      <td>none</td>\n",
       "      <td>cash</td>\n",
       "      <td>Fast_Food</td>\n",
       "      <td>00:00-00:00;</td>\n",
       "      <td>Mon;Tue;Wed;Thu;Fri;</td>\n",
       "      <td>public</td>\n",
       "    </tr>\n",
       "    <tr>\n",
       "      <th>530</th>\n",
       "      <td>U1106</td>\n",
       "      <td>135085</td>\n",
       "      <td>2</td>\n",
       "      <td>2</td>\n",
       "      <td>2</td>\n",
       "      <td>22.150802</td>\n",
       "      <td>-100.98268</td>\n",
       "      <td>0101000020957F00009F823DA6094858C18A2D4D37F9A4...</td>\n",
       "      <td>Tortas Locas Hipocampo</td>\n",
       "      <td>Venustiano Carranza 719 Centro</td>\n",
       "      <td>...</td>\n",
       "      <td>?</td>\n",
       "      <td>familiar</td>\n",
       "      <td>f</td>\n",
       "      <td>closed</td>\n",
       "      <td>none</td>\n",
       "      <td>cash</td>\n",
       "      <td>Fast_Food</td>\n",
       "      <td>00:00-00:00;</td>\n",
       "      <td>Mon;Tue;Wed;Thu;Fri;</td>\n",
       "      <td>public</td>\n",
       "    </tr>\n",
       "    <tr>\n",
       "      <th>547</th>\n",
       "      <td>U1045</td>\n",
       "      <td>135085</td>\n",
       "      <td>2</td>\n",
       "      <td>2</td>\n",
       "      <td>2</td>\n",
       "      <td>22.150802</td>\n",
       "      <td>-100.98268</td>\n",
       "      <td>0101000020957F00009F823DA6094858C18A2D4D37F9A4...</td>\n",
       "      <td>Tortas Locas Hipocampo</td>\n",
       "      <td>Venustiano Carranza 719 Centro</td>\n",
       "      <td>...</td>\n",
       "      <td>?</td>\n",
       "      <td>familiar</td>\n",
       "      <td>f</td>\n",
       "      <td>closed</td>\n",
       "      <td>none</td>\n",
       "      <td>cash</td>\n",
       "      <td>Fast_Food</td>\n",
       "      <td>00:00-00:00;</td>\n",
       "      <td>Mon;Tue;Wed;Thu;Fri;</td>\n",
       "      <td>public</td>\n",
       "    </tr>\n",
       "    <tr>\n",
       "      <th>573</th>\n",
       "      <td>U1016</td>\n",
       "      <td>135085</td>\n",
       "      <td>2</td>\n",
       "      <td>2</td>\n",
       "      <td>0</td>\n",
       "      <td>22.150802</td>\n",
       "      <td>-100.98268</td>\n",
       "      <td>0101000020957F00009F823DA6094858C18A2D4D37F9A4...</td>\n",
       "      <td>Tortas Locas Hipocampo</td>\n",
       "      <td>Venustiano Carranza 719 Centro</td>\n",
       "      <td>...</td>\n",
       "      <td>?</td>\n",
       "      <td>familiar</td>\n",
       "      <td>f</td>\n",
       "      <td>closed</td>\n",
       "      <td>none</td>\n",
       "      <td>cash</td>\n",
       "      <td>Fast_Food</td>\n",
       "      <td>00:00-00:00;</td>\n",
       "      <td>Mon;Tue;Wed;Thu;Fri;</td>\n",
       "      <td>public</td>\n",
       "    </tr>\n",
       "    <tr>\n",
       "      <th>592</th>\n",
       "      <td>U1007</td>\n",
       "      <td>135085</td>\n",
       "      <td>1</td>\n",
       "      <td>2</td>\n",
       "      <td>0</td>\n",
       "      <td>22.150802</td>\n",
       "      <td>-100.98268</td>\n",
       "      <td>0101000020957F00009F823DA6094858C18A2D4D37F9A4...</td>\n",
       "      <td>Tortas Locas Hipocampo</td>\n",
       "      <td>Venustiano Carranza 719 Centro</td>\n",
       "      <td>...</td>\n",
       "      <td>?</td>\n",
       "      <td>familiar</td>\n",
       "      <td>f</td>\n",
       "      <td>closed</td>\n",
       "      <td>none</td>\n",
       "      <td>cash</td>\n",
       "      <td>Fast_Food</td>\n",
       "      <td>00:00-00:00;</td>\n",
       "      <td>Mon;Tue;Wed;Thu;Fri;</td>\n",
       "      <td>public</td>\n",
       "    </tr>\n",
       "    <tr>\n",
       "      <th>639</th>\n",
       "      <td>U1013</td>\n",
       "      <td>135085</td>\n",
       "      <td>1</td>\n",
       "      <td>2</td>\n",
       "      <td>0</td>\n",
       "      <td>22.150802</td>\n",
       "      <td>-100.98268</td>\n",
       "      <td>0101000020957F00009F823DA6094858C18A2D4D37F9A4...</td>\n",
       "      <td>Tortas Locas Hipocampo</td>\n",
       "      <td>Venustiano Carranza 719 Centro</td>\n",
       "      <td>...</td>\n",
       "      <td>?</td>\n",
       "      <td>familiar</td>\n",
       "      <td>f</td>\n",
       "      <td>closed</td>\n",
       "      <td>none</td>\n",
       "      <td>cash</td>\n",
       "      <td>Fast_Food</td>\n",
       "      <td>00:00-00:00;</td>\n",
       "      <td>Mon;Tue;Wed;Thu;Fri;</td>\n",
       "      <td>public</td>\n",
       "    </tr>\n",
       "    <tr>\n",
       "      <th>688</th>\n",
       "      <td>U1001</td>\n",
       "      <td>135085</td>\n",
       "      <td>0</td>\n",
       "      <td>1</td>\n",
       "      <td>1</td>\n",
       "      <td>22.150802</td>\n",
       "      <td>-100.98268</td>\n",
       "      <td>0101000020957F00009F823DA6094858C18A2D4D37F9A4...</td>\n",
       "      <td>Tortas Locas Hipocampo</td>\n",
       "      <td>Venustiano Carranza 719 Centro</td>\n",
       "      <td>...</td>\n",
       "      <td>?</td>\n",
       "      <td>familiar</td>\n",
       "      <td>f</td>\n",
       "      <td>closed</td>\n",
       "      <td>none</td>\n",
       "      <td>cash</td>\n",
       "      <td>Fast_Food</td>\n",
       "      <td>00:00-00:00;</td>\n",
       "      <td>Mon;Tue;Wed;Thu;Fri;</td>\n",
       "      <td>public</td>\n",
       "    </tr>\n",
       "    <tr>\n",
       "      <th>695</th>\n",
       "      <td>U1135</td>\n",
       "      <td>135085</td>\n",
       "      <td>0</td>\n",
       "      <td>0</td>\n",
       "      <td>0</td>\n",
       "      <td>22.150802</td>\n",
       "      <td>-100.98268</td>\n",
       "      <td>0101000020957F00009F823DA6094858C18A2D4D37F9A4...</td>\n",
       "      <td>Tortas Locas Hipocampo</td>\n",
       "      <td>Venustiano Carranza 719 Centro</td>\n",
       "      <td>...</td>\n",
       "      <td>?</td>\n",
       "      <td>familiar</td>\n",
       "      <td>f</td>\n",
       "      <td>closed</td>\n",
       "      <td>none</td>\n",
       "      <td>cash</td>\n",
       "      <td>Fast_Food</td>\n",
       "      <td>00:00-00:00;</td>\n",
       "      <td>Mon;Tue;Wed;Thu;Fri;</td>\n",
       "      <td>public</td>\n",
       "    </tr>\n",
       "    <tr>\n",
       "      <th>702</th>\n",
       "      <td>U1032</td>\n",
       "      <td>135085</td>\n",
       "      <td>1</td>\n",
       "      <td>1</td>\n",
       "      <td>1</td>\n",
       "      <td>22.150802</td>\n",
       "      <td>-100.98268</td>\n",
       "      <td>0101000020957F00009F823DA6094858C18A2D4D37F9A4...</td>\n",
       "      <td>Tortas Locas Hipocampo</td>\n",
       "      <td>Venustiano Carranza 719 Centro</td>\n",
       "      <td>...</td>\n",
       "      <td>?</td>\n",
       "      <td>familiar</td>\n",
       "      <td>f</td>\n",
       "      <td>closed</td>\n",
       "      <td>none</td>\n",
       "      <td>cash</td>\n",
       "      <td>Fast_Food</td>\n",
       "      <td>00:00-00:00;</td>\n",
       "      <td>Mon;Tue;Wed;Thu;Fri;</td>\n",
       "      <td>public</td>\n",
       "    </tr>\n",
       "    <tr>\n",
       "      <th>726</th>\n",
       "      <td>U1062</td>\n",
       "      <td>135085</td>\n",
       "      <td>0</td>\n",
       "      <td>0</td>\n",
       "      <td>0</td>\n",
       "      <td>22.150802</td>\n",
       "      <td>-100.98268</td>\n",
       "      <td>0101000020957F00009F823DA6094858C18A2D4D37F9A4...</td>\n",
       "      <td>Tortas Locas Hipocampo</td>\n",
       "      <td>Venustiano Carranza 719 Centro</td>\n",
       "      <td>...</td>\n",
       "      <td>?</td>\n",
       "      <td>familiar</td>\n",
       "      <td>f</td>\n",
       "      <td>closed</td>\n",
       "      <td>none</td>\n",
       "      <td>cash</td>\n",
       "      <td>Fast_Food</td>\n",
       "      <td>00:00-00:00;</td>\n",
       "      <td>Mon;Tue;Wed;Thu;Fri;</td>\n",
       "      <td>public</td>\n",
       "    </tr>\n",
       "    <tr>\n",
       "      <th>730</th>\n",
       "      <td>U1092</td>\n",
       "      <td>135085</td>\n",
       "      <td>0</td>\n",
       "      <td>0</td>\n",
       "      <td>0</td>\n",
       "      <td>22.150802</td>\n",
       "      <td>-100.98268</td>\n",
       "      <td>0101000020957F00009F823DA6094858C18A2D4D37F9A4...</td>\n",
       "      <td>Tortas Locas Hipocampo</td>\n",
       "      <td>Venustiano Carranza 719 Centro</td>\n",
       "      <td>...</td>\n",
       "      <td>?</td>\n",
       "      <td>familiar</td>\n",
       "      <td>f</td>\n",
       "      <td>closed</td>\n",
       "      <td>none</td>\n",
       "      <td>cash</td>\n",
       "      <td>Fast_Food</td>\n",
       "      <td>00:00-00:00;</td>\n",
       "      <td>Mon;Tue;Wed;Thu;Fri;</td>\n",
       "      <td>public</td>\n",
       "    </tr>\n",
       "    <tr>\n",
       "      <th>759</th>\n",
       "      <td>U1109</td>\n",
       "      <td>135085</td>\n",
       "      <td>2</td>\n",
       "      <td>2</td>\n",
       "      <td>2</td>\n",
       "      <td>22.150802</td>\n",
       "      <td>-100.98268</td>\n",
       "      <td>0101000020957F00009F823DA6094858C18A2D4D37F9A4...</td>\n",
       "      <td>Tortas Locas Hipocampo</td>\n",
       "      <td>Venustiano Carranza 719 Centro</td>\n",
       "      <td>...</td>\n",
       "      <td>?</td>\n",
       "      <td>familiar</td>\n",
       "      <td>f</td>\n",
       "      <td>closed</td>\n",
       "      <td>none</td>\n",
       "      <td>cash</td>\n",
       "      <td>Fast_Food</td>\n",
       "      <td>00:00-00:00;</td>\n",
       "      <td>Mon;Tue;Wed;Thu;Fri;</td>\n",
       "      <td>public</td>\n",
       "    </tr>\n",
       "    <tr>\n",
       "      <th>782</th>\n",
       "      <td>U1122</td>\n",
       "      <td>135085</td>\n",
       "      <td>2</td>\n",
       "      <td>2</td>\n",
       "      <td>1</td>\n",
       "      <td>22.150802</td>\n",
       "      <td>-100.98268</td>\n",
       "      <td>0101000020957F00009F823DA6094858C18A2D4D37F9A4...</td>\n",
       "      <td>Tortas Locas Hipocampo</td>\n",
       "      <td>Venustiano Carranza 719 Centro</td>\n",
       "      <td>...</td>\n",
       "      <td>?</td>\n",
       "      <td>familiar</td>\n",
       "      <td>f</td>\n",
       "      <td>closed</td>\n",
       "      <td>none</td>\n",
       "      <td>cash</td>\n",
       "      <td>Fast_Food</td>\n",
       "      <td>00:00-00:00;</td>\n",
       "      <td>Mon;Tue;Wed;Thu;Fri;</td>\n",
       "      <td>public</td>\n",
       "    </tr>\n",
       "    <tr>\n",
       "      <th>790</th>\n",
       "      <td>U1098</td>\n",
       "      <td>135085</td>\n",
       "      <td>1</td>\n",
       "      <td>2</td>\n",
       "      <td>1</td>\n",
       "      <td>22.150802</td>\n",
       "      <td>-100.98268</td>\n",
       "      <td>0101000020957F00009F823DA6094858C18A2D4D37F9A4...</td>\n",
       "      <td>Tortas Locas Hipocampo</td>\n",
       "      <td>Venustiano Carranza 719 Centro</td>\n",
       "      <td>...</td>\n",
       "      <td>?</td>\n",
       "      <td>familiar</td>\n",
       "      <td>f</td>\n",
       "      <td>closed</td>\n",
       "      <td>none</td>\n",
       "      <td>cash</td>\n",
       "      <td>Fast_Food</td>\n",
       "      <td>00:00-00:00;</td>\n",
       "      <td>Mon;Tue;Wed;Thu;Fri;</td>\n",
       "      <td>public</td>\n",
       "    </tr>\n",
       "    <tr>\n",
       "      <th>804</th>\n",
       "      <td>U1033</td>\n",
       "      <td>135085</td>\n",
       "      <td>2</td>\n",
       "      <td>2</td>\n",
       "      <td>2</td>\n",
       "      <td>22.150802</td>\n",
       "      <td>-100.98268</td>\n",
       "      <td>0101000020957F00009F823DA6094858C18A2D4D37F9A4...</td>\n",
       "      <td>Tortas Locas Hipocampo</td>\n",
       "      <td>Venustiano Carranza 719 Centro</td>\n",
       "      <td>...</td>\n",
       "      <td>?</td>\n",
       "      <td>familiar</td>\n",
       "      <td>f</td>\n",
       "      <td>closed</td>\n",
       "      <td>none</td>\n",
       "      <td>cash</td>\n",
       "      <td>Fast_Food</td>\n",
       "      <td>00:00-00:00;</td>\n",
       "      <td>Mon;Tue;Wed;Thu;Fri;</td>\n",
       "      <td>public</td>\n",
       "    </tr>\n",
       "    <tr>\n",
       "      <th>825</th>\n",
       "      <td>U1089</td>\n",
       "      <td>135085</td>\n",
       "      <td>1</td>\n",
       "      <td>1</td>\n",
       "      <td>1</td>\n",
       "      <td>22.150802</td>\n",
       "      <td>-100.98268</td>\n",
       "      <td>0101000020957F00009F823DA6094858C18A2D4D37F9A4...</td>\n",
       "      <td>Tortas Locas Hipocampo</td>\n",
       "      <td>Venustiano Carranza 719 Centro</td>\n",
       "      <td>...</td>\n",
       "      <td>?</td>\n",
       "      <td>familiar</td>\n",
       "      <td>f</td>\n",
       "      <td>closed</td>\n",
       "      <td>none</td>\n",
       "      <td>cash</td>\n",
       "      <td>Fast_Food</td>\n",
       "      <td>00:00-00:00;</td>\n",
       "      <td>Mon;Tue;Wed;Thu;Fri;</td>\n",
       "      <td>public</td>\n",
       "    </tr>\n",
       "    <tr>\n",
       "      <th>855</th>\n",
       "      <td>U1027</td>\n",
       "      <td>135085</td>\n",
       "      <td>1</td>\n",
       "      <td>1</td>\n",
       "      <td>1</td>\n",
       "      <td>22.150802</td>\n",
       "      <td>-100.98268</td>\n",
       "      <td>0101000020957F00009F823DA6094858C18A2D4D37F9A4...</td>\n",
       "      <td>Tortas Locas Hipocampo</td>\n",
       "      <td>Venustiano Carranza 719 Centro</td>\n",
       "      <td>...</td>\n",
       "      <td>?</td>\n",
       "      <td>familiar</td>\n",
       "      <td>f</td>\n",
       "      <td>closed</td>\n",
       "      <td>none</td>\n",
       "      <td>cash</td>\n",
       "      <td>Fast_Food</td>\n",
       "      <td>00:00-00:00;</td>\n",
       "      <td>Mon;Tue;Wed;Thu;Fri;</td>\n",
       "      <td>public</td>\n",
       "    </tr>\n",
       "    <tr>\n",
       "      <th>861</th>\n",
       "      <td>U1029</td>\n",
       "      <td>135085</td>\n",
       "      <td>1</td>\n",
       "      <td>1</td>\n",
       "      <td>1</td>\n",
       "      <td>22.150802</td>\n",
       "      <td>-100.98268</td>\n",
       "      <td>0101000020957F00009F823DA6094858C18A2D4D37F9A4...</td>\n",
       "      <td>Tortas Locas Hipocampo</td>\n",
       "      <td>Venustiano Carranza 719 Centro</td>\n",
       "      <td>...</td>\n",
       "      <td>?</td>\n",
       "      <td>familiar</td>\n",
       "      <td>f</td>\n",
       "      <td>closed</td>\n",
       "      <td>none</td>\n",
       "      <td>cash</td>\n",
       "      <td>Fast_Food</td>\n",
       "      <td>00:00-00:00;</td>\n",
       "      <td>Mon;Tue;Wed;Thu;Fri;</td>\n",
       "      <td>public</td>\n",
       "    </tr>\n",
       "    <tr>\n",
       "      <th>870</th>\n",
       "      <td>U1086</td>\n",
       "      <td>135085</td>\n",
       "      <td>2</td>\n",
       "      <td>1</td>\n",
       "      <td>1</td>\n",
       "      <td>22.150802</td>\n",
       "      <td>-100.98268</td>\n",
       "      <td>0101000020957F00009F823DA6094858C18A2D4D37F9A4...</td>\n",
       "      <td>Tortas Locas Hipocampo</td>\n",
       "      <td>Venustiano Carranza 719 Centro</td>\n",
       "      <td>...</td>\n",
       "      <td>?</td>\n",
       "      <td>familiar</td>\n",
       "      <td>f</td>\n",
       "      <td>closed</td>\n",
       "      <td>none</td>\n",
       "      <td>cash</td>\n",
       "      <td>Fast_Food</td>\n",
       "      <td>00:00-00:00;</td>\n",
       "      <td>Mon;Tue;Wed;Thu;Fri;</td>\n",
       "      <td>public</td>\n",
       "    </tr>\n",
       "    <tr>\n",
       "      <th>882</th>\n",
       "      <td>U1137</td>\n",
       "      <td>135085</td>\n",
       "      <td>2</td>\n",
       "      <td>1</td>\n",
       "      <td>2</td>\n",
       "      <td>22.150802</td>\n",
       "      <td>-100.98268</td>\n",
       "      <td>0101000020957F00009F823DA6094858C18A2D4D37F9A4...</td>\n",
       "      <td>Tortas Locas Hipocampo</td>\n",
       "      <td>Venustiano Carranza 719 Centro</td>\n",
       "      <td>...</td>\n",
       "      <td>?</td>\n",
       "      <td>familiar</td>\n",
       "      <td>f</td>\n",
       "      <td>closed</td>\n",
       "      <td>none</td>\n",
       "      <td>cash</td>\n",
       "      <td>Fast_Food</td>\n",
       "      <td>00:00-00:00;</td>\n",
       "      <td>Mon;Tue;Wed;Thu;Fri;</td>\n",
       "      <td>public</td>\n",
       "    </tr>\n",
       "    <tr>\n",
       "      <th>922</th>\n",
       "      <td>U1046</td>\n",
       "      <td>135085</td>\n",
       "      <td>1</td>\n",
       "      <td>2</td>\n",
       "      <td>1</td>\n",
       "      <td>22.150802</td>\n",
       "      <td>-100.98268</td>\n",
       "      <td>0101000020957F00009F823DA6094858C18A2D4D37F9A4...</td>\n",
       "      <td>Tortas Locas Hipocampo</td>\n",
       "      <td>Venustiano Carranza 719 Centro</td>\n",
       "      <td>...</td>\n",
       "      <td>?</td>\n",
       "      <td>familiar</td>\n",
       "      <td>f</td>\n",
       "      <td>closed</td>\n",
       "      <td>none</td>\n",
       "      <td>cash</td>\n",
       "      <td>Fast_Food</td>\n",
       "      <td>00:00-00:00;</td>\n",
       "      <td>Mon;Tue;Wed;Thu;Fri;</td>\n",
       "      <td>public</td>\n",
       "    </tr>\n",
       "    <tr>\n",
       "      <th>964</th>\n",
       "      <td>U1090</td>\n",
       "      <td>135085</td>\n",
       "      <td>2</td>\n",
       "      <td>2</td>\n",
       "      <td>2</td>\n",
       "      <td>22.150802</td>\n",
       "      <td>-100.98268</td>\n",
       "      <td>0101000020957F00009F823DA6094858C18A2D4D37F9A4...</td>\n",
       "      <td>Tortas Locas Hipocampo</td>\n",
       "      <td>Venustiano Carranza 719 Centro</td>\n",
       "      <td>...</td>\n",
       "      <td>?</td>\n",
       "      <td>familiar</td>\n",
       "      <td>f</td>\n",
       "      <td>closed</td>\n",
       "      <td>none</td>\n",
       "      <td>cash</td>\n",
       "      <td>Fast_Food</td>\n",
       "      <td>00:00-00:00;</td>\n",
       "      <td>Mon;Tue;Wed;Thu;Fri;</td>\n",
       "      <td>public</td>\n",
       "    </tr>\n",
       "    <tr>\n",
       "      <th>999</th>\n",
       "      <td>U1059</td>\n",
       "      <td>135085</td>\n",
       "      <td>2</td>\n",
       "      <td>2</td>\n",
       "      <td>2</td>\n",
       "      <td>22.150802</td>\n",
       "      <td>-100.98268</td>\n",
       "      <td>0101000020957F00009F823DA6094858C18A2D4D37F9A4...</td>\n",
       "      <td>Tortas Locas Hipocampo</td>\n",
       "      <td>Venustiano Carranza 719 Centro</td>\n",
       "      <td>...</td>\n",
       "      <td>?</td>\n",
       "      <td>familiar</td>\n",
       "      <td>f</td>\n",
       "      <td>closed</td>\n",
       "      <td>none</td>\n",
       "      <td>cash</td>\n",
       "      <td>Fast_Food</td>\n",
       "      <td>00:00-00:00;</td>\n",
       "      <td>Mon;Tue;Wed;Thu;Fri;</td>\n",
       "      <td>public</td>\n",
       "    </tr>\n",
       "    <tr>\n",
       "      <th>1050</th>\n",
       "      <td>U1049</td>\n",
       "      <td>135085</td>\n",
       "      <td>0</td>\n",
       "      <td>0</td>\n",
       "      <td>0</td>\n",
       "      <td>22.150802</td>\n",
       "      <td>-100.98268</td>\n",
       "      <td>0101000020957F00009F823DA6094858C18A2D4D37F9A4...</td>\n",
       "      <td>Tortas Locas Hipocampo</td>\n",
       "      <td>Venustiano Carranza 719 Centro</td>\n",
       "      <td>...</td>\n",
       "      <td>?</td>\n",
       "      <td>familiar</td>\n",
       "      <td>f</td>\n",
       "      <td>closed</td>\n",
       "      <td>none</td>\n",
       "      <td>cash</td>\n",
       "      <td>Fast_Food</td>\n",
       "      <td>00:00-00:00;</td>\n",
       "      <td>Mon;Tue;Wed;Thu;Fri;</td>\n",
       "      <td>public</td>\n",
       "    </tr>\n",
       "    <tr>\n",
       "      <th>1071</th>\n",
       "      <td>U1002</td>\n",
       "      <td>135085</td>\n",
       "      <td>1</td>\n",
       "      <td>1</td>\n",
       "      <td>1</td>\n",
       "      <td>22.150802</td>\n",
       "      <td>-100.98268</td>\n",
       "      <td>0101000020957F00009F823DA6094858C18A2D4D37F9A4...</td>\n",
       "      <td>Tortas Locas Hipocampo</td>\n",
       "      <td>Venustiano Carranza 719 Centro</td>\n",
       "      <td>...</td>\n",
       "      <td>?</td>\n",
       "      <td>familiar</td>\n",
       "      <td>f</td>\n",
       "      <td>closed</td>\n",
       "      <td>none</td>\n",
       "      <td>cash</td>\n",
       "      <td>Fast_Food</td>\n",
       "      <td>00:00-00:00;</td>\n",
       "      <td>Mon;Tue;Wed;Thu;Fri;</td>\n",
       "      <td>public</td>\n",
       "    </tr>\n",
       "  </tbody>\n",
       "</table>\n",
       "<p>36 rows × 30 columns</p>\n",
       "</div>"
      ],
      "text/plain": [
       "     userID  placeID  rating  food_rating  service_rating   latitude  \\\n",
       "0     U1077   135085       2            2               2  22.150802   \n",
       "68    U1108   135085       1            2               1  22.150802   \n",
       "211   U1081   135085       1            2               1  22.150802   \n",
       "246   U1056   135085       2            2               2  22.150802   \n",
       "257   U1134   135085       2            1               2  22.150802   \n",
       "347   U1116   135085       2            2               2  22.150802   \n",
       "403   U1132   135085       2            2               2  22.150802   \n",
       "420   U1120   135085       0            0               0  22.150802   \n",
       "450   U1036   135085       2            2               2  22.150802   \n",
       "485   U1084   135085       2            2               2  22.150802   \n",
       "504   U1113   135085       1            2               1  22.150802   \n",
       "512   U1104   135085       2            2               1  22.150802   \n",
       "530   U1106   135085       2            2               2  22.150802   \n",
       "547   U1045   135085       2            2               2  22.150802   \n",
       "573   U1016   135085       2            2               0  22.150802   \n",
       "592   U1007   135085       1            2               0  22.150802   \n",
       "639   U1013   135085       1            2               0  22.150802   \n",
       "688   U1001   135085       0            1               1  22.150802   \n",
       "695   U1135   135085       0            0               0  22.150802   \n",
       "702   U1032   135085       1            1               1  22.150802   \n",
       "726   U1062   135085       0            0               0  22.150802   \n",
       "730   U1092   135085       0            0               0  22.150802   \n",
       "759   U1109   135085       2            2               2  22.150802   \n",
       "782   U1122   135085       2            2               1  22.150802   \n",
       "790   U1098   135085       1            2               1  22.150802   \n",
       "804   U1033   135085       2            2               2  22.150802   \n",
       "825   U1089   135085       1            1               1  22.150802   \n",
       "855   U1027   135085       1            1               1  22.150802   \n",
       "861   U1029   135085       1            1               1  22.150802   \n",
       "870   U1086   135085       2            1               1  22.150802   \n",
       "882   U1137   135085       2            1               2  22.150802   \n",
       "922   U1046   135085       1            2               1  22.150802   \n",
       "964   U1090   135085       2            2               2  22.150802   \n",
       "999   U1059   135085       2            2               2  22.150802   \n",
       "1050  U1049   135085       0            0               0  22.150802   \n",
       "1071  U1002   135085       1            1               1  22.150802   \n",
       "\n",
       "      longitude                                     the_geom_meter  \\\n",
       "0    -100.98268  0101000020957F00009F823DA6094858C18A2D4D37F9A4...   \n",
       "68   -100.98268  0101000020957F00009F823DA6094858C18A2D4D37F9A4...   \n",
       "211  -100.98268  0101000020957F00009F823DA6094858C18A2D4D37F9A4...   \n",
       "246  -100.98268  0101000020957F00009F823DA6094858C18A2D4D37F9A4...   \n",
       "257  -100.98268  0101000020957F00009F823DA6094858C18A2D4D37F9A4...   \n",
       "347  -100.98268  0101000020957F00009F823DA6094858C18A2D4D37F9A4...   \n",
       "403  -100.98268  0101000020957F00009F823DA6094858C18A2D4D37F9A4...   \n",
       "420  -100.98268  0101000020957F00009F823DA6094858C18A2D4D37F9A4...   \n",
       "450  -100.98268  0101000020957F00009F823DA6094858C18A2D4D37F9A4...   \n",
       "485  -100.98268  0101000020957F00009F823DA6094858C18A2D4D37F9A4...   \n",
       "504  -100.98268  0101000020957F00009F823DA6094858C18A2D4D37F9A4...   \n",
       "512  -100.98268  0101000020957F00009F823DA6094858C18A2D4D37F9A4...   \n",
       "530  -100.98268  0101000020957F00009F823DA6094858C18A2D4D37F9A4...   \n",
       "547  -100.98268  0101000020957F00009F823DA6094858C18A2D4D37F9A4...   \n",
       "573  -100.98268  0101000020957F00009F823DA6094858C18A2D4D37F9A4...   \n",
       "592  -100.98268  0101000020957F00009F823DA6094858C18A2D4D37F9A4...   \n",
       "639  -100.98268  0101000020957F00009F823DA6094858C18A2D4D37F9A4...   \n",
       "688  -100.98268  0101000020957F00009F823DA6094858C18A2D4D37F9A4...   \n",
       "695  -100.98268  0101000020957F00009F823DA6094858C18A2D4D37F9A4...   \n",
       "702  -100.98268  0101000020957F00009F823DA6094858C18A2D4D37F9A4...   \n",
       "726  -100.98268  0101000020957F00009F823DA6094858C18A2D4D37F9A4...   \n",
       "730  -100.98268  0101000020957F00009F823DA6094858C18A2D4D37F9A4...   \n",
       "759  -100.98268  0101000020957F00009F823DA6094858C18A2D4D37F9A4...   \n",
       "782  -100.98268  0101000020957F00009F823DA6094858C18A2D4D37F9A4...   \n",
       "790  -100.98268  0101000020957F00009F823DA6094858C18A2D4D37F9A4...   \n",
       "804  -100.98268  0101000020957F00009F823DA6094858C18A2D4D37F9A4...   \n",
       "825  -100.98268  0101000020957F00009F823DA6094858C18A2D4D37F9A4...   \n",
       "855  -100.98268  0101000020957F00009F823DA6094858C18A2D4D37F9A4...   \n",
       "861  -100.98268  0101000020957F00009F823DA6094858C18A2D4D37F9A4...   \n",
       "870  -100.98268  0101000020957F00009F823DA6094858C18A2D4D37F9A4...   \n",
       "882  -100.98268  0101000020957F00009F823DA6094858C18A2D4D37F9A4...   \n",
       "922  -100.98268  0101000020957F00009F823DA6094858C18A2D4D37F9A4...   \n",
       "964  -100.98268  0101000020957F00009F823DA6094858C18A2D4D37F9A4...   \n",
       "999  -100.98268  0101000020957F00009F823DA6094858C18A2D4D37F9A4...   \n",
       "1050 -100.98268  0101000020957F00009F823DA6094858C18A2D4D37F9A4...   \n",
       "1071 -100.98268  0101000020957F00009F823DA6094858C18A2D4D37F9A4...   \n",
       "\n",
       "                        name                         address  ... url  \\\n",
       "0     Tortas Locas Hipocampo  Venustiano Carranza 719 Centro  ...   ?   \n",
       "68    Tortas Locas Hipocampo  Venustiano Carranza 719 Centro  ...   ?   \n",
       "211   Tortas Locas Hipocampo  Venustiano Carranza 719 Centro  ...   ?   \n",
       "246   Tortas Locas Hipocampo  Venustiano Carranza 719 Centro  ...   ?   \n",
       "257   Tortas Locas Hipocampo  Venustiano Carranza 719 Centro  ...   ?   \n",
       "347   Tortas Locas Hipocampo  Venustiano Carranza 719 Centro  ...   ?   \n",
       "403   Tortas Locas Hipocampo  Venustiano Carranza 719 Centro  ...   ?   \n",
       "420   Tortas Locas Hipocampo  Venustiano Carranza 719 Centro  ...   ?   \n",
       "450   Tortas Locas Hipocampo  Venustiano Carranza 719 Centro  ...   ?   \n",
       "485   Tortas Locas Hipocampo  Venustiano Carranza 719 Centro  ...   ?   \n",
       "504   Tortas Locas Hipocampo  Venustiano Carranza 719 Centro  ...   ?   \n",
       "512   Tortas Locas Hipocampo  Venustiano Carranza 719 Centro  ...   ?   \n",
       "530   Tortas Locas Hipocampo  Venustiano Carranza 719 Centro  ...   ?   \n",
       "547   Tortas Locas Hipocampo  Venustiano Carranza 719 Centro  ...   ?   \n",
       "573   Tortas Locas Hipocampo  Venustiano Carranza 719 Centro  ...   ?   \n",
       "592   Tortas Locas Hipocampo  Venustiano Carranza 719 Centro  ...   ?   \n",
       "639   Tortas Locas Hipocampo  Venustiano Carranza 719 Centro  ...   ?   \n",
       "688   Tortas Locas Hipocampo  Venustiano Carranza 719 Centro  ...   ?   \n",
       "695   Tortas Locas Hipocampo  Venustiano Carranza 719 Centro  ...   ?   \n",
       "702   Tortas Locas Hipocampo  Venustiano Carranza 719 Centro  ...   ?   \n",
       "726   Tortas Locas Hipocampo  Venustiano Carranza 719 Centro  ...   ?   \n",
       "730   Tortas Locas Hipocampo  Venustiano Carranza 719 Centro  ...   ?   \n",
       "759   Tortas Locas Hipocampo  Venustiano Carranza 719 Centro  ...   ?   \n",
       "782   Tortas Locas Hipocampo  Venustiano Carranza 719 Centro  ...   ?   \n",
       "790   Tortas Locas Hipocampo  Venustiano Carranza 719 Centro  ...   ?   \n",
       "804   Tortas Locas Hipocampo  Venustiano Carranza 719 Centro  ...   ?   \n",
       "825   Tortas Locas Hipocampo  Venustiano Carranza 719 Centro  ...   ?   \n",
       "855   Tortas Locas Hipocampo  Venustiano Carranza 719 Centro  ...   ?   \n",
       "861   Tortas Locas Hipocampo  Venustiano Carranza 719 Centro  ...   ?   \n",
       "870   Tortas Locas Hipocampo  Venustiano Carranza 719 Centro  ...   ?   \n",
       "882   Tortas Locas Hipocampo  Venustiano Carranza 719 Centro  ...   ?   \n",
       "922   Tortas Locas Hipocampo  Venustiano Carranza 719 Centro  ...   ?   \n",
       "964   Tortas Locas Hipocampo  Venustiano Carranza 719 Centro  ...   ?   \n",
       "999   Tortas Locas Hipocampo  Venustiano Carranza 719 Centro  ...   ?   \n",
       "1050  Tortas Locas Hipocampo  Venustiano Carranza 719 Centro  ...   ?   \n",
       "1071  Tortas Locas Hipocampo  Venustiano Carranza 719 Centro  ...   ?   \n",
       "\n",
       "     Rambience franchise    area other_services Rpayment   Rcuisine  \\\n",
       "0     familiar         f  closed           none     cash  Fast_Food   \n",
       "68    familiar         f  closed           none     cash  Fast_Food   \n",
       "211   familiar         f  closed           none     cash  Fast_Food   \n",
       "246   familiar         f  closed           none     cash  Fast_Food   \n",
       "257   familiar         f  closed           none     cash  Fast_Food   \n",
       "347   familiar         f  closed           none     cash  Fast_Food   \n",
       "403   familiar         f  closed           none     cash  Fast_Food   \n",
       "420   familiar         f  closed           none     cash  Fast_Food   \n",
       "450   familiar         f  closed           none     cash  Fast_Food   \n",
       "485   familiar         f  closed           none     cash  Fast_Food   \n",
       "504   familiar         f  closed           none     cash  Fast_Food   \n",
       "512   familiar         f  closed           none     cash  Fast_Food   \n",
       "530   familiar         f  closed           none     cash  Fast_Food   \n",
       "547   familiar         f  closed           none     cash  Fast_Food   \n",
       "573   familiar         f  closed           none     cash  Fast_Food   \n",
       "592   familiar         f  closed           none     cash  Fast_Food   \n",
       "639   familiar         f  closed           none     cash  Fast_Food   \n",
       "688   familiar         f  closed           none     cash  Fast_Food   \n",
       "695   familiar         f  closed           none     cash  Fast_Food   \n",
       "702   familiar         f  closed           none     cash  Fast_Food   \n",
       "726   familiar         f  closed           none     cash  Fast_Food   \n",
       "730   familiar         f  closed           none     cash  Fast_Food   \n",
       "759   familiar         f  closed           none     cash  Fast_Food   \n",
       "782   familiar         f  closed           none     cash  Fast_Food   \n",
       "790   familiar         f  closed           none     cash  Fast_Food   \n",
       "804   familiar         f  closed           none     cash  Fast_Food   \n",
       "825   familiar         f  closed           none     cash  Fast_Food   \n",
       "855   familiar         f  closed           none     cash  Fast_Food   \n",
       "861   familiar         f  closed           none     cash  Fast_Food   \n",
       "870   familiar         f  closed           none     cash  Fast_Food   \n",
       "882   familiar         f  closed           none     cash  Fast_Food   \n",
       "922   familiar         f  closed           none     cash  Fast_Food   \n",
       "964   familiar         f  closed           none     cash  Fast_Food   \n",
       "999   familiar         f  closed           none     cash  Fast_Food   \n",
       "1050  familiar         f  closed           none     cash  Fast_Food   \n",
       "1071  familiar         f  closed           none     cash  Fast_Food   \n",
       "\n",
       "             hours                  days parking_lot  \n",
       "0     00:00-00:00;  Mon;Tue;Wed;Thu;Fri;      public  \n",
       "68    00:00-00:00;  Mon;Tue;Wed;Thu;Fri;      public  \n",
       "211   00:00-00:00;  Mon;Tue;Wed;Thu;Fri;      public  \n",
       "246   00:00-00:00;  Mon;Tue;Wed;Thu;Fri;      public  \n",
       "257   00:00-00:00;  Mon;Tue;Wed;Thu;Fri;      public  \n",
       "347   00:00-00:00;  Mon;Tue;Wed;Thu;Fri;      public  \n",
       "403   00:00-00:00;  Mon;Tue;Wed;Thu;Fri;      public  \n",
       "420   00:00-00:00;  Mon;Tue;Wed;Thu;Fri;      public  \n",
       "450   00:00-00:00;  Mon;Tue;Wed;Thu;Fri;      public  \n",
       "485   00:00-00:00;  Mon;Tue;Wed;Thu;Fri;      public  \n",
       "504   00:00-00:00;  Mon;Tue;Wed;Thu;Fri;      public  \n",
       "512   00:00-00:00;  Mon;Tue;Wed;Thu;Fri;      public  \n",
       "530   00:00-00:00;  Mon;Tue;Wed;Thu;Fri;      public  \n",
       "547   00:00-00:00;  Mon;Tue;Wed;Thu;Fri;      public  \n",
       "573   00:00-00:00;  Mon;Tue;Wed;Thu;Fri;      public  \n",
       "592   00:00-00:00;  Mon;Tue;Wed;Thu;Fri;      public  \n",
       "639   00:00-00:00;  Mon;Tue;Wed;Thu;Fri;      public  \n",
       "688   00:00-00:00;  Mon;Tue;Wed;Thu;Fri;      public  \n",
       "695   00:00-00:00;  Mon;Tue;Wed;Thu;Fri;      public  \n",
       "702   00:00-00:00;  Mon;Tue;Wed;Thu;Fri;      public  \n",
       "726   00:00-00:00;  Mon;Tue;Wed;Thu;Fri;      public  \n",
       "730   00:00-00:00;  Mon;Tue;Wed;Thu;Fri;      public  \n",
       "759   00:00-00:00;  Mon;Tue;Wed;Thu;Fri;      public  \n",
       "782   00:00-00:00;  Mon;Tue;Wed;Thu;Fri;      public  \n",
       "790   00:00-00:00;  Mon;Tue;Wed;Thu;Fri;      public  \n",
       "804   00:00-00:00;  Mon;Tue;Wed;Thu;Fri;      public  \n",
       "825   00:00-00:00;  Mon;Tue;Wed;Thu;Fri;      public  \n",
       "855   00:00-00:00;  Mon;Tue;Wed;Thu;Fri;      public  \n",
       "861   00:00-00:00;  Mon;Tue;Wed;Thu;Fri;      public  \n",
       "870   00:00-00:00;  Mon;Tue;Wed;Thu;Fri;      public  \n",
       "882   00:00-00:00;  Mon;Tue;Wed;Thu;Fri;      public  \n",
       "922   00:00-00:00;  Mon;Tue;Wed;Thu;Fri;      public  \n",
       "964   00:00-00:00;  Mon;Tue;Wed;Thu;Fri;      public  \n",
       "999   00:00-00:00;  Mon;Tue;Wed;Thu;Fri;      public  \n",
       "1050  00:00-00:00;  Mon;Tue;Wed;Thu;Fri;      public  \n",
       "1071  00:00-00:00;  Mon;Tue;Wed;Thu;Fri;      public  \n",
       "\n",
       "[36 rows x 30 columns]"
      ]
     },
     "execution_count": 46,
     "metadata": {},
     "output_type": "execute_result"
    }
   ],
   "source": [
    "df_ratings.loc[df_ratings.name.str.contains('Tortas Locas Hipocampo'), :]"
   ]
  },
  {
   "cell_type": "markdown",
   "metadata": {},
   "source": [
    "# Generando recomendaciones"
   ]
  },
  {
   "cell_type": "code",
   "execution_count": 47,
   "metadata": {},
   "outputs": [],
   "source": [
    "import difflib\n",
    "import random\n",
    "\n",
    "def get_local_id(nombre_local, metadata):\n",
    "    \n",
    "    existing_names = list(metadata['name'].values)\n",
    "    closest_names = difflib.get_close_matches(nombre_local, existing_names)\n",
    "    place_id = metadata[metadata['name'] == closest_names[0]]['placeID'].values[0]\n",
    "    return place_id\n",
    "\n",
    "def get_local_info(local_id, metadata):\n",
    "    \n",
    "    local_info = metadata[metadata['placeID'] == local_id][['id', 'latitude', \n",
    "                                                    'longitude', 'address']]\n",
    "    return local_info.to_dict(orient='records')\n",
    "\n",
    "def predict_review(userID, local_name, model, metadata):\n",
    "    \n",
    "    placeID = get_local_id(local_name, metadata)\n",
    "    review_prediction = model.predict(uid=userID, iid=placeID)\n",
    "    return review_prediction.est\n",
    "\n",
    "def generate_recommendation(userID, model, metadata, thresh=4):\n",
    "    \n",
    "    local_names = list(metadata['name'].values)\n",
    "    random.shuffle(local_names)\n",
    "    \n",
    "    for local_name in local_names:\n",
    "        rating = predict_review(userID, local_name, model, metadata)\n",
    "        if rating >= thresh:\n",
    "            placeID = get_local_id(local_name, metadata)\n",
    "            return get_local_info(placeID, metadata)"
   ]
  },
  {
   "cell_type": "code",
   "execution_count": 48,
   "metadata": {},
   "outputs": [],
   "source": [
    "generate_recommendation('U1103', svd, locales, 4.8)"
   ]
  },
  {
   "cell_type": "markdown",
   "metadata": {},
   "source": [
    "# TSNE"
   ]
  },
  {
   "cell_type": "code",
   "execution_count": 49,
   "metadata": {},
   "outputs": [
    {
     "name": "stdout",
     "output_type": "stream",
     "text": [
      "[t-SNE] Computing 91 nearest neighbors...\n",
      "[t-SNE] Indexed 130 samples in 0.002s...\n",
      "[t-SNE] Computed neighbors for 130 samples in 0.023s...\n",
      "[t-SNE] Computed conditional probabilities for sample 130 / 130\n",
      "[t-SNE] Mean sigma: 0.340636\n",
      "[t-SNE] Computed conditional probabilities in 0.012s\n",
      "[t-SNE] Iteration 50: error = 65.2019043, gradient norm = 0.5178632 (50 iterations in 0.242s)\n",
      "[t-SNE] Iteration 100: error = 72.0670242, gradient norm = 0.4796251 (50 iterations in 0.025s)\n",
      "[t-SNE] Iteration 150: error = 68.9939270, gradient norm = 0.5036790 (50 iterations in 0.026s)\n",
      "[t-SNE] Iteration 200: error = 68.3035431, gradient norm = 0.9036630 (50 iterations in 0.024s)\n",
      "[t-SNE] Iteration 250: error = 63.6606064, gradient norm = 0.9610781 (50 iterations in 0.025s)\n",
      "[t-SNE] KL divergence after 250 iterations with early exaggeration: 63.660606\n",
      "[t-SNE] Iteration 300: error = 1.1925300, gradient norm = 0.0091300 (50 iterations in 0.024s)\n",
      "[t-SNE] Iteration 350: error = 1.0223398, gradient norm = 0.0078065 (50 iterations in 0.021s)\n",
      "[t-SNE] Iteration 400: error = 0.9902333, gradient norm = 0.0019581 (50 iterations in 0.025s)\n",
      "[t-SNE] Iteration 450: error = 0.9809000, gradient norm = 0.0031937 (50 iterations in 0.029s)\n",
      "[t-SNE] Iteration 500: error = 0.9767153, gradient norm = 0.0007424 (50 iterations in 0.045s)\n",
      "[t-SNE] KL divergence after 500 iterations: 0.976715\n"
     ]
    }
   ],
   "source": [
    "from sklearn.manifold import TSNE\n",
    "\n",
    "tsne = TSNE(n_components=2, n_iter=500, verbose=3, random_state=1)\n",
    "locales_embedding = tsne.fit_transform(svd.qi)\n",
    "projection = pd.DataFrame(columns=['x', 'y'], data=locales_embedding)\n",
    "projection['nombreGenerado'] = locales['name']"
   ]
  },
  {
   "cell_type": "code",
   "execution_count": 50,
   "metadata": {},
   "outputs": [
    {
     "data": {
      "application/vnd.plotly.v1+json": {
       "config": {
        "plotlyServerURL": "https://plot.ly"
       },
       "data": [
        {
         "hovertemplate": "x=%{x}<br>y=%{y}<extra></extra>",
         "legendgroup": "",
         "marker": {
          "color": "#636efa",
          "symbol": "circle"
         },
         "mode": "markers",
         "name": "",
         "orientation": "v",
         "showlegend": false,
         "type": "scatter",
         "x": [
          0.12866945564746857,
          -1.8260955810546875,
          -0.32254472374916077,
          -0.3059288263320923,
          0.9706811904907227,
          0.3368890881538391,
          0.5129464864730835,
          -3.3017075061798096,
          -1.4331845045089722,
          -0.3371163606643677,
          0.9347501397132874,
          0.6433152556419373,
          -1.238586187362671,
          0.06696594506502151,
          -1.804964542388916,
          2.2740325927734375,
          -1.8146620988845825,
          -0.2895463705062866,
          -1.2410496473312378,
          -2.526426076889038,
          -2.3202641010284424,
          -0.3973151445388794,
          -1.2517958879470825,
          -0.19126173853874207,
          1.1949214935302734,
          0.7801526784896851,
          -0.257599413394928,
          -1.429966688156128,
          -1.6381114721298218,
          0.9945380687713623,
          2.052868127822876,
          0.2396734356880188,
          -1.057615041732788,
          2.656696319580078,
          -1.7193567752838135,
          -0.3020225763320923,
          1.2907662391662598,
          0.6439269781112671,
          0.0008508851751685143,
          -2.5397071838378906,
          0.6023921370506287,
          -1.137750506401062,
          2.8464996814727783,
          -2.3032588958740234,
          -0.4709344804286957,
          -0.8750040531158447,
          -1.6789219379425049,
          -2.336487054824829,
          -0.3691875636577606,
          0.6608201861381531,
          -0.934428334236145,
          -3.1688530445098877,
          -1.6251659393310547,
          1.1183006763458252,
          -2.6073336601257324,
          -1.9456019401550293,
          -2.3838083744049072,
          1.1304538249969482,
          -1.9910011291503906,
          -2.4531779289245605,
          2.1308071613311768,
          0.5275077819824219,
          -0.07316244393587112,
          -1.394117832183838,
          -3.3336081504821777,
          0.8321629166603088,
          -3.7132177352905273,
          -1.3329684734344482,
          0.772379457950592,
          0.3419795334339142,
          -1.3016459941864014,
          -0.6343334913253784,
          0.4098964333534241,
          0.5084617733955383,
          -0.5965277552604675,
          -1.2596632242202759,
          -0.2949826121330261,
          -3.065842628479004,
          1.3013098239898682,
          0.26729273796081543,
          2.3395283222198486,
          0.24087125062942505,
          -0.6671904921531677,
          0.5683507323265076,
          -1.3769831657409668,
          -0.13463760912418365,
          -0.5592914819717407,
          -0.1546078473329544,
          -0.12681567668914795,
          0.3226625919342041,
          -0.7704492211341858,
          0.3757166266441345,
          1.6312611103057861,
          -0.16274455189704895,
          -1.2600703239440918,
          1.5556830167770386,
          -0.9922693967819214,
          0.35395896434783936,
          0.20168332755565643,
          0.4384407103061676,
          -1.5755888223648071,
          -1.5965114831924438,
          -2.6834466457366943,
          1.4445123672485352,
          -1.4576621055603027,
          0.42344751954078674,
          -2.3114471435546875,
          1.6124597787857056,
          2.360731363296509,
          1.2601115703582764,
          -0.6841170191764832,
          2.0255367755889893,
          1.7935336828231812,
          1.260557770729065,
          2.490664482116699,
          3.003192663192749,
          -1.2617719173431396,
          1.7352019548416138,
          -0.6858264803886414,
          1.0217678546905518,
          -2.1797144412994385,
          2.058877468109131,
          -0.9382168054580688,
          -0.3017871379852295,
          -0.5752131342887878,
          -1.7133285999298096,
          -1.275761604309082,
          2.147188901901245,
          1.0772801637649536,
          1.5331288576126099
         ],
         "xaxis": "x",
         "y": [
          -0.8884111046791077,
          -0.32882633805274963,
          -3.4043781757354736,
          1.2762044668197632,
          1.9059768915176392,
          -1.6593035459518433,
          -1.1850965023040771,
          0.021292880177497864,
          0.3252286911010742,
          -1.2986395359039307,
          0.29370179772377014,
          -3.107089042663574,
          0.38167449831962585,
          -0.4169858694076538,
          -0.7335766553878784,
          -0.5384169220924377,
          -2.186793327331543,
          -0.7724530696868896,
          1.33962881565094,
          -1.8701826333999634,
          1.6786189079284668,
          -2.3307154178619385,
          -3.1301512718200684,
          -1.1453155279159546,
          0.964621901512146,
          -1.5252045392990112,
          -0.30721038579940796,
          -2.9396443367004395,
          -0.8237365484237671,
          -1.0881447792053223,
          0.37171775102615356,
          -2.441269636154175,
          -1.5440315008163452,
          0.07936610281467438,
          -2.7898428440093994,
          0.15962554514408112,
          0.1708223521709442,
          0.12193313241004944,
          0.3655983805656433,
          -0.4277895987033844,
          -3.1580746173858643,
          -1.905739188194275,
          -1.8839060068130493,
          -1.421915888786316,
          2.578144073486328,
          1.346719741821289,
          -0.23178164660930634,
          -0.9107556343078613,
          -1.6741869449615479,
          -0.8383288979530334,
          -2.1763532161712646,
          -1.395671010017395,
          1.9039382934570312,
          -0.9873889088630676,
          0.22328317165374756,
          1.4585072994232178,
          -1.1865415573120117,
          1.3528138399124146,
          0.4839571714401245,
          0.7658215761184692,
          1.985047459602356,
          0.9451407790184021,
          -0.32875189185142517,
          2.588907241821289,
          1.1839123964309692,
          2.6047110557556152,
          -0.59349125623703,
          1.125687837600708,
          1.0854713916778564,
          -2.3318705558776855,
          0.5002253651618958,
          1.6277966499328613,
          0.7485678195953369,
          -2.1789298057556152,
          2.6314632892608643,
          0.026290539652109146,
          -2.157758951187134,
          1.2404944896697998,
          -1.9020264148712158,
          1.7198525667190552,
          -1.1208401918411255,
          0.7294706702232361,
          0.39322054386138916,
          1.5754649639129639,
          -0.9918113350868225,
          -0.6379703283309937,
          0.6026315093040466,
          -1.3310272693634033,
          -1.0074758529663086,
          2.4618752002716064,
          0.7797477841377258,
          0.8143966794013977,
          2.094540596008301,
          2.446866512298584,
          -1.8780555725097656,
          -2.3414275646209717,
          -1.2919565439224243,
          -0.9649906158447266,
          1.5056313276290894,
          0.2506548762321472,
          1.021976113319397,
          -0.04205181449651718,
          -0.43401432037353516,
          0.06631170213222504,
          -0.48003676533699036,
          2.189822196960449,
          2.448174238204956,
          -0.9824071526527405,
          -1.0968923568725586,
          -3.136375904083252,
          -1.37626051902771,
          0.2809607982635498,
          -0.24809427559375763,
          -0.3798235058784485,
          1.0741721391677856,
          -0.09370020776987076,
          0.5387877225875854,
          0.7245337963104248,
          0.6592738032341003,
          -0.07506900280714035,
          -2.9746553897857666,
          0.49572718143463135,
          -0.2676529884338379,
          -3.052152156829834,
          -1.1155846118927002,
          -1.0891963243484497,
          1.512683391571045,
          -2.347536087036133,
          -1.4134743213653564,
          -0.7909270524978638
         ],
         "yaxis": "y"
        }
       ],
       "layout": {
        "legend": {
         "tracegroupgap": 0
        },
        "margin": {
         "t": 60
        },
        "template": {
         "data": {
          "bar": [
           {
            "error_x": {
             "color": "#2a3f5f"
            },
            "error_y": {
             "color": "#2a3f5f"
            },
            "marker": {
             "line": {
              "color": "#E5ECF6",
              "width": 0.5
             },
             "pattern": {
              "fillmode": "overlay",
              "size": 10,
              "solidity": 0.2
             }
            },
            "type": "bar"
           }
          ],
          "barpolar": [
           {
            "marker": {
             "line": {
              "color": "#E5ECF6",
              "width": 0.5
             },
             "pattern": {
              "fillmode": "overlay",
              "size": 10,
              "solidity": 0.2
             }
            },
            "type": "barpolar"
           }
          ],
          "carpet": [
           {
            "aaxis": {
             "endlinecolor": "#2a3f5f",
             "gridcolor": "white",
             "linecolor": "white",
             "minorgridcolor": "white",
             "startlinecolor": "#2a3f5f"
            },
            "baxis": {
             "endlinecolor": "#2a3f5f",
             "gridcolor": "white",
             "linecolor": "white",
             "minorgridcolor": "white",
             "startlinecolor": "#2a3f5f"
            },
            "type": "carpet"
           }
          ],
          "choropleth": [
           {
            "colorbar": {
             "outlinewidth": 0,
             "ticks": ""
            },
            "type": "choropleth"
           }
          ],
          "contour": [
           {
            "colorbar": {
             "outlinewidth": 0,
             "ticks": ""
            },
            "colorscale": [
             [
              0,
              "#0d0887"
             ],
             [
              0.1111111111111111,
              "#46039f"
             ],
             [
              0.2222222222222222,
              "#7201a8"
             ],
             [
              0.3333333333333333,
              "#9c179e"
             ],
             [
              0.4444444444444444,
              "#bd3786"
             ],
             [
              0.5555555555555556,
              "#d8576b"
             ],
             [
              0.6666666666666666,
              "#ed7953"
             ],
             [
              0.7777777777777778,
              "#fb9f3a"
             ],
             [
              0.8888888888888888,
              "#fdca26"
             ],
             [
              1,
              "#f0f921"
             ]
            ],
            "type": "contour"
           }
          ],
          "contourcarpet": [
           {
            "colorbar": {
             "outlinewidth": 0,
             "ticks": ""
            },
            "type": "contourcarpet"
           }
          ],
          "heatmap": [
           {
            "colorbar": {
             "outlinewidth": 0,
             "ticks": ""
            },
            "colorscale": [
             [
              0,
              "#0d0887"
             ],
             [
              0.1111111111111111,
              "#46039f"
             ],
             [
              0.2222222222222222,
              "#7201a8"
             ],
             [
              0.3333333333333333,
              "#9c179e"
             ],
             [
              0.4444444444444444,
              "#bd3786"
             ],
             [
              0.5555555555555556,
              "#d8576b"
             ],
             [
              0.6666666666666666,
              "#ed7953"
             ],
             [
              0.7777777777777778,
              "#fb9f3a"
             ],
             [
              0.8888888888888888,
              "#fdca26"
             ],
             [
              1,
              "#f0f921"
             ]
            ],
            "type": "heatmap"
           }
          ],
          "heatmapgl": [
           {
            "colorbar": {
             "outlinewidth": 0,
             "ticks": ""
            },
            "colorscale": [
             [
              0,
              "#0d0887"
             ],
             [
              0.1111111111111111,
              "#46039f"
             ],
             [
              0.2222222222222222,
              "#7201a8"
             ],
             [
              0.3333333333333333,
              "#9c179e"
             ],
             [
              0.4444444444444444,
              "#bd3786"
             ],
             [
              0.5555555555555556,
              "#d8576b"
             ],
             [
              0.6666666666666666,
              "#ed7953"
             ],
             [
              0.7777777777777778,
              "#fb9f3a"
             ],
             [
              0.8888888888888888,
              "#fdca26"
             ],
             [
              1,
              "#f0f921"
             ]
            ],
            "type": "heatmapgl"
           }
          ],
          "histogram": [
           {
            "marker": {
             "pattern": {
              "fillmode": "overlay",
              "size": 10,
              "solidity": 0.2
             }
            },
            "type": "histogram"
           }
          ],
          "histogram2d": [
           {
            "colorbar": {
             "outlinewidth": 0,
             "ticks": ""
            },
            "colorscale": [
             [
              0,
              "#0d0887"
             ],
             [
              0.1111111111111111,
              "#46039f"
             ],
             [
              0.2222222222222222,
              "#7201a8"
             ],
             [
              0.3333333333333333,
              "#9c179e"
             ],
             [
              0.4444444444444444,
              "#bd3786"
             ],
             [
              0.5555555555555556,
              "#d8576b"
             ],
             [
              0.6666666666666666,
              "#ed7953"
             ],
             [
              0.7777777777777778,
              "#fb9f3a"
             ],
             [
              0.8888888888888888,
              "#fdca26"
             ],
             [
              1,
              "#f0f921"
             ]
            ],
            "type": "histogram2d"
           }
          ],
          "histogram2dcontour": [
           {
            "colorbar": {
             "outlinewidth": 0,
             "ticks": ""
            },
            "colorscale": [
             [
              0,
              "#0d0887"
             ],
             [
              0.1111111111111111,
              "#46039f"
             ],
             [
              0.2222222222222222,
              "#7201a8"
             ],
             [
              0.3333333333333333,
              "#9c179e"
             ],
             [
              0.4444444444444444,
              "#bd3786"
             ],
             [
              0.5555555555555556,
              "#d8576b"
             ],
             [
              0.6666666666666666,
              "#ed7953"
             ],
             [
              0.7777777777777778,
              "#fb9f3a"
             ],
             [
              0.8888888888888888,
              "#fdca26"
             ],
             [
              1,
              "#f0f921"
             ]
            ],
            "type": "histogram2dcontour"
           }
          ],
          "mesh3d": [
           {
            "colorbar": {
             "outlinewidth": 0,
             "ticks": ""
            },
            "type": "mesh3d"
           }
          ],
          "parcoords": [
           {
            "line": {
             "colorbar": {
              "outlinewidth": 0,
              "ticks": ""
             }
            },
            "type": "parcoords"
           }
          ],
          "pie": [
           {
            "automargin": true,
            "type": "pie"
           }
          ],
          "scatter": [
           {
            "fillpattern": {
             "fillmode": "overlay",
             "size": 10,
             "solidity": 0.2
            },
            "type": "scatter"
           }
          ],
          "scatter3d": [
           {
            "line": {
             "colorbar": {
              "outlinewidth": 0,
              "ticks": ""
             }
            },
            "marker": {
             "colorbar": {
              "outlinewidth": 0,
              "ticks": ""
             }
            },
            "type": "scatter3d"
           }
          ],
          "scattercarpet": [
           {
            "marker": {
             "colorbar": {
              "outlinewidth": 0,
              "ticks": ""
             }
            },
            "type": "scattercarpet"
           }
          ],
          "scattergeo": [
           {
            "marker": {
             "colorbar": {
              "outlinewidth": 0,
              "ticks": ""
             }
            },
            "type": "scattergeo"
           }
          ],
          "scattergl": [
           {
            "marker": {
             "colorbar": {
              "outlinewidth": 0,
              "ticks": ""
             }
            },
            "type": "scattergl"
           }
          ],
          "scattermapbox": [
           {
            "marker": {
             "colorbar": {
              "outlinewidth": 0,
              "ticks": ""
             }
            },
            "type": "scattermapbox"
           }
          ],
          "scatterpolar": [
           {
            "marker": {
             "colorbar": {
              "outlinewidth": 0,
              "ticks": ""
             }
            },
            "type": "scatterpolar"
           }
          ],
          "scatterpolargl": [
           {
            "marker": {
             "colorbar": {
              "outlinewidth": 0,
              "ticks": ""
             }
            },
            "type": "scatterpolargl"
           }
          ],
          "scatterternary": [
           {
            "marker": {
             "colorbar": {
              "outlinewidth": 0,
              "ticks": ""
             }
            },
            "type": "scatterternary"
           }
          ],
          "surface": [
           {
            "colorbar": {
             "outlinewidth": 0,
             "ticks": ""
            },
            "colorscale": [
             [
              0,
              "#0d0887"
             ],
             [
              0.1111111111111111,
              "#46039f"
             ],
             [
              0.2222222222222222,
              "#7201a8"
             ],
             [
              0.3333333333333333,
              "#9c179e"
             ],
             [
              0.4444444444444444,
              "#bd3786"
             ],
             [
              0.5555555555555556,
              "#d8576b"
             ],
             [
              0.6666666666666666,
              "#ed7953"
             ],
             [
              0.7777777777777778,
              "#fb9f3a"
             ],
             [
              0.8888888888888888,
              "#fdca26"
             ],
             [
              1,
              "#f0f921"
             ]
            ],
            "type": "surface"
           }
          ],
          "table": [
           {
            "cells": {
             "fill": {
              "color": "#EBF0F8"
             },
             "line": {
              "color": "white"
             }
            },
            "header": {
             "fill": {
              "color": "#C8D4E3"
             },
             "line": {
              "color": "white"
             }
            },
            "type": "table"
           }
          ]
         },
         "layout": {
          "annotationdefaults": {
           "arrowcolor": "#2a3f5f",
           "arrowhead": 0,
           "arrowwidth": 1
          },
          "autotypenumbers": "strict",
          "coloraxis": {
           "colorbar": {
            "outlinewidth": 0,
            "ticks": ""
           }
          },
          "colorscale": {
           "diverging": [
            [
             0,
             "#8e0152"
            ],
            [
             0.1,
             "#c51b7d"
            ],
            [
             0.2,
             "#de77ae"
            ],
            [
             0.3,
             "#f1b6da"
            ],
            [
             0.4,
             "#fde0ef"
            ],
            [
             0.5,
             "#f7f7f7"
            ],
            [
             0.6,
             "#e6f5d0"
            ],
            [
             0.7,
             "#b8e186"
            ],
            [
             0.8,
             "#7fbc41"
            ],
            [
             0.9,
             "#4d9221"
            ],
            [
             1,
             "#276419"
            ]
           ],
           "sequential": [
            [
             0,
             "#0d0887"
            ],
            [
             0.1111111111111111,
             "#46039f"
            ],
            [
             0.2222222222222222,
             "#7201a8"
            ],
            [
             0.3333333333333333,
             "#9c179e"
            ],
            [
             0.4444444444444444,
             "#bd3786"
            ],
            [
             0.5555555555555556,
             "#d8576b"
            ],
            [
             0.6666666666666666,
             "#ed7953"
            ],
            [
             0.7777777777777778,
             "#fb9f3a"
            ],
            [
             0.8888888888888888,
             "#fdca26"
            ],
            [
             1,
             "#f0f921"
            ]
           ],
           "sequentialminus": [
            [
             0,
             "#0d0887"
            ],
            [
             0.1111111111111111,
             "#46039f"
            ],
            [
             0.2222222222222222,
             "#7201a8"
            ],
            [
             0.3333333333333333,
             "#9c179e"
            ],
            [
             0.4444444444444444,
             "#bd3786"
            ],
            [
             0.5555555555555556,
             "#d8576b"
            ],
            [
             0.6666666666666666,
             "#ed7953"
            ],
            [
             0.7777777777777778,
             "#fb9f3a"
            ],
            [
             0.8888888888888888,
             "#fdca26"
            ],
            [
             1,
             "#f0f921"
            ]
           ]
          },
          "colorway": [
           "#636efa",
           "#EF553B",
           "#00cc96",
           "#ab63fa",
           "#FFA15A",
           "#19d3f3",
           "#FF6692",
           "#B6E880",
           "#FF97FF",
           "#FECB52"
          ],
          "font": {
           "color": "#2a3f5f"
          },
          "geo": {
           "bgcolor": "white",
           "lakecolor": "white",
           "landcolor": "#E5ECF6",
           "showlakes": true,
           "showland": true,
           "subunitcolor": "white"
          },
          "hoverlabel": {
           "align": "left"
          },
          "hovermode": "closest",
          "mapbox": {
           "style": "light"
          },
          "paper_bgcolor": "white",
          "plot_bgcolor": "#E5ECF6",
          "polar": {
           "angularaxis": {
            "gridcolor": "white",
            "linecolor": "white",
            "ticks": ""
           },
           "bgcolor": "#E5ECF6",
           "radialaxis": {
            "gridcolor": "white",
            "linecolor": "white",
            "ticks": ""
           }
          },
          "scene": {
           "xaxis": {
            "backgroundcolor": "#E5ECF6",
            "gridcolor": "white",
            "gridwidth": 2,
            "linecolor": "white",
            "showbackground": true,
            "ticks": "",
            "zerolinecolor": "white"
           },
           "yaxis": {
            "backgroundcolor": "#E5ECF6",
            "gridcolor": "white",
            "gridwidth": 2,
            "linecolor": "white",
            "showbackground": true,
            "ticks": "",
            "zerolinecolor": "white"
           },
           "zaxis": {
            "backgroundcolor": "#E5ECF6",
            "gridcolor": "white",
            "gridwidth": 2,
            "linecolor": "white",
            "showbackground": true,
            "ticks": "",
            "zerolinecolor": "white"
           }
          },
          "shapedefaults": {
           "line": {
            "color": "#2a3f5f"
           }
          },
          "ternary": {
           "aaxis": {
            "gridcolor": "white",
            "linecolor": "white",
            "ticks": ""
           },
           "baxis": {
            "gridcolor": "white",
            "linecolor": "white",
            "ticks": ""
           },
           "bgcolor": "#E5ECF6",
           "caxis": {
            "gridcolor": "white",
            "linecolor": "white",
            "ticks": ""
           }
          },
          "title": {
           "x": 0.05
          },
          "xaxis": {
           "automargin": true,
           "gridcolor": "white",
           "linecolor": "white",
           "ticks": "",
           "title": {
            "standoff": 15
           },
           "zerolinecolor": "white",
           "zerolinewidth": 2
          },
          "yaxis": {
           "automargin": true,
           "gridcolor": "white",
           "linecolor": "white",
           "ticks": "",
           "title": {
            "standoff": 15
           },
           "zerolinecolor": "white",
           "zerolinewidth": 2
          }
         }
        },
        "xaxis": {
         "anchor": "y",
         "domain": [
          0,
          1
         ],
         "title": {
          "text": "x"
         }
        },
        "yaxis": {
         "anchor": "x",
         "domain": [
          0,
          1
         ],
         "title": {
          "text": "y"
         }
        }
       }
      }
     },
     "metadata": {},
     "output_type": "display_data"
    }
   ],
   "source": [
    "import plotly.express as px\n",
    "import datapane as dp\n",
    "\n",
    "fig = px.scatter(\n",
    "    projection, x='x', y='y'\n",
    ")\n",
    "fig.show()\n",
    "\n",
    "report = dp.Report(dp.Plot(fig) )"
   ]
  },
  {
   "cell_type": "code",
   "execution_count": 51,
   "metadata": {},
   "outputs": [],
   "source": [
    "from collections import defaultdict\n",
    "from surprise import Dataset, SVD\n",
    "\n",
    "def get_top_n(predictions, n=10):\n",
    "    \"\"\"Return the top-N recommendation for each user from a set of predictions.\n",
    "\n",
    "    Args:\n",
    "        predictions(list of Prediction objects): The list of predictions, as\n",
    "            returned by the test method of an algorithm.\n",
    "        n(int): The number of recommendation to output for each user. Default\n",
    "            is 10.\n",
    "\n",
    "    Returns:\n",
    "    A dict where keys are user (raw) ids and values are lists of tuples:\n",
    "        [(raw item id, rating estimation), ...] of size n.\n",
    "    \"\"\"\n",
    "\n",
    "    # First map the predictions to each user.\n",
    "    top_n = defaultdict(list)\n",
    "    for uid, iid, true_r, est, _ in predictions:\n",
    "        top_n[uid].append((iid, est))\n",
    "\n",
    "    # Then sort the predictions for each user and retrieve the k highest ones.\n",
    "    for uid, user_ratings in top_n.items():\n",
    "        user_ratings.sort(key=lambda x: x[1], reverse=True)\n",
    "        top_n[uid] = user_ratings[:n]\n",
    "\n",
    "    return top_n"
   ]
  },
  {
   "cell_type": "code",
   "execution_count": 52,
   "metadata": {},
   "outputs": [
    {
     "data": {
      "text/plain": [
       "<surprise.prediction_algorithms.matrix_factorization.SVD at 0x16fb8dd30>"
      ]
     },
     "execution_count": 52,
     "metadata": {},
     "output_type": "execute_result"
    }
   ],
   "source": [
    "algo = SVD()\n",
    "algo.fit(trainset)"
   ]
  },
  {
   "cell_type": "code",
   "execution_count": 53,
   "metadata": {},
   "outputs": [],
   "source": [
    "locales_visitados_usuario=df_ratings.loc[(df_ratings.userID=='U1077'),'placeID']\n",
    "locales_no_visitados_usuario=df_ratings.loc[~df_ratings.placeID.isin(locales_visitados_usuario),'placeID'].unique()\n",
    "\n",
    "pred=[]\n",
    "for local in locales_no_visitados_usuario:\n",
    "    pred.append(svd.predict(uid='U1077', iid=local))"
   ]
  },
  {
   "cell_type": "code",
   "execution_count": 54,
   "metadata": {},
   "outputs": [
    {
     "data": {
      "text/plain": [
       "[Prediction(uid='U1077', iid=135104, r_ui=None, est=1.1916909001291283, details={'was_impossible': False}),\n",
       " Prediction(uid='U1077', iid=132740, r_ui=None, est=1.1828408230965723, details={'was_impossible': False}),\n",
       " Prediction(uid='U1077', iid=132663, r_ui=None, est=1.1247909770465814, details={'was_impossible': False}),\n",
       " Prediction(uid='U1077', iid=132732, r_ui=None, est=1.2340521365990846, details={'was_impossible': False}),\n",
       " Prediction(uid='U1077', iid=132630, r_ui=None, est=1.3006094835627149, details={'was_impossible': False}),\n",
       " Prediction(uid='U1077', iid=132584, r_ui=None, est=1.2057335942064469, details={'was_impossible': False}),\n",
       " Prediction(uid='U1077', iid=132733, r_ui=None, est=1.2882349023688437, details={'was_impossible': False}),\n",
       " Prediction(uid='U1077', iid=132560, r_ui=None, est=1.1697006618995214, details={'was_impossible': False}),\n",
       " Prediction(uid='U1077', iid=132613, r_ui=None, est=1.21971884982658, details={'was_impossible': False}),\n",
       " Prediction(uid='U1077', iid=132667, r_ui=None, est=1.4646596256738484, details={'was_impossible': False}),\n",
       " Prediction(uid='U1077', iid=132660, r_ui=None, est=1.2354740584093142, details={'was_impossible': False}),\n",
       " Prediction(uid='U1077', iid=135088, r_ui=None, est=1.2403695687293776, details={'was_impossible': False}),\n",
       " Prediction(uid='U1077', iid=132583, r_ui=None, est=1.2055024113678816, details={'was_impossible': False}),\n",
       " Prediction(uid='U1077', iid=132608, r_ui=None, est=1.2451143163703111, details={'was_impossible': False}),\n",
       " Prediction(uid='U1077', iid=132609, r_ui=None, est=1.2097229270290077, details={'was_impossible': False}),\n",
       " Prediction(uid='U1077', iid=132665, r_ui=None, est=1.0034458291706392, details={'was_impossible': False}),\n",
       " Prediction(uid='U1077', iid=132668, r_ui=None, est=1.2489675043609623, details={'was_impossible': False}),\n",
       " Prediction(uid='U1077', iid=132715, r_ui=None, est=1.3000405822213663, details={'was_impossible': False}),\n",
       " Prediction(uid='U1077', iid=132717, r_ui=None, est=1.1752015478138398, details={'was_impossible': False}),\n",
       " Prediction(uid='U1077', iid=132594, r_ui=None, est=1.1458658543367868, details={'was_impossible': False}),\n",
       " Prediction(uid='U1077', iid=132564, r_ui=None, est=1.2484735229132862, details={'was_impossible': False}),\n",
       " Prediction(uid='U1077', iid=135071, r_ui=None, est=1.2848533203594321, details={'was_impossible': False}),\n",
       " Prediction(uid='U1077', iid=132626, r_ui=None, est=1.2333134489492934, details={'was_impossible': False}),\n",
       " Prediction(uid='U1077', iid=134987, r_ui=None, est=1.4268111672431254, details={'was_impossible': False}),\n",
       " Prediction(uid='U1077', iid=135034, r_ui=None, est=1.410530100625876, details={'was_impossible': False}),\n",
       " Prediction(uid='U1077', iid=132723, r_ui=None, est=1.2522585809036115, details={'was_impossible': False}),\n",
       " Prediction(uid='U1077', iid=135046, r_ui=None, est=1.1784227334487518, details={'was_impossible': False}),\n",
       " Prediction(uid='U1077', iid=135075, r_ui=None, est=1.4223331645665351, details={'was_impossible': False}),\n",
       " Prediction(uid='U1077', iid=132572, r_ui=None, est=1.1473576278747037, details={'was_impossible': False}),\n",
       " Prediction(uid='U1077', iid=135074, r_ui=None, est=1.4121645845043191, details={'was_impossible': False}),\n",
       " Prediction(uid='U1077', iid=135028, r_ui=None, est=1.5083468689707629, details={'was_impossible': False}),\n",
       " Prediction(uid='U1077', iid=135032, r_ui=None, est=1.1213033104085128, details={'was_impossible': False}),\n",
       " Prediction(uid='U1077', iid=135086, r_ui=None, est=1, details={'was_impossible': False}),\n",
       " Prediction(uid='U1077', iid=135058, r_ui=None, est=1.2466674106583688, details={'was_impossible': False}),\n",
       " Prediction(uid='U1077', iid=135001, r_ui=None, est=1.350225054569338, details={'was_impossible': False}),\n",
       " Prediction(uid='U1077', iid=134983, r_ui=None, est=1.1232510582503559, details={'was_impossible': False}),\n",
       " Prediction(uid='U1077', iid=134996, r_ui=None, est=1.3980159792146045, details={'was_impossible': False}),\n",
       " Prediction(uid='U1077', iid=135019, r_ui=None, est=1.3157383545254198, details={'was_impossible': False}),\n",
       " Prediction(uid='U1077', iid=134976, r_ui=None, est=1.2500650866103185, details={'was_impossible': False}),\n",
       " Prediction(uid='U1077', iid=134999, r_ui=None, est=1.236982774337406, details={'was_impossible': False}),\n",
       " Prediction(uid='U1077', iid=135018, r_ui=None, est=1.4051531924201914, details={'was_impossible': False}),\n",
       " Prediction(uid='U1077', iid=135013, r_ui=None, est=1.4169583330238789, details={'was_impossible': False}),\n",
       " Prediction(uid='U1077', iid=134986, r_ui=None, est=1.7672826247813687, details={'was_impossible': False}),\n",
       " Prediction(uid='U1077', iid=132767, r_ui=None, est=1.2149241966261493, details={'was_impossible': False}),\n",
       " Prediction(uid='U1077', iid=135016, r_ui=None, est=1.2056736242936406, details={'was_impossible': False}),\n",
       " Prediction(uid='U1077', iid=135011, r_ui=None, est=1.3560809205122113, details={'was_impossible': False}),\n",
       " Prediction(uid='U1077', iid=135109, r_ui=None, est=1.1563283139024234, details={'was_impossible': False}),\n",
       " Prediction(uid='U1077', iid=134975, r_ui=None, est=1.3342041225364862, details={'was_impossible': False}),\n",
       " Prediction(uid='U1077', iid=135021, r_ui=None, est=1.2026468356552829, details={'was_impossible': False}),\n",
       " Prediction(uid='U1077', iid=132768, r_ui=None, est=1.4376539712273235, details={'was_impossible': False}),\n",
       " Prediction(uid='U1077', iid=135000, r_ui=None, est=1.3689712908656722, details={'was_impossible': False}),\n",
       " Prediction(uid='U1077', iid=132766, r_ui=None, est=1.0066999239706316, details={'was_impossible': False}),\n",
       " Prediction(uid='U1077', iid=134992, r_ui=None, est=1.0679556986486083, details={'was_impossible': False}),\n",
       " Prediction(uid='U1077', iid=132773, r_ui=None, est=1.3429553232527753, details={'was_impossible': False}),\n",
       " Prediction(uid='U1077', iid=132561, r_ui=None, est=1.199693614253579, details={'was_impossible': False}),\n",
       " Prediction(uid='U1077', iid=132706, r_ui=None, est=1.2189270590562582, details={'was_impossible': False}),\n",
       " Prediction(uid='U1077', iid=132654, r_ui=None, est=1, details={'was_impossible': False}),\n",
       " Prediction(uid='U1077', iid=135051, r_ui=None, est=1.3445934880407748, details={'was_impossible': False}),\n",
       " Prediction(uid='U1077', iid=135025, r_ui=None, est=1.5784748355399338, details={'was_impossible': False}),\n",
       " Prediction(uid='U1077', iid=135049, r_ui=None, est=1.3062296746267554, details={'was_impossible': False}),\n",
       " Prediction(uid='U1077', iid=135106, r_ui=None, est=1.2598669437431842, details={'was_impossible': False}),\n",
       " Prediction(uid='U1077', iid=135072, r_ui=None, est=1.281096983194826, details={'was_impossible': False}),\n",
       " Prediction(uid='U1077', iid=132755, r_ui=None, est=1.4723654772865782, details={'was_impossible': False}),\n",
       " Prediction(uid='U1077', iid=135044, r_ui=None, est=1.1916762396211324, details={'was_impossible': False}),\n",
       " Prediction(uid='U1077', iid=135048, r_ui=None, est=1.1563093235462452, details={'was_impossible': False}),\n",
       " Prediction(uid='U1077', iid=135047, r_ui=None, est=1.1154673258489114, details={'was_impossible': False}),\n",
       " Prediction(uid='U1077', iid=132754, r_ui=None, est=1.3190931167806574, details={'was_impossible': False}),\n",
       " Prediction(uid='U1077', iid=135076, r_ui=None, est=1.2569578780738517, details={'was_impossible': False}),\n",
       " Prediction(uid='U1077', iid=135063, r_ui=None, est=1.202422186737909, details={'was_impossible': False}),\n",
       " Prediction(uid='U1077', iid=135042, r_ui=None, est=1.2555794911360858, details={'was_impossible': False}),\n",
       " Prediction(uid='U1077', iid=135053, r_ui=None, est=1.3994137246072391, details={'was_impossible': False}),\n",
       " Prediction(uid='U1077', iid=135081, r_ui=None, est=1.201554926998142, details={'was_impossible': False}),\n",
       " Prediction(uid='U1077', iid=135062, r_ui=None, est=1.2245306933639568, details={'was_impossible': False}),\n",
       " Prediction(uid='U1077', iid=135069, r_ui=None, est=1, details={'was_impossible': False}),\n",
       " Prediction(uid='U1077', iid=135057, r_ui=None, est=1.2934865244397022, details={'was_impossible': False}),\n",
       " Prediction(uid='U1077', iid=135043, r_ui=None, est=1.175859429084824, details={'was_impossible': False}),\n",
       " Prediction(uid='U1077', iid=135039, r_ui=None, est=1.4237856847854715, details={'was_impossible': False}),\n",
       " Prediction(uid='U1077', iid=135052, r_ui=None, est=1.3418547775941465, details={'was_impossible': False}),\n",
       " Prediction(uid='U1077', iid=135030, r_ui=None, est=1.3508483153853594, details={'was_impossible': False}),\n",
       " Prediction(uid='U1077', iid=132830, r_ui=None, est=1.1524038864215287, details={'was_impossible': False}),\n",
       " Prediction(uid='U1077', iid=135108, r_ui=None, est=1.5872493008683406, details={'was_impossible': False}),\n",
       " Prediction(uid='U1077', iid=135050, r_ui=None, est=1.2982656800523955, details={'was_impossible': False}),\n",
       " Prediction(uid='U1077', iid=135070, r_ui=None, est=1.1706255067061622, details={'was_impossible': False}),\n",
       " Prediction(uid='U1077', iid=135041, r_ui=None, est=1.1023014201581294, details={'was_impossible': False}),\n",
       " Prediction(uid='U1077', iid=135082, r_ui=None, est=1.206458074696255, details={'was_impossible': False}),\n",
       " Prediction(uid='U1077', iid=135054, r_ui=None, est=1.2668470886577743, details={'was_impossible': False}),\n",
       " Prediction(uid='U1077', iid=135066, r_ui=None, est=1.2749913790501386, details={'was_impossible': False}),\n",
       " Prediction(uid='U1077', iid=135026, r_ui=None, est=1.4818513177030441, details={'was_impossible': False}),\n",
       " Prediction(uid='U1077', iid=135059, r_ui=None, est=1.2692509003287213, details={'was_impossible': False}),\n",
       " Prediction(uid='U1077', iid=135065, r_ui=None, est=1.2145268544671122, details={'was_impossible': False}),\n",
       " Prediction(uid='U1077', iid=135079, r_ui=None, est=1.1742911280996386, details={'was_impossible': False}),\n",
       " Prediction(uid='U1077', iid=135055, r_ui=None, est=1.4465915785481633, details={'was_impossible': False}),\n",
       " Prediction(uid='U1077', iid=135080, r_ui=None, est=1.2823126776145124, details={'was_impossible': False}),\n",
       " Prediction(uid='U1077', iid=135064, r_ui=None, est=1.073286122173535, details={'was_impossible': False}),\n",
       " Prediction(uid='U1077', iid=135040, r_ui=None, est=1.0086903884330838, details={'was_impossible': False}),\n",
       " Prediction(uid='U1077', iid=135073, r_ui=None, est=1.1425788553208989, details={'was_impossible': False}),\n",
       " Prediction(uid='U1077', iid=135033, r_ui=None, est=1.1865372338038929, details={'was_impossible': False}),\n",
       " Prediction(uid='U1077', iid=135045, r_ui=None, est=1.2839258873971857, details={'was_impossible': False}),\n",
       " Prediction(uid='U1077', iid=132834, r_ui=None, est=1.0894589744464958, details={'was_impossible': False}),\n",
       " Prediction(uid='U1077', iid=132845, r_ui=None, est=1.1130921310416633, details={'was_impossible': False}),\n",
       " Prediction(uid='U1077', iid=132846, r_ui=None, est=1.45621139294436, details={'was_impossible': False}),\n",
       " Prediction(uid='U1077', iid=132847, r_ui=None, est=1.229882183259664, details={'was_impossible': False}),\n",
       " Prediction(uid='U1077', iid=132851, r_ui=None, est=1.361472641621312, details={'was_impossible': False}),\n",
       " Prediction(uid='U1077', iid=132854, r_ui=None, est=1.2599272001373603, details={'was_impossible': False}),\n",
       " Prediction(uid='U1077', iid=132856, r_ui=None, est=1.1401471337516167, details={'was_impossible': False}),\n",
       " Prediction(uid='U1077', iid=132858, r_ui=None, est=1.2322163320017796, details={'was_impossible': False}),\n",
       " Prediction(uid='U1077', iid=132861, r_ui=None, est=1.24370762273974, details={'was_impossible': False}),\n",
       " Prediction(uid='U1077', iid=132862, r_ui=None, est=1.417989694076854, details={'was_impossible': False}),\n",
       " Prediction(uid='U1077', iid=135035, r_ui=None, est=1.2047691420040194, details={'was_impossible': False}),\n",
       " Prediction(uid='U1077', iid=132866, r_ui=None, est=1.3938454380913157, details={'was_impossible': False}),\n",
       " Prediction(uid='U1077', iid=132869, r_ui=None, est=1.1780643042346868, details={'was_impossible': False}),\n",
       " Prediction(uid='U1077', iid=132870, r_ui=None, est=1.1733176336499411, details={'was_impossible': False}),\n",
       " Prediction(uid='U1077', iid=132875, r_ui=None, est=1.1724702694696498, details={'was_impossible': False}),\n",
       " Prediction(uid='U1077', iid=132877, r_ui=None, est=1.228541279068137, details={'was_impossible': False}),\n",
       " Prediction(uid='U1077', iid=132884, r_ui=None, est=1.2351278797474534, details={'was_impossible': False}),\n",
       " Prediction(uid='U1077', iid=132872, r_ui=None, est=1.3191665335111884, details={'was_impossible': False}),\n",
       " Prediction(uid='U1077', iid=132885, r_ui=None, est=1.1305515231698962, details={'was_impossible': False}),\n",
       " Prediction(uid='U1077', iid=132921, r_ui=None, est=1.3179682921750306, details={'was_impossible': False}),\n",
       " Prediction(uid='U1077', iid=132922, r_ui=None, est=1.3361124924140104, details={'was_impossible': False}),\n",
       " Prediction(uid='U1077', iid=132925, r_ui=None, est=1.0978243215564927, details={'was_impossible': False}),\n",
       " Prediction(uid='U1077', iid=132951, r_ui=None, est=1.218863518886334, details={'was_impossible': False}),\n",
       " Prediction(uid='U1077', iid=132937, r_ui=None, est=1.2269262060013004, details={'was_impossible': False}),\n",
       " Prediction(uid='U1077', iid=132954, r_ui=None, est=1.1445798597126515, details={'was_impossible': False}),\n",
       " Prediction(uid='U1077', iid=132955, r_ui=None, est=1.427366814835059, details={'was_impossible': False}),\n",
       " Prediction(uid='U1077', iid=132958, r_ui=None, est=1.4444136230585618, details={'was_impossible': False})]"
      ]
     },
     "execution_count": 54,
     "metadata": {},
     "output_type": "execute_result"
    }
   ],
   "source": [
    "pred"
   ]
  },
  {
   "cell_type": "code",
   "execution_count": 55,
   "metadata": {},
   "outputs": [
    {
     "data": {
      "text/plain": [
       "defaultdict(list,\n",
       "            {'U1077': [(134986, 1.7672826247813687),\n",
       "              (135108, 1.5872493008683406),\n",
       "              (135025, 1.5784748355399338),\n",
       "              (135028, 1.5083468689707629),\n",
       "              (135026, 1.4818513177030441),\n",
       "              (132755, 1.4723654772865782),\n",
       "              (132667, 1.4646596256738484),\n",
       "              (132846, 1.45621139294436),\n",
       "              (135055, 1.4465915785481633),\n",
       "              (132958, 1.4444136230585618)]})"
      ]
     },
     "execution_count": 55,
     "metadata": {},
     "output_type": "execute_result"
    }
   ],
   "source": [
    "top_n = get_top_n(pred, n=10)\n",
    "top_n"
   ]
  },
  {
   "cell_type": "code",
   "execution_count": 56,
   "metadata": {},
   "outputs": [
    {
     "name": "stdout",
     "output_type": "stream",
     "text": [
      "['Restaurant Las Mananitas', 'Potzocalli', 'El Rincon de San Francisco', 'La Virreina', 'la Cantina', 'La Estrella de Dimas', 'little pizza Emilio Portes Gil', 'el lechon potosino ', 'la Cochinita Pibil Restaurante Yucateco', 'tacos los volcanes']\n"
     ]
    }
   ],
   "source": [
    "for uid, user_ratings in top_n.items():\n",
    "    print([locales.loc[locales.placeID==iid,'name'].values[0] for (iid, _) in user_ratings])"
   ]
  },
  {
   "cell_type": "markdown",
   "metadata": {},
   "source": [
    "# Comparacion desempeño algoritmos"
   ]
  },
  {
   "cell_type": "code",
   "execution_count": 57,
   "metadata": {},
   "outputs": [],
   "source": [
    "ratings_data_f = df_ratings.sample(n=100000, replace=True)\n",
    "ratings_data_f = ratings_data_f[['userID', 'placeID', 'rating', 'food_rating', 'service_rating']]\n",
    "reader = Reader(rating_scale=(0, 2))"
   ]
  },
  {
   "cell_type": "code",
   "execution_count": 58,
   "metadata": {},
   "outputs": [],
   "source": [
    "def evaluate(data_train, algo):\n",
    "    cv_results = cross_validate(algo, data_train, measures=['RMSE'], cv=4, verbose=False, n_jobs=-1)\n",
    "    return round(cv_results['test_rmse'].mean(), 3)"
   ]
  },
  {
   "cell_type": "code",
   "execution_count": 59,
   "metadata": {},
   "outputs": [],
   "source": [
    "def precision_recall_at_k(predictions, k=10, threshold=2.0):\n",
    "    user_est_true = defaultdict(list)\n",
    "    for uid, _, true_r, est, _ in predictions:\n",
    "        user_est_true[uid].append((est, true_r))\n",
    "\n",
    "    precisions = dict()\n",
    "    recalls = dict()\n",
    "    for uid, user_ratings in user_est_true.items():\n",
    "        user_ratings.sort(key=lambda x: x[0], reverse=True)\n",
    "        n_rel = sum((true_r >= threshold) for (_, true_r) in user_ratings)\n",
    "        n_rec_k = sum((est >= threshold) for (est, _) in user_ratings[:k])\n",
    "        n_rel_and_rec_k = sum(\n",
    "            ((true_r >= threshold) and (est >= threshold))\n",
    "            for (est, true_r) in user_ratings[:k]\n",
    "        )\n",
    "        precisions[uid] = n_rel_and_rec_k / n_rec_k if n_rec_k != 0 else 0\n",
    "        recalls[uid] = n_rel_and_rec_k / n_rel if n_rel != 0 else 0\n",
    "    return precisions, recalls"
   ]
  },
  {
   "cell_type": "code",
   "execution_count": 60,
   "metadata": {},
   "outputs": [],
   "source": [
    "def evaluate_precision_recall(data_train, algo):\n",
    "    kf = KFold(n_splits=4)\n",
    "    precision = []\n",
    "    recall = []\n",
    "    for trainset, testset in kf.split(data_train):\n",
    "        algo.fit(trainset)\n",
    "        predictions = algo.test(testset)\n",
    "        precisions, recalls = precision_recall_at_k(predictions, k=10, threshold=2.0)\n",
    "        precision.append(sum(prec for prec in precisions.values()) / len(precisions))\n",
    "        recall.append(sum(rec for rec in recalls.values()) / len(recalls))\n",
    "    return sum(precision) / len(precision), sum(recall) / len(recall)"
   ]
  },
  {
   "cell_type": "code",
   "execution_count": 61,
   "metadata": {},
   "outputs": [],
   "source": [
    "algorithms = {\n",
    "    'Random': (NormalPredictor, {}),\n",
    "    'Baseline': (BaselineOnly, {}),\n",
    "    'SVD': (SVD, {'n_factors': [50, 100], 'reg_all': [0.02, 0.05]}),\n",
    "    'KNN_cosine': (KNNBasic, {'k': [20, 30], 'sim_options': {'name': ['cosine'], 'user_based': [False]}}),\n",
    "    'KNN_msd': (KNNBasic, {'k': [20, 30], 'sim_options': {'name': ['msd'], 'user_based': [False]}})\n",
    "}\n",
    "\n",
    "def train_test_split_custom(df, column, reader):\n",
    "    train, test = sklearn_train_test_split(df[['userID', 'placeID', column]], test_size=0.20, random_state=100)\n",
    "    data_train = Dataset.load_from_df(train, reader)\n",
    "    return data_train, test\n",
    "results_list = []"
   ]
  },
  {
   "cell_type": "code",
   "execution_count": 62,
   "metadata": {},
   "outputs": [
    {
     "name": "stdout",
     "output_type": "stream",
     "text": [
      "Evaluating rating...\n",
      "Tuning Random...\n",
      "Tuning Baseline...\n",
      "Estimating biases using als...\n",
      "Estimating biases using als...\n",
      "Estimating biases using als...\n",
      "Estimating biases using als...\n",
      "Estimating biases using als...\n",
      "Estimating biases using als...\n",
      "Estimating biases using als...\n",
      "Estimating biases using als...\n",
      "Estimating biases using als...\n",
      "Estimating biases using als...\n",
      "Estimating biases using als...\n",
      "Estimating biases using als...\n",
      "Tuning SVD...\n",
      "Tuning KNN_cosine...\n",
      "Computing the cosine similarity matrix...\n",
      "Error tuning KNN_cosine: float division\n",
      "Tuning KNN_msd...\n",
      "Computing the msd similarity matrix...\n",
      "Done computing similarity matrix.\n",
      "Computing the msd similarity matrix...\n",
      "Done computing similarity matrix.\n",
      "Computing the msd similarity matrix...\n",
      "Done computing similarity matrix.\n",
      "Computing the msd similarity matrix...\n",
      "Done computing similarity matrix.\n",
      "Computing the msd similarity matrix...\n",
      "Done computing similarity matrix.\n",
      "Computing the msd similarity matrix...\n",
      "Done computing similarity matrix.\n",
      "Computing the msd similarity matrix...\n",
      "Done computing similarity matrix.\n",
      "Computing the msd similarity matrix...\n",
      "Done computing similarity matrix.\n",
      "Computing the msd similarity matrix...\n",
      "Computing the msd similarity matrix...\n",
      "Computing the msd similarity matrix...\n",
      "Computing the msd similarity matrix...\n",
      "Done computing similarity matrix.\n",
      "Done computing similarity matrix.\n",
      "Done computing similarity matrix.\n",
      "Done computing similarity matrix.\n",
      "Computing the msd similarity matrix...\n",
      "Done computing similarity matrix.\n",
      "Computing the msd similarity matrix...\n",
      "Done computing similarity matrix.\n",
      "Computing the msd similarity matrix...\n",
      "Done computing similarity matrix.\n",
      "Computing the msd similarity matrix...\n",
      "Done computing similarity matrix.\n",
      "Evaluating food_rating...\n",
      "Tuning Random...\n",
      "Tuning Baseline...\n",
      "Estimating biases using als...\n",
      "Estimating biases using als...\n",
      "Estimating biases using als...\n",
      "Estimating biases using als...\n",
      "Estimating biases using als...\n",
      "Estimating biases using als...\n",
      "Estimating biases using als...\n",
      "Estimating biases using als...\n",
      "Estimating biases using als...\n",
      "Estimating biases using als...\n",
      "Estimating biases using als...\n",
      "Estimating biases using als...\n",
      "Tuning SVD...\n",
      "Tuning KNN_cosine...\n",
      "Computing the cosine similarity matrix...\n",
      "Error tuning KNN_cosine: float division\n",
      "Tuning KNN_msd...\n",
      "Computing the msd similarity matrix...\n",
      "Done computing similarity matrix.\n",
      "Computing the msd similarity matrix...\n",
      "Done computing similarity matrix.\n",
      "Computing the msd similarity matrix...\n",
      "Done computing similarity matrix.\n",
      "Computing the msd similarity matrix...\n",
      "Done computing similarity matrix.\n",
      "Computing the msd similarity matrix...\n",
      "Done computing similarity matrix.\n",
      "Computing the msd similarity matrix...\n",
      "Done computing similarity matrix.\n",
      "Computing the msd similarity matrix...\n",
      "Done computing similarity matrix.\n",
      "Computing the msd similarity matrix...\n",
      "Done computing similarity matrix.\n",
      "Computing the msd similarity matrix...\n",
      "Computing the msd similarity matrix...\n",
      "Computing the msd similarity matrix...\n",
      "Computing the msd similarity matrix...\n",
      "Done computing similarity matrix.\n",
      "Done computing similarity matrix.\n",
      "Done computing similarity matrix.\n",
      "Done computing similarity matrix.\n",
      "Computing the msd similarity matrix...\n",
      "Done computing similarity matrix.\n",
      "Computing the msd similarity matrix...\n",
      "Done computing similarity matrix.\n",
      "Computing the msd similarity matrix...\n",
      "Done computing similarity matrix.\n",
      "Computing the msd similarity matrix...\n",
      "Done computing similarity matrix.\n",
      "Evaluating service_rating...\n",
      "Tuning Random...\n",
      "Tuning Baseline...\n",
      "Estimating biases using als...\n",
      "Estimating biases using als...\n",
      "Estimating biases using als...\n",
      "Estimating biases using als...\n",
      "Estimating biases using als...\n",
      "Estimating biases using als...\n",
      "Estimating biases using als...\n",
      "Estimating biases using als...\n",
      "Estimating biases using als...\n",
      "Estimating biases using als...\n",
      "Estimating biases using als...\n",
      "Estimating biases using als...\n",
      "Tuning SVD...\n",
      "Tuning KNN_cosine...\n",
      "Computing the cosine similarity matrix...\n",
      "Error tuning KNN_cosine: float division\n",
      "Tuning KNN_msd...\n",
      "Computing the msd similarity matrix...\n",
      "Done computing similarity matrix.\n",
      "Computing the msd similarity matrix...\n",
      "Done computing similarity matrix.\n",
      "Computing the msd similarity matrix...\n",
      "Done computing similarity matrix.\n",
      "Computing the msd similarity matrix...\n",
      "Done computing similarity matrix.\n",
      "Computing the msd similarity matrix...\n",
      "Done computing similarity matrix.\n",
      "Computing the msd similarity matrix...\n",
      "Done computing similarity matrix.\n",
      "Computing the msd similarity matrix...\n",
      "Done computing similarity matrix.\n",
      "Computing the msd similarity matrix...\n",
      "Done computing similarity matrix.\n",
      "Computing the msd similarity matrix...\n",
      "Computing the msd similarity matrix...\n",
      "Computing the msd similarity matrix...\n",
      "Computing the msd similarity matrix...\n",
      "Done computing similarity matrix.\n",
      "Done computing similarity matrix.\n",
      "Done computing similarity matrix.\n",
      "Done computing similarity matrix.\n",
      "Computing the msd similarity matrix...\n",
      "Done computing similarity matrix.\n",
      "Computing the msd similarity matrix...\n",
      "Done computing similarity matrix.\n",
      "Computing the msd similarity matrix...\n",
      "Done computing similarity matrix.\n",
      "Computing the msd similarity matrix...\n",
      "Done computing similarity matrix.\n"
     ]
    }
   ],
   "source": [
    "for column in ['rating', 'food_rating', 'service_rating']:\n",
    "    print(f'Evaluating {column}...')\n",
    "    data_train, test = train_test_split_custom(ratings_data_f, column, reader)\n",
    "\n",
    "    for algo_name, (algo_class, param_grid) in algorithms.items():\n",
    "        print(f'Tuning {algo_name}...')\n",
    "        try:\n",
    "            gs = GridSearchCV(algo_class, param_grid, measures=['rmse'], cv=4)\n",
    "            gs.fit(data_train)\n",
    "\n",
    "            best_algo = gs.best_estimator['rmse']\n",
    "\n",
    "            rmse = evaluate(data_train, best_algo)\n",
    "            precision, recall = evaluate_precision_recall(data_train, best_algo)\n",
    "\n",
    "            results_list.append({\n",
    "                'Algoritmo': algo_name,\n",
    "                'RMSE CV': rmse,\n",
    "                'Precision': precision,\n",
    "                'Recall': recall,\n",
    "                'Rating Type': column,\n",
    "                'Best Params': gs.best_params['rmse']  # Add best params here\n",
    "            })\n",
    "        except ZeroDivisionError as e:\n",
    "            print(f'Error tuning {algo_name}: {e}')"
   ]
  },
  {
   "cell_type": "code",
   "execution_count": 63,
   "metadata": {},
   "outputs": [
    {
     "name": "stdout",
     "output_type": "stream",
     "text": [
      "   Algoritmo  RMSE CV  Precision    Recall     Rating Type  \\\n",
      "0     Random    0.997   0.424765  0.065649          rating   \n",
      "1   Baseline    0.507   0.204710  0.022787          rating   \n",
      "2        SVD    0.056   0.173913  0.015579          rating   \n",
      "3    KNN_msd    0.000   0.804348  0.193211          rating   \n",
      "4     Random    1.018   0.460819  0.067169     food_rating   \n",
      "5   Baseline    0.528   0.226449  0.023091     food_rating   \n",
      "6        SVD    0.055   0.244565  0.023617     food_rating   \n",
      "7    KNN_msd    0.000   0.833333  0.178932     food_rating   \n",
      "8     Random    1.024   0.363614  0.056554  service_rating   \n",
      "9   Baseline    0.535   0.152174  0.015815  service_rating   \n",
      "10       SVD    0.055   0.135870  0.012729  service_rating   \n",
      "11   KNN_msd    0.000   0.768116  0.193697  service_rating   \n",
      "\n",
      "                                          Best Params  \n",
      "0                                                  {}  \n",
      "1                                                  {}  \n",
      "2                 {'n_factors': 100, 'reg_all': 0.02}  \n",
      "3   {'k': 20, 'sim_options': {'name': 'msd', 'user...  \n",
      "4                                                  {}  \n",
      "5                                                  {}  \n",
      "6                 {'n_factors': 100, 'reg_all': 0.02}  \n",
      "7   {'k': 20, 'sim_options': {'name': 'msd', 'user...  \n",
      "8                                                  {}  \n",
      "9                                                  {}  \n",
      "10                {'n_factors': 100, 'reg_all': 0.02}  \n",
      "11  {'k': 20, 'sim_options': {'name': 'msd', 'user...  \n",
      "Best params for Random: {}\n",
      "Best params for Baseline: {}\n",
      "Best params for SVD: {'n_factors': 100, 'reg_all': 0.02}\n",
      "No results found for KNN_cosine\n",
      "Best params for KNN_msd: {'k': 20, 'sim_options': {'name': 'msd', 'user_based': False}}\n"
     ]
    }
   ],
   "source": [
    "results_df = pd.DataFrame(results_list)\n",
    "print(results_df)\n",
    "\n",
    "for algo_name, (algo_class, param_grid) in algorithms.items():\n",
    "    filtered_results = results_df[results_df[\"Algoritmo\"] == algo_name]\n",
    "    if not filtered_results.empty:\n",
    "        best_params = filtered_results.iloc[0]['Best Params']\n",
    "        print(f'Best params for {algo_name}: {best_params}')\n",
    "    else:\n",
    "        print(f'No results found for {algo_name}')"
   ]
  },
  {
   "cell_type": "code",
   "execution_count": 69,
   "metadata": {},
   "outputs": [
    {
     "name": "stdout",
     "output_type": "stream",
     "text": [
      "Computing the msd similarity matrix...\n",
      "Done computing similarity matrix.\n",
      "Feature importances:\n",
      "food_rating: 0.0\n",
      "service_rating: 0.0\n",
      "rating: 2.000192713760973\n"
     ]
    },
    {
     "data": {
      "image/png": "[encoded data removed]",
      "text/plain": [
       "<Figure size 1000x600 with 1 Axes>"
      ]
     },
     "metadata": {},
     "output_type": "display_data"
    }
   ],
   "source": [
    "import pandas as pd\n",
    "import matplotlib.pyplot as plt\n",
    "from surprise import Dataset, Reader, KNNBasic\n",
    "from surprise.model_selection import train_test_split\n",
    "from sklearn.ensemble import RandomForestRegressor\n",
    "from sklearn.inspection import permutation_importance\n",
    "\n",
    "ratings_data_f = df_ratings.sample(n=100000, replace=True)\n",
    "ratings_data_f = ratings_data_f[['userID', 'placeID', 'rating', 'food_rating', 'service_rating']]\n",
    "reader = Reader(rating_scale=(0, 2))\n",
    "\n",
    "data = Dataset.load_from_df(ratings_data_f[['userID', 'placeID', 'rating']], reader)\n",
    "trainset, testset = train_test_split(data, test_size=0.2)\n",
    "\n",
    "best_params_knn = {'k': 20, 'sim_options': {'name': 'msd', 'user_based': False}}\n",
    "algo = KNNBasic(k=best_params_knn['k'], sim_options=best_params_knn['sim_options'])\n",
    "algo.fit(trainset)\n",
    "\n",
    "predictions = algo.test(testset)\n",
    "\n",
    "predictions_df = pd.DataFrame([[pred.uid, pred.iid, pred.r_ui, pred.est] for pred in predictions],\n",
    "                              columns=['userID', 'placeID', 'true_rating', 'pred_rating'])\n",
    "\n",
    "merged_df = pd.merge(ratings_data_f, predictions_df[['userID', 'placeID', 'pred_rating']], on=['userID', 'placeID'])\n",
    "\n",
    "# Seleccionar las características y la etiqueta\n",
    "X = merged_df[['rating', 'food_rating', 'service_rating']]\n",
    "y = merged_df['pred_rating']\n",
    "\n",
    "model = RandomForestRegressor()\n",
    "model.fit(X, y)\n",
    "\n",
    "perm_importance = permutation_importance(model, X, y, n_repeats=10, random_state=42)\n",
    "\n",
    "feature_names = X.columns\n",
    "importances = perm_importance.importances_mean\n",
    "sorted_idx = importances.argsort()\n",
    "\n",
    "print(\"Feature importances:\")\n",
    "for i in sorted_idx:\n",
    "    print(f\"{feature_names[i]}: {importances[i]}\")\n",
    "\n",
    "plt.figure(figsize=(10, 6))\n",
    "plt.barh(feature_names[sorted_idx], importances[sorted_idx], color='skyblue')\n",
    "plt.xlabel('Mean Importance')\n",
    "plt.ylabel('Feature')\n",
    "plt.title('Feature Importance based on RandomForest Regressor')\n",
    "plt.show()"
   ]
  },
  {
   "cell_type": "code",
   "execution_count": 68,
   "metadata": {},
   "outputs": [
    {
     "name": "stdout",
     "output_type": "stream",
     "text": [
      "Computing the msd similarity matrix...\n",
      "Done computing similarity matrix.\n"
     ]
    },
    {
     "name": "stderr",
     "output_type": "stream",
     "text": [
      "No data for colormapping provided via 'c'. Parameters 'vmin', 'vmax' will be ignored\n"
     ]
    },
    {
     "data": {
      "image/png": "[encoded data removed]",
      "text/plain": [
       "<Figure size 800x270 with 2 Axes>"
      ]
     },
     "metadata": {},
     "output_type": "display_data"
    }
   ],
   "source": [
    "data = Dataset.load_from_df(ratings_data_f[['userID', 'placeID', 'rating']], reader)\n",
    "trainset, testset = train_test_split(data, test_size=0.2)\n",
    "\n",
    "algo = KNNBasic(k=best_params_knn['k'], sim_options=best_params_knn['sim_options'])\n",
    "algo.fit(trainset)\n",
    "\n",
    "predictions = algo.test(testset)\n",
    "\n",
    "predictions_df = pd.DataFrame([[pred.uid, pred.iid, pred.r_ui, pred.est] for pred in predictions],\n",
    "                              columns=['userID', 'placeID', 'true_rating', 'pred_rating'])\n",
    "\n",
    "merged_df = pd.merge(ratings_data_f, predictions_df[['userID', 'placeID', 'pred_rating']], on=['userID', 'placeID'])\n",
    "\n",
    "X = merged_df[['rating', 'food_rating', 'service_rating']]\n",
    "y = merged_df['pred_rating']\n",
    "\n",
    "model = RandomForestRegressor()\n",
    "model.fit(X, y)\n",
    "\n",
    "explainer = shap.Explainer(model)\n",
    "shap_values = explainer(X)\n",
    "\n",
    "shap.summary_plot(shap_values, X)"
   ]
  }
 ],
 "metadata": {
  "kernelspec": {
   "display_name": "Python 3",
   "language": "python",
   "name": "python3"
  },
  "language_info": {
   "codemirror_mode": {
    "name": "ipython",
    "version": 3
   },
   "file_extension": ".py",
   "mimetype": "text/x-python",
   "name": "python",
   "nbconvert_exporter": "python",
   "pygments_lexer": "ipython3",
   "version": "3.8.18"
  }
 },
 "nbformat": 4,
 "nbformat_minor": 2
}
