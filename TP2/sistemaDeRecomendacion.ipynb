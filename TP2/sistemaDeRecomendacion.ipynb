{
 "cells": [
  {
   "cell_type": "code",
   "execution_count": 33,
   "metadata": {},
   "outputs": [],
   "source": [
    "import pandas as pd\n",
    "import numpy as np\n",
    "import matplotlib.pyplot as plt\n",
    "import seaborn as sns\n",
    "\n",
    "plt.rcParams['font.family'] = 'Times New Roman'"
   ]
  },
  {
   "cell_type": "markdown",
   "metadata": {},
   "source": [
    "# Preparacion de datos"
   ]
  },
  {
   "cell_type": "code",
   "execution_count": 34,
   "metadata": {},
   "outputs": [
    {
     "name": "stdout",
     "output_type": "stream",
     "text": [
      "Shape del DataFrame original de locales: (130, 22)\n",
      "Shape del DataFrame final de locales con promedios: (130, 29)\n"
     ]
    }
   ],
   "source": [
    "df_ratings = pd.read_csv('./datos/rating_final.csv')\n",
    "df_places = pd.read_csv('./datos/geoplaces2.csv')\n",
    "\n",
    "datasets_locales = ['./datos/chefmozaccepts.csv', './datos/chefmozcuisine.csv', './datos/chefmozhours4.csv', './datos/chefmozparking.csv']\n",
    "\n",
    "for dataset in datasets_locales:\n",
    "    df_temp = pd.read_csv(dataset)\n",
    "    merged_places = pd.merge(df_places, df_temp, on='placeID', how='left')\n",
    "\n",
    "print(f\"Shape del DataFrame original de locales: {merged_places.shape}\")\n",
    "\n",
    "merged_places = df_places.drop_duplicates(subset=['placeID'])\n",
    "\n",
    "merged_places.to_csv('./datos/dataLocal.csv', sep=';', index=False)\n",
    "\n",
    "for dataset in datasets_locales:\n",
    "    df_temp = pd.read_csv(dataset)\n",
    "    df_places = pd.merge(df_places, df_temp, on='placeID', how='left')\n",
    "\n",
    "avg_ratings = df_ratings.groupby('placeID')[['rating', 'food_rating', 'service_rating']].mean().reset_index()\n",
    "\n",
    "df_places = pd.merge(df_places, avg_ratings, on='placeID', how='left')\n",
    "df_places = df_places.drop_duplicates(subset=['placeID'])\n",
    "df_places.to_csv('./datos/dataLocal_with_averages.csv', sep=';', index=False)\n",
    "\n",
    "print(f\"Shape del DataFrame final de locales con promedios: {df_places.shape}\")"
   ]
  },
  {
   "cell_type": "code",
   "execution_count": 35,
   "metadata": {},
   "outputs": [
    {
     "name": "stdout",
     "output_type": "stream",
     "text": [
      "Shape del DataFrame original de usuarios: (138, 24)\n"
     ]
    }
   ],
   "source": [
    "userprofile_file = './datos/userprofile.csv'\n",
    "usercuisine_file = './datos/usercuisine.csv'\n",
    "userpayment_file = './datos/userpayment.csv'\n",
    "\n",
    "df_userprofile = pd.read_csv(userprofile_file, sep=',')\n",
    "df_usercuisine = pd.read_csv(usercuisine_file, sep=',')\n",
    "df_userpayment = pd.read_csv(userpayment_file, sep=',')\n",
    "\n",
    "df_users = pd.merge(df_userprofile, df_usercuisine, on='userID', how='left')\n",
    "df_users = pd.merge(df_users, df_userpayment, on='userID', how='left')\n",
    "\n",
    "df_users = df_users.drop_duplicates(subset=['userID'])\n",
    "\n",
    "avg_user_ratings = df_ratings.groupby('userID')[['rating', 'food_rating', 'service_rating']].mean().reset_index()\n",
    "\n",
    "df_users = pd.merge(df_users, avg_user_ratings, on='userID', how='left')\n",
    "\n",
    "df_users.to_csv('./datos/dataUser.csv', sep=';', index=False)\n",
    "\n",
    "print(f\"Shape del DataFrame original de usuarios: {df_users.shape}\")"
   ]
  },
  {
   "cell_type": "code",
   "execution_count": 36,
   "metadata": {},
   "outputs": [],
   "source": [
    "ratings = df_users\n",
    "locales = df_places"
   ]
  },
  {
   "cell_type": "code",
   "execution_count": 37,
   "metadata": {},
   "outputs": [
    {
     "name": "stdout",
     "output_type": "stream",
     "text": [
      "Index(['userID', 'latitude', 'longitude', 'smoker', 'drink_level',\n",
      "       'dress_preference', 'ambience', 'transport', 'marital_status', 'hijos',\n",
      "       'birth_year', 'interest', 'personality', 'religion', 'activity',\n",
      "       'color', 'weight', 'budget', 'height', 'Rcuisine', 'Upayment', 'rating',\n",
      "       'food_rating', 'service_rating'],\n",
      "      dtype='object')\n",
      "Index(['placeID', 'latitude', 'longitude', 'the_geom_meter', 'name', 'address',\n",
      "       'city', 'state', 'country', 'fax', 'zip', 'alcohol', 'smoking_area',\n",
      "       'dress_code', 'accessibility', 'price', 'url', 'Rambience', 'franchise',\n",
      "       'area', 'other_services', 'Rpayment', 'Rcuisine', 'hours', 'days',\n",
      "       'parking_lot', 'rating', 'food_rating', 'service_rating'],\n",
      "      dtype='object')\n"
     ]
    }
   ],
   "source": [
    "print(ratings.columns)\n",
    "print(locales.columns)"
   ]
  },
  {
   "cell_type": "markdown",
   "metadata": {},
   "source": [
    "# Similitud del coseno"
   ]
  },
  {
   "cell_type": "code",
   "execution_count": 38,
   "metadata": {},
   "outputs": [
    {
     "ename": "FileNotFoundError",
     "evalue": "[Errno 2] No such file or directory: './dataRatings.csv'",
     "output_type": "error",
     "traceback": [
      "\u001b[0;31m---------------------------------------------------------------------------\u001b[0m",
      "\u001b[0;31mFileNotFoundError\u001b[0m                         Traceback (most recent call last)",
      "Cell \u001b[0;32mIn[38], line 1\u001b[0m\n\u001b[0;32m----> 1\u001b[0m df_ratings \u001b[38;5;241m=\u001b[39m \u001b[43mpd\u001b[49m\u001b[38;5;241;43m.\u001b[39;49m\u001b[43mread_csv\u001b[49m\u001b[43m(\u001b[49m\u001b[38;5;124;43m'\u001b[39;49m\u001b[38;5;124;43m./dataRatings.csv\u001b[39;49m\u001b[38;5;124;43m'\u001b[39;49m\u001b[43m,\u001b[49m\u001b[43m \u001b[49m\u001b[43mdelimiter\u001b[49m\u001b[38;5;241;43m=\u001b[39;49m\u001b[38;5;124;43m'\u001b[39;49m\u001b[38;5;124;43m;\u001b[39;49m\u001b[38;5;124;43m'\u001b[39;49m\u001b[43m)\u001b[49m\n\u001b[1;32m      3\u001b[0m df_ratings \u001b[38;5;241m=\u001b[39m df_ratings\u001b[38;5;241m.\u001b[39mdrop_duplicates(subset\u001b[38;5;241m=\u001b[39m[\u001b[38;5;124m'\u001b[39m\u001b[38;5;124muserID\u001b[39m\u001b[38;5;124m'\u001b[39m, \u001b[38;5;124m'\u001b[39m\u001b[38;5;124mplaceID\u001b[39m\u001b[38;5;124m'\u001b[39m])\n\u001b[1;32m      5\u001b[0m df_ratings\u001b[38;5;241m.\u001b[39mto_csv(\u001b[38;5;124m'\u001b[39m\u001b[38;5;124m./dataRatings.csv\u001b[39m\u001b[38;5;124m'\u001b[39m, index\u001b[38;5;241m=\u001b[39m\u001b[38;5;28;01mFalse\u001b[39;00m, sep\u001b[38;5;241m=\u001b[39m\u001b[38;5;124m'\u001b[39m\u001b[38;5;124m;\u001b[39m\u001b[38;5;124m'\u001b[39m)\n",
      "File \u001b[0;32m~/anaconda3/envs/itba_apa_env/lib/python3.8/site-packages/pandas/util/_decorators.py:211\u001b[0m, in \u001b[0;36mdeprecate_kwarg.<locals>._deprecate_kwarg.<locals>.wrapper\u001b[0;34m(*args, **kwargs)\u001b[0m\n\u001b[1;32m    209\u001b[0m     \u001b[38;5;28;01melse\u001b[39;00m:\n\u001b[1;32m    210\u001b[0m         kwargs[new_arg_name] \u001b[38;5;241m=\u001b[39m new_arg_value\n\u001b[0;32m--> 211\u001b[0m \u001b[38;5;28;01mreturn\u001b[39;00m \u001b[43mfunc\u001b[49m\u001b[43m(\u001b[49m\u001b[38;5;241;43m*\u001b[39;49m\u001b[43margs\u001b[49m\u001b[43m,\u001b[49m\u001b[43m \u001b[49m\u001b[38;5;241;43m*\u001b[39;49m\u001b[38;5;241;43m*\u001b[39;49m\u001b[43mkwargs\u001b[49m\u001b[43m)\u001b[49m\n",
      "File \u001b[0;32m~/anaconda3/envs/itba_apa_env/lib/python3.8/site-packages/pandas/util/_decorators.py:331\u001b[0m, in \u001b[0;36mdeprecate_nonkeyword_arguments.<locals>.decorate.<locals>.wrapper\u001b[0;34m(*args, **kwargs)\u001b[0m\n\u001b[1;32m    325\u001b[0m \u001b[38;5;28;01mif\u001b[39;00m \u001b[38;5;28mlen\u001b[39m(args) \u001b[38;5;241m>\u001b[39m num_allow_args:\n\u001b[1;32m    326\u001b[0m     warnings\u001b[38;5;241m.\u001b[39mwarn(\n\u001b[1;32m    327\u001b[0m         msg\u001b[38;5;241m.\u001b[39mformat(arguments\u001b[38;5;241m=\u001b[39m_format_argument_list(allow_args)),\n\u001b[1;32m    328\u001b[0m         \u001b[38;5;167;01mFutureWarning\u001b[39;00m,\n\u001b[1;32m    329\u001b[0m         stacklevel\u001b[38;5;241m=\u001b[39mfind_stack_level(),\n\u001b[1;32m    330\u001b[0m     )\n\u001b[0;32m--> 331\u001b[0m \u001b[38;5;28;01mreturn\u001b[39;00m \u001b[43mfunc\u001b[49m\u001b[43m(\u001b[49m\u001b[38;5;241;43m*\u001b[39;49m\u001b[43margs\u001b[49m\u001b[43m,\u001b[49m\u001b[43m \u001b[49m\u001b[38;5;241;43m*\u001b[39;49m\u001b[38;5;241;43m*\u001b[39;49m\u001b[43mkwargs\u001b[49m\u001b[43m)\u001b[49m\n",
      "File \u001b[0;32m~/anaconda3/envs/itba_apa_env/lib/python3.8/site-packages/pandas/io/parsers/readers.py:950\u001b[0m, in \u001b[0;36mread_csv\u001b[0;34m(filepath_or_buffer, sep, delimiter, header, names, index_col, usecols, squeeze, prefix, mangle_dupe_cols, dtype, engine, converters, true_values, false_values, skipinitialspace, skiprows, skipfooter, nrows, na_values, keep_default_na, na_filter, verbose, skip_blank_lines, parse_dates, infer_datetime_format, keep_date_col, date_parser, dayfirst, cache_dates, iterator, chunksize, compression, thousands, decimal, lineterminator, quotechar, quoting, doublequote, escapechar, comment, encoding, encoding_errors, dialect, error_bad_lines, warn_bad_lines, on_bad_lines, delim_whitespace, low_memory, memory_map, float_precision, storage_options)\u001b[0m\n\u001b[1;32m    935\u001b[0m kwds_defaults \u001b[38;5;241m=\u001b[39m _refine_defaults_read(\n\u001b[1;32m    936\u001b[0m     dialect,\n\u001b[1;32m    937\u001b[0m     delimiter,\n\u001b[0;32m   (...)\u001b[0m\n\u001b[1;32m    946\u001b[0m     defaults\u001b[38;5;241m=\u001b[39m{\u001b[38;5;124m\"\u001b[39m\u001b[38;5;124mdelimiter\u001b[39m\u001b[38;5;124m\"\u001b[39m: \u001b[38;5;124m\"\u001b[39m\u001b[38;5;124m,\u001b[39m\u001b[38;5;124m\"\u001b[39m},\n\u001b[1;32m    947\u001b[0m )\n\u001b[1;32m    948\u001b[0m kwds\u001b[38;5;241m.\u001b[39mupdate(kwds_defaults)\n\u001b[0;32m--> 950\u001b[0m \u001b[38;5;28;01mreturn\u001b[39;00m \u001b[43m_read\u001b[49m\u001b[43m(\u001b[49m\u001b[43mfilepath_or_buffer\u001b[49m\u001b[43m,\u001b[49m\u001b[43m \u001b[49m\u001b[43mkwds\u001b[49m\u001b[43m)\u001b[49m\n",
      "File \u001b[0;32m~/anaconda3/envs/itba_apa_env/lib/python3.8/site-packages/pandas/io/parsers/readers.py:605\u001b[0m, in \u001b[0;36m_read\u001b[0;34m(filepath_or_buffer, kwds)\u001b[0m\n\u001b[1;32m    602\u001b[0m _validate_names(kwds\u001b[38;5;241m.\u001b[39mget(\u001b[38;5;124m\"\u001b[39m\u001b[38;5;124mnames\u001b[39m\u001b[38;5;124m\"\u001b[39m, \u001b[38;5;28;01mNone\u001b[39;00m))\n\u001b[1;32m    604\u001b[0m \u001b[38;5;66;03m# Create the parser.\u001b[39;00m\n\u001b[0;32m--> 605\u001b[0m parser \u001b[38;5;241m=\u001b[39m \u001b[43mTextFileReader\u001b[49m\u001b[43m(\u001b[49m\u001b[43mfilepath_or_buffer\u001b[49m\u001b[43m,\u001b[49m\u001b[43m \u001b[49m\u001b[38;5;241;43m*\u001b[39;49m\u001b[38;5;241;43m*\u001b[39;49m\u001b[43mkwds\u001b[49m\u001b[43m)\u001b[49m\n\u001b[1;32m    607\u001b[0m \u001b[38;5;28;01mif\u001b[39;00m chunksize \u001b[38;5;129;01mor\u001b[39;00m iterator:\n\u001b[1;32m    608\u001b[0m     \u001b[38;5;28;01mreturn\u001b[39;00m parser\n",
      "File \u001b[0;32m~/anaconda3/envs/itba_apa_env/lib/python3.8/site-packages/pandas/io/parsers/readers.py:1442\u001b[0m, in \u001b[0;36mTextFileReader.__init__\u001b[0;34m(self, f, engine, **kwds)\u001b[0m\n\u001b[1;32m   1439\u001b[0m     \u001b[38;5;28mself\u001b[39m\u001b[38;5;241m.\u001b[39moptions[\u001b[38;5;124m\"\u001b[39m\u001b[38;5;124mhas_index_names\u001b[39m\u001b[38;5;124m\"\u001b[39m] \u001b[38;5;241m=\u001b[39m kwds[\u001b[38;5;124m\"\u001b[39m\u001b[38;5;124mhas_index_names\u001b[39m\u001b[38;5;124m\"\u001b[39m]\n\u001b[1;32m   1441\u001b[0m \u001b[38;5;28mself\u001b[39m\u001b[38;5;241m.\u001b[39mhandles: IOHandles \u001b[38;5;241m|\u001b[39m \u001b[38;5;28;01mNone\u001b[39;00m \u001b[38;5;241m=\u001b[39m \u001b[38;5;28;01mNone\u001b[39;00m\n\u001b[0;32m-> 1442\u001b[0m \u001b[38;5;28mself\u001b[39m\u001b[38;5;241m.\u001b[39m_engine \u001b[38;5;241m=\u001b[39m \u001b[38;5;28;43mself\u001b[39;49m\u001b[38;5;241;43m.\u001b[39;49m\u001b[43m_make_engine\u001b[49m\u001b[43m(\u001b[49m\u001b[43mf\u001b[49m\u001b[43m,\u001b[49m\u001b[43m \u001b[49m\u001b[38;5;28;43mself\u001b[39;49m\u001b[38;5;241;43m.\u001b[39;49m\u001b[43mengine\u001b[49m\u001b[43m)\u001b[49m\n",
      "File \u001b[0;32m~/anaconda3/envs/itba_apa_env/lib/python3.8/site-packages/pandas/io/parsers/readers.py:1735\u001b[0m, in \u001b[0;36mTextFileReader._make_engine\u001b[0;34m(self, f, engine)\u001b[0m\n\u001b[1;32m   1733\u001b[0m     \u001b[38;5;28;01mif\u001b[39;00m \u001b[38;5;124m\"\u001b[39m\u001b[38;5;124mb\u001b[39m\u001b[38;5;124m\"\u001b[39m \u001b[38;5;129;01mnot\u001b[39;00m \u001b[38;5;129;01min\u001b[39;00m mode:\n\u001b[1;32m   1734\u001b[0m         mode \u001b[38;5;241m+\u001b[39m\u001b[38;5;241m=\u001b[39m \u001b[38;5;124m\"\u001b[39m\u001b[38;5;124mb\u001b[39m\u001b[38;5;124m\"\u001b[39m\n\u001b[0;32m-> 1735\u001b[0m \u001b[38;5;28mself\u001b[39m\u001b[38;5;241m.\u001b[39mhandles \u001b[38;5;241m=\u001b[39m \u001b[43mget_handle\u001b[49m\u001b[43m(\u001b[49m\n\u001b[1;32m   1736\u001b[0m \u001b[43m    \u001b[49m\u001b[43mf\u001b[49m\u001b[43m,\u001b[49m\n\u001b[1;32m   1737\u001b[0m \u001b[43m    \u001b[49m\u001b[43mmode\u001b[49m\u001b[43m,\u001b[49m\n\u001b[1;32m   1738\u001b[0m \u001b[43m    \u001b[49m\u001b[43mencoding\u001b[49m\u001b[38;5;241;43m=\u001b[39;49m\u001b[38;5;28;43mself\u001b[39;49m\u001b[38;5;241;43m.\u001b[39;49m\u001b[43moptions\u001b[49m\u001b[38;5;241;43m.\u001b[39;49m\u001b[43mget\u001b[49m\u001b[43m(\u001b[49m\u001b[38;5;124;43m\"\u001b[39;49m\u001b[38;5;124;43mencoding\u001b[39;49m\u001b[38;5;124;43m\"\u001b[39;49m\u001b[43m,\u001b[49m\u001b[43m \u001b[49m\u001b[38;5;28;43;01mNone\u001b[39;49;00m\u001b[43m)\u001b[49m\u001b[43m,\u001b[49m\n\u001b[1;32m   1739\u001b[0m \u001b[43m    \u001b[49m\u001b[43mcompression\u001b[49m\u001b[38;5;241;43m=\u001b[39;49m\u001b[38;5;28;43mself\u001b[39;49m\u001b[38;5;241;43m.\u001b[39;49m\u001b[43moptions\u001b[49m\u001b[38;5;241;43m.\u001b[39;49m\u001b[43mget\u001b[49m\u001b[43m(\u001b[49m\u001b[38;5;124;43m\"\u001b[39;49m\u001b[38;5;124;43mcompression\u001b[39;49m\u001b[38;5;124;43m\"\u001b[39;49m\u001b[43m,\u001b[49m\u001b[43m \u001b[49m\u001b[38;5;28;43;01mNone\u001b[39;49;00m\u001b[43m)\u001b[49m\u001b[43m,\u001b[49m\n\u001b[1;32m   1740\u001b[0m \u001b[43m    \u001b[49m\u001b[43mmemory_map\u001b[49m\u001b[38;5;241;43m=\u001b[39;49m\u001b[38;5;28;43mself\u001b[39;49m\u001b[38;5;241;43m.\u001b[39;49m\u001b[43moptions\u001b[49m\u001b[38;5;241;43m.\u001b[39;49m\u001b[43mget\u001b[49m\u001b[43m(\u001b[49m\u001b[38;5;124;43m\"\u001b[39;49m\u001b[38;5;124;43mmemory_map\u001b[39;49m\u001b[38;5;124;43m\"\u001b[39;49m\u001b[43m,\u001b[49m\u001b[43m \u001b[49m\u001b[38;5;28;43;01mFalse\u001b[39;49;00m\u001b[43m)\u001b[49m\u001b[43m,\u001b[49m\n\u001b[1;32m   1741\u001b[0m \u001b[43m    \u001b[49m\u001b[43mis_text\u001b[49m\u001b[38;5;241;43m=\u001b[39;49m\u001b[43mis_text\u001b[49m\u001b[43m,\u001b[49m\n\u001b[1;32m   1742\u001b[0m \u001b[43m    \u001b[49m\u001b[43merrors\u001b[49m\u001b[38;5;241;43m=\u001b[39;49m\u001b[38;5;28;43mself\u001b[39;49m\u001b[38;5;241;43m.\u001b[39;49m\u001b[43moptions\u001b[49m\u001b[38;5;241;43m.\u001b[39;49m\u001b[43mget\u001b[49m\u001b[43m(\u001b[49m\u001b[38;5;124;43m\"\u001b[39;49m\u001b[38;5;124;43mencoding_errors\u001b[39;49m\u001b[38;5;124;43m\"\u001b[39;49m\u001b[43m,\u001b[49m\u001b[43m \u001b[49m\u001b[38;5;124;43m\"\u001b[39;49m\u001b[38;5;124;43mstrict\u001b[39;49m\u001b[38;5;124;43m\"\u001b[39;49m\u001b[43m)\u001b[49m\u001b[43m,\u001b[49m\n\u001b[1;32m   1743\u001b[0m \u001b[43m    \u001b[49m\u001b[43mstorage_options\u001b[49m\u001b[38;5;241;43m=\u001b[39;49m\u001b[38;5;28;43mself\u001b[39;49m\u001b[38;5;241;43m.\u001b[39;49m\u001b[43moptions\u001b[49m\u001b[38;5;241;43m.\u001b[39;49m\u001b[43mget\u001b[49m\u001b[43m(\u001b[49m\u001b[38;5;124;43m\"\u001b[39;49m\u001b[38;5;124;43mstorage_options\u001b[39;49m\u001b[38;5;124;43m\"\u001b[39;49m\u001b[43m,\u001b[49m\u001b[43m \u001b[49m\u001b[38;5;28;43;01mNone\u001b[39;49;00m\u001b[43m)\u001b[49m\u001b[43m,\u001b[49m\n\u001b[1;32m   1744\u001b[0m \u001b[43m\u001b[49m\u001b[43m)\u001b[49m\n\u001b[1;32m   1745\u001b[0m \u001b[38;5;28;01massert\u001b[39;00m \u001b[38;5;28mself\u001b[39m\u001b[38;5;241m.\u001b[39mhandles \u001b[38;5;129;01mis\u001b[39;00m \u001b[38;5;129;01mnot\u001b[39;00m \u001b[38;5;28;01mNone\u001b[39;00m\n\u001b[1;32m   1746\u001b[0m f \u001b[38;5;241m=\u001b[39m \u001b[38;5;28mself\u001b[39m\u001b[38;5;241m.\u001b[39mhandles\u001b[38;5;241m.\u001b[39mhandle\n",
      "File \u001b[0;32m~/anaconda3/envs/itba_apa_env/lib/python3.8/site-packages/pandas/io/common.py:856\u001b[0m, in \u001b[0;36mget_handle\u001b[0;34m(path_or_buf, mode, encoding, compression, memory_map, is_text, errors, storage_options)\u001b[0m\n\u001b[1;32m    851\u001b[0m \u001b[38;5;28;01melif\u001b[39;00m \u001b[38;5;28misinstance\u001b[39m(handle, \u001b[38;5;28mstr\u001b[39m):\n\u001b[1;32m    852\u001b[0m     \u001b[38;5;66;03m# Check whether the filename is to be opened in binary mode.\u001b[39;00m\n\u001b[1;32m    853\u001b[0m     \u001b[38;5;66;03m# Binary mode does not support 'encoding' and 'newline'.\u001b[39;00m\n\u001b[1;32m    854\u001b[0m     \u001b[38;5;28;01mif\u001b[39;00m ioargs\u001b[38;5;241m.\u001b[39mencoding \u001b[38;5;129;01mand\u001b[39;00m \u001b[38;5;124m\"\u001b[39m\u001b[38;5;124mb\u001b[39m\u001b[38;5;124m\"\u001b[39m \u001b[38;5;129;01mnot\u001b[39;00m \u001b[38;5;129;01min\u001b[39;00m ioargs\u001b[38;5;241m.\u001b[39mmode:\n\u001b[1;32m    855\u001b[0m         \u001b[38;5;66;03m# Encoding\u001b[39;00m\n\u001b[0;32m--> 856\u001b[0m         handle \u001b[38;5;241m=\u001b[39m \u001b[38;5;28;43mopen\u001b[39;49m\u001b[43m(\u001b[49m\n\u001b[1;32m    857\u001b[0m \u001b[43m            \u001b[49m\u001b[43mhandle\u001b[49m\u001b[43m,\u001b[49m\n\u001b[1;32m    858\u001b[0m \u001b[43m            \u001b[49m\u001b[43mioargs\u001b[49m\u001b[38;5;241;43m.\u001b[39;49m\u001b[43mmode\u001b[49m\u001b[43m,\u001b[49m\n\u001b[1;32m    859\u001b[0m \u001b[43m            \u001b[49m\u001b[43mencoding\u001b[49m\u001b[38;5;241;43m=\u001b[39;49m\u001b[43mioargs\u001b[49m\u001b[38;5;241;43m.\u001b[39;49m\u001b[43mencoding\u001b[49m\u001b[43m,\u001b[49m\n\u001b[1;32m    860\u001b[0m \u001b[43m            \u001b[49m\u001b[43merrors\u001b[49m\u001b[38;5;241;43m=\u001b[39;49m\u001b[43merrors\u001b[49m\u001b[43m,\u001b[49m\n\u001b[1;32m    861\u001b[0m \u001b[43m            \u001b[49m\u001b[43mnewline\u001b[49m\u001b[38;5;241;43m=\u001b[39;49m\u001b[38;5;124;43m\"\u001b[39;49m\u001b[38;5;124;43m\"\u001b[39;49m\u001b[43m,\u001b[49m\n\u001b[1;32m    862\u001b[0m \u001b[43m        \u001b[49m\u001b[43m)\u001b[49m\n\u001b[1;32m    863\u001b[0m     \u001b[38;5;28;01melse\u001b[39;00m:\n\u001b[1;32m    864\u001b[0m         \u001b[38;5;66;03m# Binary mode\u001b[39;00m\n\u001b[1;32m    865\u001b[0m         handle \u001b[38;5;241m=\u001b[39m \u001b[38;5;28mopen\u001b[39m(handle, ioargs\u001b[38;5;241m.\u001b[39mmode)\n",
      "\u001b[0;31mFileNotFoundError\u001b[0m: [Errno 2] No such file or directory: './dataRatings.csv'"
     ]
    }
   ],
   "source": [
    "df_ratings = pd.read_csv('./dataRatings.csv', delimiter=';')\n",
    "\n",
    "df_ratings = df_ratings.drop_duplicates(subset=['userID', 'placeID'])\n",
    "\n",
    "df_ratings.to_csv('./dataRatings.csv', index=False, sep=';')"
   ]
  },
  {
   "cell_type": "code",
   "execution_count": null,
   "metadata": {},
   "outputs": [
    {
     "name": "stdout",
     "output_type": "stream",
     "text": [
      "[[1.         0.29052311 0.26067155 ... 0.43389833 0.7050241  0.17912732]\n",
      " [0.29052311 1.         0.62682767 ... 0.13611863 0.49574583 0.57941364]\n",
      " [0.26067155 0.62682767 1.         ... 0.22696956 0.15812585 0.33536408]\n",
      " ...\n",
      " [0.43389833 0.13611863 0.22696956 ... 1.         0.51621685 0.15246621]\n",
      " [0.7050241  0.49574583 0.15812585 ... 0.51621685 1.         0.43144178]\n",
      " [0.17912732 0.57941364 0.33536408 ... 0.15246621 0.43144178 1.        ]]\n"
     ]
    }
   ],
   "source": [
    "from sklearn.preprocessing import StandardScaler, OneHotEncoder\n",
    "from sklearn.compose import ColumnTransformer\n",
    "from sklearn.pipeline import Pipeline\n",
    "from sklearn.metrics.pairwise import cosine_similarity\n",
    "\n",
    "categorical_features = ['alcohol', 'smoking_area', 'dress_code', 'accessibility', 'price', 'Rambience', 'franchise', 'area', 'other_services', 'Rpayment', 'Rcuisine']\n",
    "numerical_features = ['latitude', 'longitude', 'rating', 'food_rating', 'service_rating']\n",
    "\n",
    "preprocessor = ColumnTransformer(\n",
    "    transformers=[\n",
    "        ('num', StandardScaler(), numerical_features),\n",
    "        ('cat', OneHotEncoder(), categorical_features)])\n",
    "\n",
    "pipeline = Pipeline(steps=[('preprocessor', preprocessor)])\n",
    "locales_preprocessed = pipeline.fit_transform(locales)\n",
    "\n",
    "similarity_matrix = cosine_similarity(locales_preprocessed, locales_preprocessed)\n",
    "\n",
    "print(similarity_matrix)"
   ]
  },
  {
   "cell_type": "code",
   "execution_count": null,
   "metadata": {},
   "outputs": [
    {
     "name": "stdout",
     "output_type": "stream",
     "text": [
      "                                    name  \\\n",
      "522            Hamburguesas Valle Dorado   \n",
      "639                    Hamburguesas saul   \n",
      "57             Abondance Restaurante Bar   \n",
      "645                      Rincon Huasteco   \n",
      "669                         Cafe Chaires   \n",
      "705                 Restaurant Orizatlan   \n",
      "898                     sirloin stockade   \n",
      "330                            Luna Cafe   \n",
      "441                           Potzocalli   \n",
      "354                          el pueblito   \n",
      "261      Restaurante la Estrella de Dima   \n",
      "465  Restaurante El Chivero S.A. de C.V.   \n",
      "531                          dairy queen   \n",
      "54                        Restaurante 75   \n",
      "3                        puesto de tacos   \n",
      "\n",
      "                                      address             city    rating  \\\n",
      "522                                 Av. Coral  San Luis Potosi  0.800000   \n",
      "639  Av. Saan Luis enttre moctezuma y salinas  San Luis Potosi  0.600000   \n",
      "57                Industrias 908 Valle Dorado  San Luis Potosi  0.500000   \n",
      "645                                         ?                ?  0.916667   \n",
      "669                                         ?  San Luis Potosi  1.000000   \n",
      "705                  Pascual M. Hernandez 240  San Luis Potosi  0.875000   \n",
      "898                                         ?                ?  0.750000   \n",
      "330                   Francisco I. Madero 215  San Luis Potosi  1.176471   \n",
      "441                      Carretera Central Sn  San Luis Potosi  1.181818   \n",
      "354                                         ?                ?  1.000000   \n",
      "261           Soledad Sn Arboledas de Soledad          Soledad  1.250000   \n",
      "465                  Angel Veral 328 Altamira  San Luis Potosi  0.882353   \n",
      "531                                         ?                ?  1.166667   \n",
      "54         Villa de Pozos 4497 Villa de Pozos  San Luis Potosi  0.875000   \n",
      "3      esquina santos degollado y leon guzman           s.l.p.  1.281250   \n",
      "\n",
      "     food_rating  service_rating  \n",
      "522     1.400000        0.600000  \n",
      "639     0.600000        0.400000  \n",
      "57      0.500000        0.750000  \n",
      "645     1.166667        0.916667  \n",
      "669     1.000000        0.933333  \n",
      "705     1.375000        1.000000  \n",
      "898     0.750000        1.000000  \n",
      "330     1.176471        1.000000  \n",
      "441     1.181818        1.000000  \n",
      "354     1.200000        1.200000  \n",
      "261     1.250000        1.000000  \n",
      "465     1.058824        0.705882  \n",
      "531     1.166667        1.166667  \n",
      "54      1.000000        0.750000  \n",
      "3       1.343750        0.937500  \n"
     ]
    }
   ],
   "source": [
    "def recommend_locales_based_on_similarity(local_input, n=15):\n",
    "    try:\n",
    "        local_index = locales.loc[locales.name == local_input].index[0]\n",
    "    except IndexError:\n",
    "        return \"Local no encontrado. Asegúrate de que el nombre sea correcto.\"\n",
    "\n",
    "    similarity_score = list(enumerate(similarity_matrix[local_index]))\n",
    "    similarity_score = sorted(similarity_score, key=lambda x: x[1], reverse=True)\n",
    "    similarity_score = similarity_score[1:n+1]\n",
    "    local_indices = [i[0] for i in similarity_score]\n",
    "\n",
    "    return locales[['name', 'address', 'city', 'rating', 'food_rating', 'service_rating']].iloc[local_indices]\n",
    "\n",
    "recomendaciones = recommend_locales_based_on_similarity('carnitas_mata', n=15)\n",
    "print(recomendaciones)"
   ]
  },
  {
   "cell_type": "markdown",
   "metadata": {},
   "source": [
    "# SR usando Surprise"
   ]
  },
  {
   "cell_type": "code",
   "execution_count": null,
   "metadata": {},
   "outputs": [
    {
     "name": "stdout",
     "output_type": "stream",
     "text": [
      "     userID  placeID  rating  food_rating  service_rating   latitude  \\\n",
      "0     U1077   135085       2            2               2  22.150802   \n",
      "1     U1077   135038       2            2               1  22.155651   \n",
      "2     U1077   132825       2            2               2  22.147392   \n",
      "3     U1077   135060       1            2               2  22.156883   \n",
      "4     U1068   135104       1            1               2  23.752982   \n",
      "...     ...      ...     ...          ...             ...        ...   \n",
      "1156  U1043   132630       1            1               1  23.752931   \n",
      "1157  U1011   132715       1            1               0  23.732423   \n",
      "1158  U1068   132733       1            1               0  23.752707   \n",
      "1159  U1068   132594       1            1               1  23.752168   \n",
      "1160  U1068   132660       0            0               0  23.752943   \n",
      "\n",
      "       longitude                                     the_geom_meter  \\\n",
      "0    -100.982680  0101000020957F00009F823DA6094858C18A2D4D37F9A4...   \n",
      "1    -100.977767  0101000020957F0000506149736E4758C1A8BC93DA48A3...   \n",
      "2    -100.983092  0101000020957F00001AD016568C4858C1243261274BA5...   \n",
      "3    -100.978485  0101000020957F00004C95C918394758C17A5C44896AA3...   \n",
      "4     -99.168434  0101000020957F00007CDF5EAFC58157C1645743B23E4F...   \n",
      "...          ...                                                ...   \n",
      "1156  -99.164473  0101000020957F000047206572DE8157C1D3315028254E...   \n",
      "1157  -99.158660  0101000020957F00004609B96F198557C11973490A874D...   \n",
      "1158  -99.162565  0101000020957F0000F2F4110CF28157C1DCFD7C1BA04D...   \n",
      "1159  -99.165709  0101000020957F00003AE4C6DBF48157C1CE38ECC1864E...   \n",
      "1160  -99.164679  0101000020957F00003D7905C9DC8157C13FCD1AB7334E...   \n",
      "\n",
      "                                       name  \\\n",
      "0                    Tortas Locas Hipocampo   \n",
      "1                     Restaurant la Chalita   \n",
      "2                           puesto de tacos   \n",
      "3                   Restaurante Marisco Sam   \n",
      "4                                      vips   \n",
      "...                                     ...   \n",
      "1156                             palomo tec   \n",
      "1157                   tacos de la estacion   \n",
      "1158                          Little Cesarz   \n",
      "1159     tacos de barbacoa enfrente del Tec   \n",
      "1160  carnitas mata calle Emilio Portes Gil   \n",
      "\n",
      "                                     address  ... url Rambience franchise  \\\n",
      "0             Venustiano Carranza 719 Centro  ...   ?  familiar         f   \n",
      "1         Guajardo Sn San Luis Potosi Centro  ...   ?  familiar         f   \n",
      "2     esquina santos degollado y leon guzman  ...   ?  familiar         f   \n",
      "3                 Ignacio Allende 785 Centro  ...   ?  familiar         f   \n",
      "4                                          ?  ...   ?  familiar         t   \n",
      "...                                      ...  ...  ..       ...       ...   \n",
      "1156                 blvrd emilio portes gil  ...   ?  familiar         f   \n",
      "1157                                       ?  ...   ?     quiet         f   \n",
      "1158                                       ?  ...   ?  familiar         t   \n",
      "1159                                       ?  ...   ?  familiar         f   \n",
      "1160                       Emilio Portes Gil  ...   ?  familiar         f   \n",
      "\n",
      "        area other_services Rpayment   Rcuisine         hours  \\\n",
      "0     closed           none     cash  Fast_Food  00:00-00:00;   \n",
      "1     closed           none     cash        NaN  08:00-17:00;   \n",
      "2       open           none     cash    Mexican  09:00-12:00;   \n",
      "3     closed           none     cash    Seafood  11:30-19:00;   \n",
      "4     closed        variety     cash    Mexican  00:00-23:30;   \n",
      "...      ...            ...      ...        ...           ...   \n",
      "1156  closed           none      NaN    Mexican  00:00-23:30;   \n",
      "1157    open           none     cash    Mexican  09:00-16:00;   \n",
      "1158  closed           none     cash   Pizzeria  10:30-22:30;   \n",
      "1159    open           none     cash    Mexican  09:30-23:30;   \n",
      "1160  closed           none      NaN        NaN  00:00-23:30;   \n",
      "\n",
      "                      days parking_lot  \n",
      "0     Mon;Tue;Wed;Thu;Fri;      public  \n",
      "1     Mon;Tue;Wed;Thu;Fri;        none  \n",
      "2     Mon;Tue;Wed;Thu;Fri;        none  \n",
      "3     Mon;Tue;Wed;Thu;Fri;        none  \n",
      "4     Mon;Tue;Wed;Thu;Fri;         yes  \n",
      "...                    ...         ...  \n",
      "1156  Mon;Tue;Wed;Thu;Fri;        none  \n",
      "1157  Mon;Tue;Wed;Thu;Fri;        none  \n",
      "1158  Mon;Tue;Wed;Thu;Fri;         yes  \n",
      "1159  Mon;Tue;Wed;Thu;Fri;      public  \n",
      "1160  Mon;Tue;Wed;Thu;Fri;        none  \n",
      "\n",
      "[1161 rows x 30 columns]\n"
     ]
    }
   ],
   "source": [
    "print(df_ratings)"
   ]
  },
  {
   "cell_type": "code",
   "execution_count": null,
   "metadata": {},
   "outputs": [],
   "source": [
    "from surprise import Dataset\n",
    "from surprise import Reader\n",
    "\n",
    "reader = Reader(rating_scale=(1, 5))\n",
    "data = Dataset.load_from_df(df_ratings[['userID', 'placeID', 'rating']], reader)"
   ]
  },
  {
   "cell_type": "code",
   "execution_count": null,
   "metadata": {},
   "outputs": [
    {
     "name": "stdout",
     "output_type": "stream",
     "text": [
      "Processing epoch 0\n",
      "Processing epoch 1\n",
      "Processing epoch 2\n",
      "Processing epoch 3\n",
      "Processing epoch 4\n",
      "Processing epoch 5\n",
      "Processing epoch 6\n",
      "Processing epoch 7\n",
      "Processing epoch 8\n",
      "Processing epoch 9\n",
      "Processing epoch 0\n",
      "Processing epoch 1\n",
      "Processing epoch 2\n",
      "Processing epoch 3\n",
      "Processing epoch 4\n",
      "Processing epoch 5\n",
      "Processing epoch 6\n",
      "Processing epoch 7\n",
      "Processing epoch 8\n",
      "Processing epoch 9\n",
      "Processing epoch 0\n",
      "Processing epoch 1\n",
      "Processing epoch 2\n",
      "Processing epoch 3\n",
      "Processing epoch 4\n",
      "Processing epoch 5\n",
      "Processing epoch 6\n",
      "Processing epoch 7\n",
      "Processing epoch 8\n",
      "Processing epoch 9\n",
      "Evaluating RMSE, MAE of algorithm SVD on 3 split(s).\n",
      "\n",
      "                  Fold 1  Fold 2  Fold 3  Mean    Std     \n",
      "RMSE (testset)    0.7149  0.7607  0.7151  0.7303  0.0215  \n",
      "MAE (testset)     0.6107  0.6472  0.6149  0.6243  0.0163  \n",
      "Fit time          0.00    0.00    0.00    0.00    0.00    \n",
      "Test time         0.00    0.00    0.00    0.00    0.00    \n"
     ]
    },
    {
     "data": {
      "text/plain": [
       "{'test_rmse': array([0.71493218, 0.76072994, 0.71513276]),\n",
       " 'test_mae': array([0.61070342, 0.64719216, 0.6149175 ]),\n",
       " 'fit_time': (0.0029358863830566406,\n",
       "  0.0021986961364746094,\n",
       "  0.002148866653442383),\n",
       " 'test_time': (0.001399993896484375,\n",
       "  0.0007622241973876953,\n",
       "  0.0007810592651367188)}"
      ]
     },
     "execution_count": 11,
     "metadata": {},
     "output_type": "execute_result"
    }
   ],
   "source": [
    "from surprise import SVD\n",
    "from surprise.model_selection import cross_validate\n",
    "\n",
    "svd = SVD(verbose=True, n_epochs=10)\n",
    "cross_validate(svd, data, measures=['RMSE', 'MAE'], cv=3, verbose=True)"
   ]
  },
  {
   "cell_type": "code",
   "execution_count": null,
   "metadata": {},
   "outputs": [
    {
     "name": "stdout",
     "output_type": "stream",
     "text": [
      "Processing epoch 0\n",
      "Processing epoch 1\n",
      "Processing epoch 2\n",
      "Processing epoch 3\n",
      "Processing epoch 4\n",
      "Processing epoch 5\n",
      "Processing epoch 6\n",
      "Processing epoch 7\n",
      "Processing epoch 8\n",
      "Processing epoch 9\n"
     ]
    },
    {
     "data": {
      "text/plain": [
       "<surprise.prediction_algorithms.matrix_factorization.SVD at 0x1468bad00>"
      ]
     },
     "execution_count": 12,
     "metadata": {},
     "output_type": "execute_result"
    }
   ],
   "source": [
    "trainset = data.build_full_trainset()\n",
    "svd.fit(trainset)"
   ]
  },
  {
   "cell_type": "code",
   "execution_count": null,
   "metadata": {},
   "outputs": [
    {
     "data": {
      "text/plain": [
       "Prediction(uid=10, iid=100, r_ui=None, est=1.1998277347114557, details={'was_impossible': False})"
      ]
     },
     "execution_count": 13,
     "metadata": {},
     "output_type": "execute_result"
    }
   ],
   "source": [
    "svd.predict(uid=10, iid=100)"
   ]
  },
  {
   "cell_type": "code",
   "execution_count": null,
   "metadata": {},
   "outputs": [
    {
     "name": "stdout",
     "output_type": "stream",
     "text": [
      "     userID  placeID  rating  food_rating  service_rating   latitude  \\\n",
      "0     U1077   135085       2            2               2  22.150802   \n",
      "1     U1077   135038       2            2               1  22.155651   \n",
      "2     U1077   132825       2            2               2  22.147392   \n",
      "3     U1077   135060       1            2               2  22.156883   \n",
      "4     U1068   135104       1            1               2  23.752982   \n",
      "...     ...      ...     ...          ...             ...        ...   \n",
      "1156  U1043   132630       1            1               1  23.752931   \n",
      "1157  U1011   132715       1            1               0  23.732423   \n",
      "1158  U1068   132733       1            1               0  23.752707   \n",
      "1159  U1068   132594       1            1               1  23.752168   \n",
      "1160  U1068   132660       0            0               0  23.752943   \n",
      "\n",
      "       longitude                                     the_geom_meter  \\\n",
      "0    -100.982680  0101000020957F00009F823DA6094858C18A2D4D37F9A4...   \n",
      "1    -100.977767  0101000020957F0000506149736E4758C1A8BC93DA48A3...   \n",
      "2    -100.983092  0101000020957F00001AD016568C4858C1243261274BA5...   \n",
      "3    -100.978485  0101000020957F00004C95C918394758C17A5C44896AA3...   \n",
      "4     -99.168434  0101000020957F00007CDF5EAFC58157C1645743B23E4F...   \n",
      "...          ...                                                ...   \n",
      "1156  -99.164473  0101000020957F000047206572DE8157C1D3315028254E...   \n",
      "1157  -99.158660  0101000020957F00004609B96F198557C11973490A874D...   \n",
      "1158  -99.162565  0101000020957F0000F2F4110CF28157C1DCFD7C1BA04D...   \n",
      "1159  -99.165709  0101000020957F00003AE4C6DBF48157C1CE38ECC1864E...   \n",
      "1160  -99.164679  0101000020957F00003D7905C9DC8157C13FCD1AB7334E...   \n",
      "\n",
      "                                       name  \\\n",
      "0                    Tortas Locas Hipocampo   \n",
      "1                     Restaurant la Chalita   \n",
      "2                           puesto de tacos   \n",
      "3                   Restaurante Marisco Sam   \n",
      "4                                      vips   \n",
      "...                                     ...   \n",
      "1156                             palomo tec   \n",
      "1157                   tacos de la estacion   \n",
      "1158                          Little Cesarz   \n",
      "1159     tacos de barbacoa enfrente del Tec   \n",
      "1160  carnitas mata calle Emilio Portes Gil   \n",
      "\n",
      "                                     address  ... url Rambience franchise  \\\n",
      "0             Venustiano Carranza 719 Centro  ...   ?  familiar         f   \n",
      "1         Guajardo Sn San Luis Potosi Centro  ...   ?  familiar         f   \n",
      "2     esquina santos degollado y leon guzman  ...   ?  familiar         f   \n",
      "3                 Ignacio Allende 785 Centro  ...   ?  familiar         f   \n",
      "4                                          ?  ...   ?  familiar         t   \n",
      "...                                      ...  ...  ..       ...       ...   \n",
      "1156                 blvrd emilio portes gil  ...   ?  familiar         f   \n",
      "1157                                       ?  ...   ?     quiet         f   \n",
      "1158                                       ?  ...   ?  familiar         t   \n",
      "1159                                       ?  ...   ?  familiar         f   \n",
      "1160                       Emilio Portes Gil  ...   ?  familiar         f   \n",
      "\n",
      "        area other_services Rpayment   Rcuisine         hours  \\\n",
      "0     closed           none     cash  Fast_Food  00:00-00:00;   \n",
      "1     closed           none     cash        NaN  08:00-17:00;   \n",
      "2       open           none     cash    Mexican  09:00-12:00;   \n",
      "3     closed           none     cash    Seafood  11:30-19:00;   \n",
      "4     closed        variety     cash    Mexican  00:00-23:30;   \n",
      "...      ...            ...      ...        ...           ...   \n",
      "1156  closed           none      NaN    Mexican  00:00-23:30;   \n",
      "1157    open           none     cash    Mexican  09:00-16:00;   \n",
      "1158  closed           none     cash   Pizzeria  10:30-22:30;   \n",
      "1159    open           none     cash    Mexican  09:30-23:30;   \n",
      "1160  closed           none      NaN        NaN  00:00-23:30;   \n",
      "\n",
      "                      days parking_lot  \n",
      "0     Mon;Tue;Wed;Thu;Fri;      public  \n",
      "1     Mon;Tue;Wed;Thu;Fri;        none  \n",
      "2     Mon;Tue;Wed;Thu;Fri;        none  \n",
      "3     Mon;Tue;Wed;Thu;Fri;        none  \n",
      "4     Mon;Tue;Wed;Thu;Fri;         yes  \n",
      "...                    ...         ...  \n",
      "1156  Mon;Tue;Wed;Thu;Fri;        none  \n",
      "1157  Mon;Tue;Wed;Thu;Fri;        none  \n",
      "1158  Mon;Tue;Wed;Thu;Fri;         yes  \n",
      "1159  Mon;Tue;Wed;Thu;Fri;      public  \n",
      "1160  Mon;Tue;Wed;Thu;Fri;        none  \n",
      "\n",
      "[1161 rows x 30 columns]\n"
     ]
    }
   ],
   "source": [
    "print(df_ratings)"
   ]
  },
  {
   "cell_type": "code",
   "execution_count": null,
   "metadata": {},
   "outputs": [
    {
     "data": {
      "text/html": [
       "<div>\n",
       "<style scoped>\n",
       "    .dataframe tbody tr th:only-of-type {\n",
       "        vertical-align: middle;\n",
       "    }\n",
       "\n",
       "    .dataframe tbody tr th {\n",
       "        vertical-align: top;\n",
       "    }\n",
       "\n",
       "    .dataframe thead th {\n",
       "        text-align: right;\n",
       "    }\n",
       "</style>\n",
       "<table border=\"1\" class=\"dataframe\">\n",
       "  <thead>\n",
       "    <tr style=\"text-align: right;\">\n",
       "      <th></th>\n",
       "      <th>userID</th>\n",
       "      <th>placeID</th>\n",
       "      <th>rating</th>\n",
       "      <th>food_rating</th>\n",
       "      <th>service_rating</th>\n",
       "      <th>latitude</th>\n",
       "      <th>longitude</th>\n",
       "      <th>the_geom_meter</th>\n",
       "      <th>name</th>\n",
       "      <th>address</th>\n",
       "      <th>...</th>\n",
       "      <th>url</th>\n",
       "      <th>Rambience</th>\n",
       "      <th>franchise</th>\n",
       "      <th>area</th>\n",
       "      <th>other_services</th>\n",
       "      <th>Rpayment</th>\n",
       "      <th>Rcuisine</th>\n",
       "      <th>hours</th>\n",
       "      <th>days</th>\n",
       "      <th>parking_lot</th>\n",
       "    </tr>\n",
       "  </thead>\n",
       "  <tbody>\n",
       "    <tr>\n",
       "      <th>0</th>\n",
       "      <td>U1077</td>\n",
       "      <td>135085</td>\n",
       "      <td>2</td>\n",
       "      <td>2</td>\n",
       "      <td>2</td>\n",
       "      <td>22.150802</td>\n",
       "      <td>-100.98268</td>\n",
       "      <td>0101000020957F00009F823DA6094858C18A2D4D37F9A4...</td>\n",
       "      <td>Tortas Locas Hipocampo</td>\n",
       "      <td>Venustiano Carranza 719 Centro</td>\n",
       "      <td>...</td>\n",
       "      <td>?</td>\n",
       "      <td>familiar</td>\n",
       "      <td>f</td>\n",
       "      <td>closed</td>\n",
       "      <td>none</td>\n",
       "      <td>cash</td>\n",
       "      <td>Fast_Food</td>\n",
       "      <td>00:00-00:00;</td>\n",
       "      <td>Mon;Tue;Wed;Thu;Fri;</td>\n",
       "      <td>public</td>\n",
       "    </tr>\n",
       "    <tr>\n",
       "      <th>68</th>\n",
       "      <td>U1108</td>\n",
       "      <td>135085</td>\n",
       "      <td>1</td>\n",
       "      <td>2</td>\n",
       "      <td>1</td>\n",
       "      <td>22.150802</td>\n",
       "      <td>-100.98268</td>\n",
       "      <td>0101000020957F00009F823DA6094858C18A2D4D37F9A4...</td>\n",
       "      <td>Tortas Locas Hipocampo</td>\n",
       "      <td>Venustiano Carranza 719 Centro</td>\n",
       "      <td>...</td>\n",
       "      <td>?</td>\n",
       "      <td>familiar</td>\n",
       "      <td>f</td>\n",
       "      <td>closed</td>\n",
       "      <td>none</td>\n",
       "      <td>cash</td>\n",
       "      <td>Fast_Food</td>\n",
       "      <td>00:00-00:00;</td>\n",
       "      <td>Mon;Tue;Wed;Thu;Fri;</td>\n",
       "      <td>public</td>\n",
       "    </tr>\n",
       "    <tr>\n",
       "      <th>211</th>\n",
       "      <td>U1081</td>\n",
       "      <td>135085</td>\n",
       "      <td>1</td>\n",
       "      <td>2</td>\n",
       "      <td>1</td>\n",
       "      <td>22.150802</td>\n",
       "      <td>-100.98268</td>\n",
       "      <td>0101000020957F00009F823DA6094858C18A2D4D37F9A4...</td>\n",
       "      <td>Tortas Locas Hipocampo</td>\n",
       "      <td>Venustiano Carranza 719 Centro</td>\n",
       "      <td>...</td>\n",
       "      <td>?</td>\n",
       "      <td>familiar</td>\n",
       "      <td>f</td>\n",
       "      <td>closed</td>\n",
       "      <td>none</td>\n",
       "      <td>cash</td>\n",
       "      <td>Fast_Food</td>\n",
       "      <td>00:00-00:00;</td>\n",
       "      <td>Mon;Tue;Wed;Thu;Fri;</td>\n",
       "      <td>public</td>\n",
       "    </tr>\n",
       "    <tr>\n",
       "      <th>246</th>\n",
       "      <td>U1056</td>\n",
       "      <td>135085</td>\n",
       "      <td>2</td>\n",
       "      <td>2</td>\n",
       "      <td>2</td>\n",
       "      <td>22.150802</td>\n",
       "      <td>-100.98268</td>\n",
       "      <td>0101000020957F00009F823DA6094858C18A2D4D37F9A4...</td>\n",
       "      <td>Tortas Locas Hipocampo</td>\n",
       "      <td>Venustiano Carranza 719 Centro</td>\n",
       "      <td>...</td>\n",
       "      <td>?</td>\n",
       "      <td>familiar</td>\n",
       "      <td>f</td>\n",
       "      <td>closed</td>\n",
       "      <td>none</td>\n",
       "      <td>cash</td>\n",
       "      <td>Fast_Food</td>\n",
       "      <td>00:00-00:00;</td>\n",
       "      <td>Mon;Tue;Wed;Thu;Fri;</td>\n",
       "      <td>public</td>\n",
       "    </tr>\n",
       "    <tr>\n",
       "      <th>257</th>\n",
       "      <td>U1134</td>\n",
       "      <td>135085</td>\n",
       "      <td>2</td>\n",
       "      <td>1</td>\n",
       "      <td>2</td>\n",
       "      <td>22.150802</td>\n",
       "      <td>-100.98268</td>\n",
       "      <td>0101000020957F00009F823DA6094858C18A2D4D37F9A4...</td>\n",
       "      <td>Tortas Locas Hipocampo</td>\n",
       "      <td>Venustiano Carranza 719 Centro</td>\n",
       "      <td>...</td>\n",
       "      <td>?</td>\n",
       "      <td>familiar</td>\n",
       "      <td>f</td>\n",
       "      <td>closed</td>\n",
       "      <td>none</td>\n",
       "      <td>cash</td>\n",
       "      <td>Fast_Food</td>\n",
       "      <td>00:00-00:00;</td>\n",
       "      <td>Mon;Tue;Wed;Thu;Fri;</td>\n",
       "      <td>public</td>\n",
       "    </tr>\n",
       "    <tr>\n",
       "      <th>347</th>\n",
       "      <td>U1116</td>\n",
       "      <td>135085</td>\n",
       "      <td>2</td>\n",
       "      <td>2</td>\n",
       "      <td>2</td>\n",
       "      <td>22.150802</td>\n",
       "      <td>-100.98268</td>\n",
       "      <td>0101000020957F00009F823DA6094858C18A2D4D37F9A4...</td>\n",
       "      <td>Tortas Locas Hipocampo</td>\n",
       "      <td>Venustiano Carranza 719 Centro</td>\n",
       "      <td>...</td>\n",
       "      <td>?</td>\n",
       "      <td>familiar</td>\n",
       "      <td>f</td>\n",
       "      <td>closed</td>\n",
       "      <td>none</td>\n",
       "      <td>cash</td>\n",
       "      <td>Fast_Food</td>\n",
       "      <td>00:00-00:00;</td>\n",
       "      <td>Mon;Tue;Wed;Thu;Fri;</td>\n",
       "      <td>public</td>\n",
       "    </tr>\n",
       "    <tr>\n",
       "      <th>403</th>\n",
       "      <td>U1132</td>\n",
       "      <td>135085</td>\n",
       "      <td>2</td>\n",
       "      <td>2</td>\n",
       "      <td>2</td>\n",
       "      <td>22.150802</td>\n",
       "      <td>-100.98268</td>\n",
       "      <td>0101000020957F00009F823DA6094858C18A2D4D37F9A4...</td>\n",
       "      <td>Tortas Locas Hipocampo</td>\n",
       "      <td>Venustiano Carranza 719 Centro</td>\n",
       "      <td>...</td>\n",
       "      <td>?</td>\n",
       "      <td>familiar</td>\n",
       "      <td>f</td>\n",
       "      <td>closed</td>\n",
       "      <td>none</td>\n",
       "      <td>cash</td>\n",
       "      <td>Fast_Food</td>\n",
       "      <td>00:00-00:00;</td>\n",
       "      <td>Mon;Tue;Wed;Thu;Fri;</td>\n",
       "      <td>public</td>\n",
       "    </tr>\n",
       "    <tr>\n",
       "      <th>420</th>\n",
       "      <td>U1120</td>\n",
       "      <td>135085</td>\n",
       "      <td>0</td>\n",
       "      <td>0</td>\n",
       "      <td>0</td>\n",
       "      <td>22.150802</td>\n",
       "      <td>-100.98268</td>\n",
       "      <td>0101000020957F00009F823DA6094858C18A2D4D37F9A4...</td>\n",
       "      <td>Tortas Locas Hipocampo</td>\n",
       "      <td>Venustiano Carranza 719 Centro</td>\n",
       "      <td>...</td>\n",
       "      <td>?</td>\n",
       "      <td>familiar</td>\n",
       "      <td>f</td>\n",
       "      <td>closed</td>\n",
       "      <td>none</td>\n",
       "      <td>cash</td>\n",
       "      <td>Fast_Food</td>\n",
       "      <td>00:00-00:00;</td>\n",
       "      <td>Mon;Tue;Wed;Thu;Fri;</td>\n",
       "      <td>public</td>\n",
       "    </tr>\n",
       "    <tr>\n",
       "      <th>450</th>\n",
       "      <td>U1036</td>\n",
       "      <td>135085</td>\n",
       "      <td>2</td>\n",
       "      <td>2</td>\n",
       "      <td>2</td>\n",
       "      <td>22.150802</td>\n",
       "      <td>-100.98268</td>\n",
       "      <td>0101000020957F00009F823DA6094858C18A2D4D37F9A4...</td>\n",
       "      <td>Tortas Locas Hipocampo</td>\n",
       "      <td>Venustiano Carranza 719 Centro</td>\n",
       "      <td>...</td>\n",
       "      <td>?</td>\n",
       "      <td>familiar</td>\n",
       "      <td>f</td>\n",
       "      <td>closed</td>\n",
       "      <td>none</td>\n",
       "      <td>cash</td>\n",
       "      <td>Fast_Food</td>\n",
       "      <td>00:00-00:00;</td>\n",
       "      <td>Mon;Tue;Wed;Thu;Fri;</td>\n",
       "      <td>public</td>\n",
       "    </tr>\n",
       "    <tr>\n",
       "      <th>485</th>\n",
       "      <td>U1084</td>\n",
       "      <td>135085</td>\n",
       "      <td>2</td>\n",
       "      <td>2</td>\n",
       "      <td>2</td>\n",
       "      <td>22.150802</td>\n",
       "      <td>-100.98268</td>\n",
       "      <td>0101000020957F00009F823DA6094858C18A2D4D37F9A4...</td>\n",
       "      <td>Tortas Locas Hipocampo</td>\n",
       "      <td>Venustiano Carranza 719 Centro</td>\n",
       "      <td>...</td>\n",
       "      <td>?</td>\n",
       "      <td>familiar</td>\n",
       "      <td>f</td>\n",
       "      <td>closed</td>\n",
       "      <td>none</td>\n",
       "      <td>cash</td>\n",
       "      <td>Fast_Food</td>\n",
       "      <td>00:00-00:00;</td>\n",
       "      <td>Mon;Tue;Wed;Thu;Fri;</td>\n",
       "      <td>public</td>\n",
       "    </tr>\n",
       "    <tr>\n",
       "      <th>504</th>\n",
       "      <td>U1113</td>\n",
       "      <td>135085</td>\n",
       "      <td>1</td>\n",
       "      <td>2</td>\n",
       "      <td>1</td>\n",
       "      <td>22.150802</td>\n",
       "      <td>-100.98268</td>\n",
       "      <td>0101000020957F00009F823DA6094858C18A2D4D37F9A4...</td>\n",
       "      <td>Tortas Locas Hipocampo</td>\n",
       "      <td>Venustiano Carranza 719 Centro</td>\n",
       "      <td>...</td>\n",
       "      <td>?</td>\n",
       "      <td>familiar</td>\n",
       "      <td>f</td>\n",
       "      <td>closed</td>\n",
       "      <td>none</td>\n",
       "      <td>cash</td>\n",
       "      <td>Fast_Food</td>\n",
       "      <td>00:00-00:00;</td>\n",
       "      <td>Mon;Tue;Wed;Thu;Fri;</td>\n",
       "      <td>public</td>\n",
       "    </tr>\n",
       "    <tr>\n",
       "      <th>512</th>\n",
       "      <td>U1104</td>\n",
       "      <td>135085</td>\n",
       "      <td>2</td>\n",
       "      <td>2</td>\n",
       "      <td>1</td>\n",
       "      <td>22.150802</td>\n",
       "      <td>-100.98268</td>\n",
       "      <td>0101000020957F00009F823DA6094858C18A2D4D37F9A4...</td>\n",
       "      <td>Tortas Locas Hipocampo</td>\n",
       "      <td>Venustiano Carranza 719 Centro</td>\n",
       "      <td>...</td>\n",
       "      <td>?</td>\n",
       "      <td>familiar</td>\n",
       "      <td>f</td>\n",
       "      <td>closed</td>\n",
       "      <td>none</td>\n",
       "      <td>cash</td>\n",
       "      <td>Fast_Food</td>\n",
       "      <td>00:00-00:00;</td>\n",
       "      <td>Mon;Tue;Wed;Thu;Fri;</td>\n",
       "      <td>public</td>\n",
       "    </tr>\n",
       "    <tr>\n",
       "      <th>530</th>\n",
       "      <td>U1106</td>\n",
       "      <td>135085</td>\n",
       "      <td>2</td>\n",
       "      <td>2</td>\n",
       "      <td>2</td>\n",
       "      <td>22.150802</td>\n",
       "      <td>-100.98268</td>\n",
       "      <td>0101000020957F00009F823DA6094858C18A2D4D37F9A4...</td>\n",
       "      <td>Tortas Locas Hipocampo</td>\n",
       "      <td>Venustiano Carranza 719 Centro</td>\n",
       "      <td>...</td>\n",
       "      <td>?</td>\n",
       "      <td>familiar</td>\n",
       "      <td>f</td>\n",
       "      <td>closed</td>\n",
       "      <td>none</td>\n",
       "      <td>cash</td>\n",
       "      <td>Fast_Food</td>\n",
       "      <td>00:00-00:00;</td>\n",
       "      <td>Mon;Tue;Wed;Thu;Fri;</td>\n",
       "      <td>public</td>\n",
       "    </tr>\n",
       "    <tr>\n",
       "      <th>547</th>\n",
       "      <td>U1045</td>\n",
       "      <td>135085</td>\n",
       "      <td>2</td>\n",
       "      <td>2</td>\n",
       "      <td>2</td>\n",
       "      <td>22.150802</td>\n",
       "      <td>-100.98268</td>\n",
       "      <td>0101000020957F00009F823DA6094858C18A2D4D37F9A4...</td>\n",
       "      <td>Tortas Locas Hipocampo</td>\n",
       "      <td>Venustiano Carranza 719 Centro</td>\n",
       "      <td>...</td>\n",
       "      <td>?</td>\n",
       "      <td>familiar</td>\n",
       "      <td>f</td>\n",
       "      <td>closed</td>\n",
       "      <td>none</td>\n",
       "      <td>cash</td>\n",
       "      <td>Fast_Food</td>\n",
       "      <td>00:00-00:00;</td>\n",
       "      <td>Mon;Tue;Wed;Thu;Fri;</td>\n",
       "      <td>public</td>\n",
       "    </tr>\n",
       "    <tr>\n",
       "      <th>573</th>\n",
       "      <td>U1016</td>\n",
       "      <td>135085</td>\n",
       "      <td>2</td>\n",
       "      <td>2</td>\n",
       "      <td>0</td>\n",
       "      <td>22.150802</td>\n",
       "      <td>-100.98268</td>\n",
       "      <td>0101000020957F00009F823DA6094858C18A2D4D37F9A4...</td>\n",
       "      <td>Tortas Locas Hipocampo</td>\n",
       "      <td>Venustiano Carranza 719 Centro</td>\n",
       "      <td>...</td>\n",
       "      <td>?</td>\n",
       "      <td>familiar</td>\n",
       "      <td>f</td>\n",
       "      <td>closed</td>\n",
       "      <td>none</td>\n",
       "      <td>cash</td>\n",
       "      <td>Fast_Food</td>\n",
       "      <td>00:00-00:00;</td>\n",
       "      <td>Mon;Tue;Wed;Thu;Fri;</td>\n",
       "      <td>public</td>\n",
       "    </tr>\n",
       "    <tr>\n",
       "      <th>592</th>\n",
       "      <td>U1007</td>\n",
       "      <td>135085</td>\n",
       "      <td>1</td>\n",
       "      <td>2</td>\n",
       "      <td>0</td>\n",
       "      <td>22.150802</td>\n",
       "      <td>-100.98268</td>\n",
       "      <td>0101000020957F00009F823DA6094858C18A2D4D37F9A4...</td>\n",
       "      <td>Tortas Locas Hipocampo</td>\n",
       "      <td>Venustiano Carranza 719 Centro</td>\n",
       "      <td>...</td>\n",
       "      <td>?</td>\n",
       "      <td>familiar</td>\n",
       "      <td>f</td>\n",
       "      <td>closed</td>\n",
       "      <td>none</td>\n",
       "      <td>cash</td>\n",
       "      <td>Fast_Food</td>\n",
       "      <td>00:00-00:00;</td>\n",
       "      <td>Mon;Tue;Wed;Thu;Fri;</td>\n",
       "      <td>public</td>\n",
       "    </tr>\n",
       "    <tr>\n",
       "      <th>639</th>\n",
       "      <td>U1013</td>\n",
       "      <td>135085</td>\n",
       "      <td>1</td>\n",
       "      <td>2</td>\n",
       "      <td>0</td>\n",
       "      <td>22.150802</td>\n",
       "      <td>-100.98268</td>\n",
       "      <td>0101000020957F00009F823DA6094858C18A2D4D37F9A4...</td>\n",
       "      <td>Tortas Locas Hipocampo</td>\n",
       "      <td>Venustiano Carranza 719 Centro</td>\n",
       "      <td>...</td>\n",
       "      <td>?</td>\n",
       "      <td>familiar</td>\n",
       "      <td>f</td>\n",
       "      <td>closed</td>\n",
       "      <td>none</td>\n",
       "      <td>cash</td>\n",
       "      <td>Fast_Food</td>\n",
       "      <td>00:00-00:00;</td>\n",
       "      <td>Mon;Tue;Wed;Thu;Fri;</td>\n",
       "      <td>public</td>\n",
       "    </tr>\n",
       "    <tr>\n",
       "      <th>688</th>\n",
       "      <td>U1001</td>\n",
       "      <td>135085</td>\n",
       "      <td>0</td>\n",
       "      <td>1</td>\n",
       "      <td>1</td>\n",
       "      <td>22.150802</td>\n",
       "      <td>-100.98268</td>\n",
       "      <td>0101000020957F00009F823DA6094858C18A2D4D37F9A4...</td>\n",
       "      <td>Tortas Locas Hipocampo</td>\n",
       "      <td>Venustiano Carranza 719 Centro</td>\n",
       "      <td>...</td>\n",
       "      <td>?</td>\n",
       "      <td>familiar</td>\n",
       "      <td>f</td>\n",
       "      <td>closed</td>\n",
       "      <td>none</td>\n",
       "      <td>cash</td>\n",
       "      <td>Fast_Food</td>\n",
       "      <td>00:00-00:00;</td>\n",
       "      <td>Mon;Tue;Wed;Thu;Fri;</td>\n",
       "      <td>public</td>\n",
       "    </tr>\n",
       "    <tr>\n",
       "      <th>695</th>\n",
       "      <td>U1135</td>\n",
       "      <td>135085</td>\n",
       "      <td>0</td>\n",
       "      <td>0</td>\n",
       "      <td>0</td>\n",
       "      <td>22.150802</td>\n",
       "      <td>-100.98268</td>\n",
       "      <td>0101000020957F00009F823DA6094858C18A2D4D37F9A4...</td>\n",
       "      <td>Tortas Locas Hipocampo</td>\n",
       "      <td>Venustiano Carranza 719 Centro</td>\n",
       "      <td>...</td>\n",
       "      <td>?</td>\n",
       "      <td>familiar</td>\n",
       "      <td>f</td>\n",
       "      <td>closed</td>\n",
       "      <td>none</td>\n",
       "      <td>cash</td>\n",
       "      <td>Fast_Food</td>\n",
       "      <td>00:00-00:00;</td>\n",
       "      <td>Mon;Tue;Wed;Thu;Fri;</td>\n",
       "      <td>public</td>\n",
       "    </tr>\n",
       "    <tr>\n",
       "      <th>702</th>\n",
       "      <td>U1032</td>\n",
       "      <td>135085</td>\n",
       "      <td>1</td>\n",
       "      <td>1</td>\n",
       "      <td>1</td>\n",
       "      <td>22.150802</td>\n",
       "      <td>-100.98268</td>\n",
       "      <td>0101000020957F00009F823DA6094858C18A2D4D37F9A4...</td>\n",
       "      <td>Tortas Locas Hipocampo</td>\n",
       "      <td>Venustiano Carranza 719 Centro</td>\n",
       "      <td>...</td>\n",
       "      <td>?</td>\n",
       "      <td>familiar</td>\n",
       "      <td>f</td>\n",
       "      <td>closed</td>\n",
       "      <td>none</td>\n",
       "      <td>cash</td>\n",
       "      <td>Fast_Food</td>\n",
       "      <td>00:00-00:00;</td>\n",
       "      <td>Mon;Tue;Wed;Thu;Fri;</td>\n",
       "      <td>public</td>\n",
       "    </tr>\n",
       "    <tr>\n",
       "      <th>726</th>\n",
       "      <td>U1062</td>\n",
       "      <td>135085</td>\n",
       "      <td>0</td>\n",
       "      <td>0</td>\n",
       "      <td>0</td>\n",
       "      <td>22.150802</td>\n",
       "      <td>-100.98268</td>\n",
       "      <td>0101000020957F00009F823DA6094858C18A2D4D37F9A4...</td>\n",
       "      <td>Tortas Locas Hipocampo</td>\n",
       "      <td>Venustiano Carranza 719 Centro</td>\n",
       "      <td>...</td>\n",
       "      <td>?</td>\n",
       "      <td>familiar</td>\n",
       "      <td>f</td>\n",
       "      <td>closed</td>\n",
       "      <td>none</td>\n",
       "      <td>cash</td>\n",
       "      <td>Fast_Food</td>\n",
       "      <td>00:00-00:00;</td>\n",
       "      <td>Mon;Tue;Wed;Thu;Fri;</td>\n",
       "      <td>public</td>\n",
       "    </tr>\n",
       "    <tr>\n",
       "      <th>730</th>\n",
       "      <td>U1092</td>\n",
       "      <td>135085</td>\n",
       "      <td>0</td>\n",
       "      <td>0</td>\n",
       "      <td>0</td>\n",
       "      <td>22.150802</td>\n",
       "      <td>-100.98268</td>\n",
       "      <td>0101000020957F00009F823DA6094858C18A2D4D37F9A4...</td>\n",
       "      <td>Tortas Locas Hipocampo</td>\n",
       "      <td>Venustiano Carranza 719 Centro</td>\n",
       "      <td>...</td>\n",
       "      <td>?</td>\n",
       "      <td>familiar</td>\n",
       "      <td>f</td>\n",
       "      <td>closed</td>\n",
       "      <td>none</td>\n",
       "      <td>cash</td>\n",
       "      <td>Fast_Food</td>\n",
       "      <td>00:00-00:00;</td>\n",
       "      <td>Mon;Tue;Wed;Thu;Fri;</td>\n",
       "      <td>public</td>\n",
       "    </tr>\n",
       "    <tr>\n",
       "      <th>759</th>\n",
       "      <td>U1109</td>\n",
       "      <td>135085</td>\n",
       "      <td>2</td>\n",
       "      <td>2</td>\n",
       "      <td>2</td>\n",
       "      <td>22.150802</td>\n",
       "      <td>-100.98268</td>\n",
       "      <td>0101000020957F00009F823DA6094858C18A2D4D37F9A4...</td>\n",
       "      <td>Tortas Locas Hipocampo</td>\n",
       "      <td>Venustiano Carranza 719 Centro</td>\n",
       "      <td>...</td>\n",
       "      <td>?</td>\n",
       "      <td>familiar</td>\n",
       "      <td>f</td>\n",
       "      <td>closed</td>\n",
       "      <td>none</td>\n",
       "      <td>cash</td>\n",
       "      <td>Fast_Food</td>\n",
       "      <td>00:00-00:00;</td>\n",
       "      <td>Mon;Tue;Wed;Thu;Fri;</td>\n",
       "      <td>public</td>\n",
       "    </tr>\n",
       "    <tr>\n",
       "      <th>782</th>\n",
       "      <td>U1122</td>\n",
       "      <td>135085</td>\n",
       "      <td>2</td>\n",
       "      <td>2</td>\n",
       "      <td>1</td>\n",
       "      <td>22.150802</td>\n",
       "      <td>-100.98268</td>\n",
       "      <td>0101000020957F00009F823DA6094858C18A2D4D37F9A4...</td>\n",
       "      <td>Tortas Locas Hipocampo</td>\n",
       "      <td>Venustiano Carranza 719 Centro</td>\n",
       "      <td>...</td>\n",
       "      <td>?</td>\n",
       "      <td>familiar</td>\n",
       "      <td>f</td>\n",
       "      <td>closed</td>\n",
       "      <td>none</td>\n",
       "      <td>cash</td>\n",
       "      <td>Fast_Food</td>\n",
       "      <td>00:00-00:00;</td>\n",
       "      <td>Mon;Tue;Wed;Thu;Fri;</td>\n",
       "      <td>public</td>\n",
       "    </tr>\n",
       "    <tr>\n",
       "      <th>790</th>\n",
       "      <td>U1098</td>\n",
       "      <td>135085</td>\n",
       "      <td>1</td>\n",
       "      <td>2</td>\n",
       "      <td>1</td>\n",
       "      <td>22.150802</td>\n",
       "      <td>-100.98268</td>\n",
       "      <td>0101000020957F00009F823DA6094858C18A2D4D37F9A4...</td>\n",
       "      <td>Tortas Locas Hipocampo</td>\n",
       "      <td>Venustiano Carranza 719 Centro</td>\n",
       "      <td>...</td>\n",
       "      <td>?</td>\n",
       "      <td>familiar</td>\n",
       "      <td>f</td>\n",
       "      <td>closed</td>\n",
       "      <td>none</td>\n",
       "      <td>cash</td>\n",
       "      <td>Fast_Food</td>\n",
       "      <td>00:00-00:00;</td>\n",
       "      <td>Mon;Tue;Wed;Thu;Fri;</td>\n",
       "      <td>public</td>\n",
       "    </tr>\n",
       "    <tr>\n",
       "      <th>804</th>\n",
       "      <td>U1033</td>\n",
       "      <td>135085</td>\n",
       "      <td>2</td>\n",
       "      <td>2</td>\n",
       "      <td>2</td>\n",
       "      <td>22.150802</td>\n",
       "      <td>-100.98268</td>\n",
       "      <td>0101000020957F00009F823DA6094858C18A2D4D37F9A4...</td>\n",
       "      <td>Tortas Locas Hipocampo</td>\n",
       "      <td>Venustiano Carranza 719 Centro</td>\n",
       "      <td>...</td>\n",
       "      <td>?</td>\n",
       "      <td>familiar</td>\n",
       "      <td>f</td>\n",
       "      <td>closed</td>\n",
       "      <td>none</td>\n",
       "      <td>cash</td>\n",
       "      <td>Fast_Food</td>\n",
       "      <td>00:00-00:00;</td>\n",
       "      <td>Mon;Tue;Wed;Thu;Fri;</td>\n",
       "      <td>public</td>\n",
       "    </tr>\n",
       "    <tr>\n",
       "      <th>825</th>\n",
       "      <td>U1089</td>\n",
       "      <td>135085</td>\n",
       "      <td>1</td>\n",
       "      <td>1</td>\n",
       "      <td>1</td>\n",
       "      <td>22.150802</td>\n",
       "      <td>-100.98268</td>\n",
       "      <td>0101000020957F00009F823DA6094858C18A2D4D37F9A4...</td>\n",
       "      <td>Tortas Locas Hipocampo</td>\n",
       "      <td>Venustiano Carranza 719 Centro</td>\n",
       "      <td>...</td>\n",
       "      <td>?</td>\n",
       "      <td>familiar</td>\n",
       "      <td>f</td>\n",
       "      <td>closed</td>\n",
       "      <td>none</td>\n",
       "      <td>cash</td>\n",
       "      <td>Fast_Food</td>\n",
       "      <td>00:00-00:00;</td>\n",
       "      <td>Mon;Tue;Wed;Thu;Fri;</td>\n",
       "      <td>public</td>\n",
       "    </tr>\n",
       "    <tr>\n",
       "      <th>855</th>\n",
       "      <td>U1027</td>\n",
       "      <td>135085</td>\n",
       "      <td>1</td>\n",
       "      <td>1</td>\n",
       "      <td>1</td>\n",
       "      <td>22.150802</td>\n",
       "      <td>-100.98268</td>\n",
       "      <td>0101000020957F00009F823DA6094858C18A2D4D37F9A4...</td>\n",
       "      <td>Tortas Locas Hipocampo</td>\n",
       "      <td>Venustiano Carranza 719 Centro</td>\n",
       "      <td>...</td>\n",
       "      <td>?</td>\n",
       "      <td>familiar</td>\n",
       "      <td>f</td>\n",
       "      <td>closed</td>\n",
       "      <td>none</td>\n",
       "      <td>cash</td>\n",
       "      <td>Fast_Food</td>\n",
       "      <td>00:00-00:00;</td>\n",
       "      <td>Mon;Tue;Wed;Thu;Fri;</td>\n",
       "      <td>public</td>\n",
       "    </tr>\n",
       "    <tr>\n",
       "      <th>861</th>\n",
       "      <td>U1029</td>\n",
       "      <td>135085</td>\n",
       "      <td>1</td>\n",
       "      <td>1</td>\n",
       "      <td>1</td>\n",
       "      <td>22.150802</td>\n",
       "      <td>-100.98268</td>\n",
       "      <td>0101000020957F00009F823DA6094858C18A2D4D37F9A4...</td>\n",
       "      <td>Tortas Locas Hipocampo</td>\n",
       "      <td>Venustiano Carranza 719 Centro</td>\n",
       "      <td>...</td>\n",
       "      <td>?</td>\n",
       "      <td>familiar</td>\n",
       "      <td>f</td>\n",
       "      <td>closed</td>\n",
       "      <td>none</td>\n",
       "      <td>cash</td>\n",
       "      <td>Fast_Food</td>\n",
       "      <td>00:00-00:00;</td>\n",
       "      <td>Mon;Tue;Wed;Thu;Fri;</td>\n",
       "      <td>public</td>\n",
       "    </tr>\n",
       "    <tr>\n",
       "      <th>870</th>\n",
       "      <td>U1086</td>\n",
       "      <td>135085</td>\n",
       "      <td>2</td>\n",
       "      <td>1</td>\n",
       "      <td>1</td>\n",
       "      <td>22.150802</td>\n",
       "      <td>-100.98268</td>\n",
       "      <td>0101000020957F00009F823DA6094858C18A2D4D37F9A4...</td>\n",
       "      <td>Tortas Locas Hipocampo</td>\n",
       "      <td>Venustiano Carranza 719 Centro</td>\n",
       "      <td>...</td>\n",
       "      <td>?</td>\n",
       "      <td>familiar</td>\n",
       "      <td>f</td>\n",
       "      <td>closed</td>\n",
       "      <td>none</td>\n",
       "      <td>cash</td>\n",
       "      <td>Fast_Food</td>\n",
       "      <td>00:00-00:00;</td>\n",
       "      <td>Mon;Tue;Wed;Thu;Fri;</td>\n",
       "      <td>public</td>\n",
       "    </tr>\n",
       "    <tr>\n",
       "      <th>882</th>\n",
       "      <td>U1137</td>\n",
       "      <td>135085</td>\n",
       "      <td>2</td>\n",
       "      <td>1</td>\n",
       "      <td>2</td>\n",
       "      <td>22.150802</td>\n",
       "      <td>-100.98268</td>\n",
       "      <td>0101000020957F00009F823DA6094858C18A2D4D37F9A4...</td>\n",
       "      <td>Tortas Locas Hipocampo</td>\n",
       "      <td>Venustiano Carranza 719 Centro</td>\n",
       "      <td>...</td>\n",
       "      <td>?</td>\n",
       "      <td>familiar</td>\n",
       "      <td>f</td>\n",
       "      <td>closed</td>\n",
       "      <td>none</td>\n",
       "      <td>cash</td>\n",
       "      <td>Fast_Food</td>\n",
       "      <td>00:00-00:00;</td>\n",
       "      <td>Mon;Tue;Wed;Thu;Fri;</td>\n",
       "      <td>public</td>\n",
       "    </tr>\n",
       "    <tr>\n",
       "      <th>922</th>\n",
       "      <td>U1046</td>\n",
       "      <td>135085</td>\n",
       "      <td>1</td>\n",
       "      <td>2</td>\n",
       "      <td>1</td>\n",
       "      <td>22.150802</td>\n",
       "      <td>-100.98268</td>\n",
       "      <td>0101000020957F00009F823DA6094858C18A2D4D37F9A4...</td>\n",
       "      <td>Tortas Locas Hipocampo</td>\n",
       "      <td>Venustiano Carranza 719 Centro</td>\n",
       "      <td>...</td>\n",
       "      <td>?</td>\n",
       "      <td>familiar</td>\n",
       "      <td>f</td>\n",
       "      <td>closed</td>\n",
       "      <td>none</td>\n",
       "      <td>cash</td>\n",
       "      <td>Fast_Food</td>\n",
       "      <td>00:00-00:00;</td>\n",
       "      <td>Mon;Tue;Wed;Thu;Fri;</td>\n",
       "      <td>public</td>\n",
       "    </tr>\n",
       "    <tr>\n",
       "      <th>964</th>\n",
       "      <td>U1090</td>\n",
       "      <td>135085</td>\n",
       "      <td>2</td>\n",
       "      <td>2</td>\n",
       "      <td>2</td>\n",
       "      <td>22.150802</td>\n",
       "      <td>-100.98268</td>\n",
       "      <td>0101000020957F00009F823DA6094858C18A2D4D37F9A4...</td>\n",
       "      <td>Tortas Locas Hipocampo</td>\n",
       "      <td>Venustiano Carranza 719 Centro</td>\n",
       "      <td>...</td>\n",
       "      <td>?</td>\n",
       "      <td>familiar</td>\n",
       "      <td>f</td>\n",
       "      <td>closed</td>\n",
       "      <td>none</td>\n",
       "      <td>cash</td>\n",
       "      <td>Fast_Food</td>\n",
       "      <td>00:00-00:00;</td>\n",
       "      <td>Mon;Tue;Wed;Thu;Fri;</td>\n",
       "      <td>public</td>\n",
       "    </tr>\n",
       "    <tr>\n",
       "      <th>999</th>\n",
       "      <td>U1059</td>\n",
       "      <td>135085</td>\n",
       "      <td>2</td>\n",
       "      <td>2</td>\n",
       "      <td>2</td>\n",
       "      <td>22.150802</td>\n",
       "      <td>-100.98268</td>\n",
       "      <td>0101000020957F00009F823DA6094858C18A2D4D37F9A4...</td>\n",
       "      <td>Tortas Locas Hipocampo</td>\n",
       "      <td>Venustiano Carranza 719 Centro</td>\n",
       "      <td>...</td>\n",
       "      <td>?</td>\n",
       "      <td>familiar</td>\n",
       "      <td>f</td>\n",
       "      <td>closed</td>\n",
       "      <td>none</td>\n",
       "      <td>cash</td>\n",
       "      <td>Fast_Food</td>\n",
       "      <td>00:00-00:00;</td>\n",
       "      <td>Mon;Tue;Wed;Thu;Fri;</td>\n",
       "      <td>public</td>\n",
       "    </tr>\n",
       "    <tr>\n",
       "      <th>1050</th>\n",
       "      <td>U1049</td>\n",
       "      <td>135085</td>\n",
       "      <td>0</td>\n",
       "      <td>0</td>\n",
       "      <td>0</td>\n",
       "      <td>22.150802</td>\n",
       "      <td>-100.98268</td>\n",
       "      <td>0101000020957F00009F823DA6094858C18A2D4D37F9A4...</td>\n",
       "      <td>Tortas Locas Hipocampo</td>\n",
       "      <td>Venustiano Carranza 719 Centro</td>\n",
       "      <td>...</td>\n",
       "      <td>?</td>\n",
       "      <td>familiar</td>\n",
       "      <td>f</td>\n",
       "      <td>closed</td>\n",
       "      <td>none</td>\n",
       "      <td>cash</td>\n",
       "      <td>Fast_Food</td>\n",
       "      <td>00:00-00:00;</td>\n",
       "      <td>Mon;Tue;Wed;Thu;Fri;</td>\n",
       "      <td>public</td>\n",
       "    </tr>\n",
       "    <tr>\n",
       "      <th>1071</th>\n",
       "      <td>U1002</td>\n",
       "      <td>135085</td>\n",
       "      <td>1</td>\n",
       "      <td>1</td>\n",
       "      <td>1</td>\n",
       "      <td>22.150802</td>\n",
       "      <td>-100.98268</td>\n",
       "      <td>0101000020957F00009F823DA6094858C18A2D4D37F9A4...</td>\n",
       "      <td>Tortas Locas Hipocampo</td>\n",
       "      <td>Venustiano Carranza 719 Centro</td>\n",
       "      <td>...</td>\n",
       "      <td>?</td>\n",
       "      <td>familiar</td>\n",
       "      <td>f</td>\n",
       "      <td>closed</td>\n",
       "      <td>none</td>\n",
       "      <td>cash</td>\n",
       "      <td>Fast_Food</td>\n",
       "      <td>00:00-00:00;</td>\n",
       "      <td>Mon;Tue;Wed;Thu;Fri;</td>\n",
       "      <td>public</td>\n",
       "    </tr>\n",
       "  </tbody>\n",
       "</table>\n",
       "<p>36 rows × 30 columns</p>\n",
       "</div>"
      ],
      "text/plain": [
       "     userID  placeID  rating  food_rating  service_rating   latitude  \\\n",
       "0     U1077   135085       2            2               2  22.150802   \n",
       "68    U1108   135085       1            2               1  22.150802   \n",
       "211   U1081   135085       1            2               1  22.150802   \n",
       "246   U1056   135085       2            2               2  22.150802   \n",
       "257   U1134   135085       2            1               2  22.150802   \n",
       "347   U1116   135085       2            2               2  22.150802   \n",
       "403   U1132   135085       2            2               2  22.150802   \n",
       "420   U1120   135085       0            0               0  22.150802   \n",
       "450   U1036   135085       2            2               2  22.150802   \n",
       "485   U1084   135085       2            2               2  22.150802   \n",
       "504   U1113   135085       1            2               1  22.150802   \n",
       "512   U1104   135085       2            2               1  22.150802   \n",
       "530   U1106   135085       2            2               2  22.150802   \n",
       "547   U1045   135085       2            2               2  22.150802   \n",
       "573   U1016   135085       2            2               0  22.150802   \n",
       "592   U1007   135085       1            2               0  22.150802   \n",
       "639   U1013   135085       1            2               0  22.150802   \n",
       "688   U1001   135085       0            1               1  22.150802   \n",
       "695   U1135   135085       0            0               0  22.150802   \n",
       "702   U1032   135085       1            1               1  22.150802   \n",
       "726   U1062   135085       0            0               0  22.150802   \n",
       "730   U1092   135085       0            0               0  22.150802   \n",
       "759   U1109   135085       2            2               2  22.150802   \n",
       "782   U1122   135085       2            2               1  22.150802   \n",
       "790   U1098   135085       1            2               1  22.150802   \n",
       "804   U1033   135085       2            2               2  22.150802   \n",
       "825   U1089   135085       1            1               1  22.150802   \n",
       "855   U1027   135085       1            1               1  22.150802   \n",
       "861   U1029   135085       1            1               1  22.150802   \n",
       "870   U1086   135085       2            1               1  22.150802   \n",
       "882   U1137   135085       2            1               2  22.150802   \n",
       "922   U1046   135085       1            2               1  22.150802   \n",
       "964   U1090   135085       2            2               2  22.150802   \n",
       "999   U1059   135085       2            2               2  22.150802   \n",
       "1050  U1049   135085       0            0               0  22.150802   \n",
       "1071  U1002   135085       1            1               1  22.150802   \n",
       "\n",
       "      longitude                                     the_geom_meter  \\\n",
       "0    -100.98268  0101000020957F00009F823DA6094858C18A2D4D37F9A4...   \n",
       "68   -100.98268  0101000020957F00009F823DA6094858C18A2D4D37F9A4...   \n",
       "211  -100.98268  0101000020957F00009F823DA6094858C18A2D4D37F9A4...   \n",
       "246  -100.98268  0101000020957F00009F823DA6094858C18A2D4D37F9A4...   \n",
       "257  -100.98268  0101000020957F00009F823DA6094858C18A2D4D37F9A4...   \n",
       "347  -100.98268  0101000020957F00009F823DA6094858C18A2D4D37F9A4...   \n",
       "403  -100.98268  0101000020957F00009F823DA6094858C18A2D4D37F9A4...   \n",
       "420  -100.98268  0101000020957F00009F823DA6094858C18A2D4D37F9A4...   \n",
       "450  -100.98268  0101000020957F00009F823DA6094858C18A2D4D37F9A4...   \n",
       "485  -100.98268  0101000020957F00009F823DA6094858C18A2D4D37F9A4...   \n",
       "504  -100.98268  0101000020957F00009F823DA6094858C18A2D4D37F9A4...   \n",
       "512  -100.98268  0101000020957F00009F823DA6094858C18A2D4D37F9A4...   \n",
       "530  -100.98268  0101000020957F00009F823DA6094858C18A2D4D37F9A4...   \n",
       "547  -100.98268  0101000020957F00009F823DA6094858C18A2D4D37F9A4...   \n",
       "573  -100.98268  0101000020957F00009F823DA6094858C18A2D4D37F9A4...   \n",
       "592  -100.98268  0101000020957F00009F823DA6094858C18A2D4D37F9A4...   \n",
       "639  -100.98268  0101000020957F00009F823DA6094858C18A2D4D37F9A4...   \n",
       "688  -100.98268  0101000020957F00009F823DA6094858C18A2D4D37F9A4...   \n",
       "695  -100.98268  0101000020957F00009F823DA6094858C18A2D4D37F9A4...   \n",
       "702  -100.98268  0101000020957F00009F823DA6094858C18A2D4D37F9A4...   \n",
       "726  -100.98268  0101000020957F00009F823DA6094858C18A2D4D37F9A4...   \n",
       "730  -100.98268  0101000020957F00009F823DA6094858C18A2D4D37F9A4...   \n",
       "759  -100.98268  0101000020957F00009F823DA6094858C18A2D4D37F9A4...   \n",
       "782  -100.98268  0101000020957F00009F823DA6094858C18A2D4D37F9A4...   \n",
       "790  -100.98268  0101000020957F00009F823DA6094858C18A2D4D37F9A4...   \n",
       "804  -100.98268  0101000020957F00009F823DA6094858C18A2D4D37F9A4...   \n",
       "825  -100.98268  0101000020957F00009F823DA6094858C18A2D4D37F9A4...   \n",
       "855  -100.98268  0101000020957F00009F823DA6094858C18A2D4D37F9A4...   \n",
       "861  -100.98268  0101000020957F00009F823DA6094858C18A2D4D37F9A4...   \n",
       "870  -100.98268  0101000020957F00009F823DA6094858C18A2D4D37F9A4...   \n",
       "882  -100.98268  0101000020957F00009F823DA6094858C18A2D4D37F9A4...   \n",
       "922  -100.98268  0101000020957F00009F823DA6094858C18A2D4D37F9A4...   \n",
       "964  -100.98268  0101000020957F00009F823DA6094858C18A2D4D37F9A4...   \n",
       "999  -100.98268  0101000020957F00009F823DA6094858C18A2D4D37F9A4...   \n",
       "1050 -100.98268  0101000020957F00009F823DA6094858C18A2D4D37F9A4...   \n",
       "1071 -100.98268  0101000020957F00009F823DA6094858C18A2D4D37F9A4...   \n",
       "\n",
       "                        name                         address  ... url  \\\n",
       "0     Tortas Locas Hipocampo  Venustiano Carranza 719 Centro  ...   ?   \n",
       "68    Tortas Locas Hipocampo  Venustiano Carranza 719 Centro  ...   ?   \n",
       "211   Tortas Locas Hipocampo  Venustiano Carranza 719 Centro  ...   ?   \n",
       "246   Tortas Locas Hipocampo  Venustiano Carranza 719 Centro  ...   ?   \n",
       "257   Tortas Locas Hipocampo  Venustiano Carranza 719 Centro  ...   ?   \n",
       "347   Tortas Locas Hipocampo  Venustiano Carranza 719 Centro  ...   ?   \n",
       "403   Tortas Locas Hipocampo  Venustiano Carranza 719 Centro  ...   ?   \n",
       "420   Tortas Locas Hipocampo  Venustiano Carranza 719 Centro  ...   ?   \n",
       "450   Tortas Locas Hipocampo  Venustiano Carranza 719 Centro  ...   ?   \n",
       "485   Tortas Locas Hipocampo  Venustiano Carranza 719 Centro  ...   ?   \n",
       "504   Tortas Locas Hipocampo  Venustiano Carranza 719 Centro  ...   ?   \n",
       "512   Tortas Locas Hipocampo  Venustiano Carranza 719 Centro  ...   ?   \n",
       "530   Tortas Locas Hipocampo  Venustiano Carranza 719 Centro  ...   ?   \n",
       "547   Tortas Locas Hipocampo  Venustiano Carranza 719 Centro  ...   ?   \n",
       "573   Tortas Locas Hipocampo  Venustiano Carranza 719 Centro  ...   ?   \n",
       "592   Tortas Locas Hipocampo  Venustiano Carranza 719 Centro  ...   ?   \n",
       "639   Tortas Locas Hipocampo  Venustiano Carranza 719 Centro  ...   ?   \n",
       "688   Tortas Locas Hipocampo  Venustiano Carranza 719 Centro  ...   ?   \n",
       "695   Tortas Locas Hipocampo  Venustiano Carranza 719 Centro  ...   ?   \n",
       "702   Tortas Locas Hipocampo  Venustiano Carranza 719 Centro  ...   ?   \n",
       "726   Tortas Locas Hipocampo  Venustiano Carranza 719 Centro  ...   ?   \n",
       "730   Tortas Locas Hipocampo  Venustiano Carranza 719 Centro  ...   ?   \n",
       "759   Tortas Locas Hipocampo  Venustiano Carranza 719 Centro  ...   ?   \n",
       "782   Tortas Locas Hipocampo  Venustiano Carranza 719 Centro  ...   ?   \n",
       "790   Tortas Locas Hipocampo  Venustiano Carranza 719 Centro  ...   ?   \n",
       "804   Tortas Locas Hipocampo  Venustiano Carranza 719 Centro  ...   ?   \n",
       "825   Tortas Locas Hipocampo  Venustiano Carranza 719 Centro  ...   ?   \n",
       "855   Tortas Locas Hipocampo  Venustiano Carranza 719 Centro  ...   ?   \n",
       "861   Tortas Locas Hipocampo  Venustiano Carranza 719 Centro  ...   ?   \n",
       "870   Tortas Locas Hipocampo  Venustiano Carranza 719 Centro  ...   ?   \n",
       "882   Tortas Locas Hipocampo  Venustiano Carranza 719 Centro  ...   ?   \n",
       "922   Tortas Locas Hipocampo  Venustiano Carranza 719 Centro  ...   ?   \n",
       "964   Tortas Locas Hipocampo  Venustiano Carranza 719 Centro  ...   ?   \n",
       "999   Tortas Locas Hipocampo  Venustiano Carranza 719 Centro  ...   ?   \n",
       "1050  Tortas Locas Hipocampo  Venustiano Carranza 719 Centro  ...   ?   \n",
       "1071  Tortas Locas Hipocampo  Venustiano Carranza 719 Centro  ...   ?   \n",
       "\n",
       "     Rambience franchise    area other_services Rpayment   Rcuisine  \\\n",
       "0     familiar         f  closed           none     cash  Fast_Food   \n",
       "68    familiar         f  closed           none     cash  Fast_Food   \n",
       "211   familiar         f  closed           none     cash  Fast_Food   \n",
       "246   familiar         f  closed           none     cash  Fast_Food   \n",
       "257   familiar         f  closed           none     cash  Fast_Food   \n",
       "347   familiar         f  closed           none     cash  Fast_Food   \n",
       "403   familiar         f  closed           none     cash  Fast_Food   \n",
       "420   familiar         f  closed           none     cash  Fast_Food   \n",
       "450   familiar         f  closed           none     cash  Fast_Food   \n",
       "485   familiar         f  closed           none     cash  Fast_Food   \n",
       "504   familiar         f  closed           none     cash  Fast_Food   \n",
       "512   familiar         f  closed           none     cash  Fast_Food   \n",
       "530   familiar         f  closed           none     cash  Fast_Food   \n",
       "547   familiar         f  closed           none     cash  Fast_Food   \n",
       "573   familiar         f  closed           none     cash  Fast_Food   \n",
       "592   familiar         f  closed           none     cash  Fast_Food   \n",
       "639   familiar         f  closed           none     cash  Fast_Food   \n",
       "688   familiar         f  closed           none     cash  Fast_Food   \n",
       "695   familiar         f  closed           none     cash  Fast_Food   \n",
       "702   familiar         f  closed           none     cash  Fast_Food   \n",
       "726   familiar         f  closed           none     cash  Fast_Food   \n",
       "730   familiar         f  closed           none     cash  Fast_Food   \n",
       "759   familiar         f  closed           none     cash  Fast_Food   \n",
       "782   familiar         f  closed           none     cash  Fast_Food   \n",
       "790   familiar         f  closed           none     cash  Fast_Food   \n",
       "804   familiar         f  closed           none     cash  Fast_Food   \n",
       "825   familiar         f  closed           none     cash  Fast_Food   \n",
       "855   familiar         f  closed           none     cash  Fast_Food   \n",
       "861   familiar         f  closed           none     cash  Fast_Food   \n",
       "870   familiar         f  closed           none     cash  Fast_Food   \n",
       "882   familiar         f  closed           none     cash  Fast_Food   \n",
       "922   familiar         f  closed           none     cash  Fast_Food   \n",
       "964   familiar         f  closed           none     cash  Fast_Food   \n",
       "999   familiar         f  closed           none     cash  Fast_Food   \n",
       "1050  familiar         f  closed           none     cash  Fast_Food   \n",
       "1071  familiar         f  closed           none     cash  Fast_Food   \n",
       "\n",
       "             hours                  days parking_lot  \n",
       "0     00:00-00:00;  Mon;Tue;Wed;Thu;Fri;      public  \n",
       "68    00:00-00:00;  Mon;Tue;Wed;Thu;Fri;      public  \n",
       "211   00:00-00:00;  Mon;Tue;Wed;Thu;Fri;      public  \n",
       "246   00:00-00:00;  Mon;Tue;Wed;Thu;Fri;      public  \n",
       "257   00:00-00:00;  Mon;Tue;Wed;Thu;Fri;      public  \n",
       "347   00:00-00:00;  Mon;Tue;Wed;Thu;Fri;      public  \n",
       "403   00:00-00:00;  Mon;Tue;Wed;Thu;Fri;      public  \n",
       "420   00:00-00:00;  Mon;Tue;Wed;Thu;Fri;      public  \n",
       "450   00:00-00:00;  Mon;Tue;Wed;Thu;Fri;      public  \n",
       "485   00:00-00:00;  Mon;Tue;Wed;Thu;Fri;      public  \n",
       "504   00:00-00:00;  Mon;Tue;Wed;Thu;Fri;      public  \n",
       "512   00:00-00:00;  Mon;Tue;Wed;Thu;Fri;      public  \n",
       "530   00:00-00:00;  Mon;Tue;Wed;Thu;Fri;      public  \n",
       "547   00:00-00:00;  Mon;Tue;Wed;Thu;Fri;      public  \n",
       "573   00:00-00:00;  Mon;Tue;Wed;Thu;Fri;      public  \n",
       "592   00:00-00:00;  Mon;Tue;Wed;Thu;Fri;      public  \n",
       "639   00:00-00:00;  Mon;Tue;Wed;Thu;Fri;      public  \n",
       "688   00:00-00:00;  Mon;Tue;Wed;Thu;Fri;      public  \n",
       "695   00:00-00:00;  Mon;Tue;Wed;Thu;Fri;      public  \n",
       "702   00:00-00:00;  Mon;Tue;Wed;Thu;Fri;      public  \n",
       "726   00:00-00:00;  Mon;Tue;Wed;Thu;Fri;      public  \n",
       "730   00:00-00:00;  Mon;Tue;Wed;Thu;Fri;      public  \n",
       "759   00:00-00:00;  Mon;Tue;Wed;Thu;Fri;      public  \n",
       "782   00:00-00:00;  Mon;Tue;Wed;Thu;Fri;      public  \n",
       "790   00:00-00:00;  Mon;Tue;Wed;Thu;Fri;      public  \n",
       "804   00:00-00:00;  Mon;Tue;Wed;Thu;Fri;      public  \n",
       "825   00:00-00:00;  Mon;Tue;Wed;Thu;Fri;      public  \n",
       "855   00:00-00:00;  Mon;Tue;Wed;Thu;Fri;      public  \n",
       "861   00:00-00:00;  Mon;Tue;Wed;Thu;Fri;      public  \n",
       "870   00:00-00:00;  Mon;Tue;Wed;Thu;Fri;      public  \n",
       "882   00:00-00:00;  Mon;Tue;Wed;Thu;Fri;      public  \n",
       "922   00:00-00:00;  Mon;Tue;Wed;Thu;Fri;      public  \n",
       "964   00:00-00:00;  Mon;Tue;Wed;Thu;Fri;      public  \n",
       "999   00:00-00:00;  Mon;Tue;Wed;Thu;Fri;      public  \n",
       "1050  00:00-00:00;  Mon;Tue;Wed;Thu;Fri;      public  \n",
       "1071  00:00-00:00;  Mon;Tue;Wed;Thu;Fri;      public  \n",
       "\n",
       "[36 rows x 30 columns]"
      ]
     },
     "execution_count": 15,
     "metadata": {},
     "output_type": "execute_result"
    }
   ],
   "source": [
    "df_ratings.loc[df_ratings.name.str.contains('Tortas Locas Hipocampo'), :]"
   ]
  },
  {
   "cell_type": "markdown",
   "metadata": {},
   "source": [
    "# Generando recomendaciones"
   ]
  },
  {
   "cell_type": "code",
   "execution_count": null,
   "metadata": {},
   "outputs": [],
   "source": [
    "import difflib\n",
    "import random\n",
    "\n",
    "def get_local_id(nombre_local, metadata):\n",
    "    \n",
    "    existing_names = list(metadata['name'].values)\n",
    "    closest_names = difflib.get_close_matches(nombre_local, existing_names)\n",
    "    place_id = metadata[metadata['name'] == closest_names[0]]['placeID'].values[0]\n",
    "    return place_id\n",
    "\n",
    "def get_local_info(local_id, metadata):\n",
    "    \n",
    "    local_info = metadata[metadata['placeID'] == local_id][['id', 'latitude', \n",
    "                                                    'longitude', 'address']]\n",
    "    return local_info.to_dict(orient='records')\n",
    "\n",
    "def predict_review(userID, local_name, model, metadata):\n",
    "    \n",
    "    placeID = get_local_id(local_name, metadata)\n",
    "    review_prediction = model.predict(uid=userID, iid=placeID)\n",
    "    return review_prediction.est\n",
    "\n",
    "def generate_recommendation(userID, model, metadata, thresh=4):\n",
    "    \n",
    "    local_names = list(metadata['name'].values)\n",
    "    random.shuffle(local_names)\n",
    "    \n",
    "    for local_name in local_names:\n",
    "        rating = predict_review(userID, local_name, model, metadata)\n",
    "        if rating >= thresh:\n",
    "            placeID = get_local_id(local_name, metadata)\n",
    "            return get_local_info(placeID, metadata)"
   ]
  },
  {
   "cell_type": "code",
   "execution_count": null,
   "metadata": {},
   "outputs": [],
   "source": [
    "generate_recommendation('U1103', svd, locales, 4.8)"
   ]
  },
  {
   "cell_type": "markdown",
   "metadata": {},
   "source": [
    "# TSNE"
   ]
  },
  {
   "cell_type": "code",
   "execution_count": null,
   "metadata": {},
   "outputs": [
    {
     "name": "stdout",
     "output_type": "stream",
     "text": [
      "[t-SNE] Computing 91 nearest neighbors...\n",
      "[t-SNE] Indexed 130 samples in 0.000s...\n",
      "[t-SNE] Computed neighbors for 130 samples in 0.110s...\n",
      "[t-SNE] Computed conditional probabilities for sample 130 / 130\n",
      "[t-SNE] Mean sigma: 0.339318\n",
      "[t-SNE] Computed conditional probabilities in 0.002s\n",
      "[t-SNE] Iteration 50: error = 60.3092232, gradient norm = 0.4570706 (50 iterations in 0.239s)\n",
      "[t-SNE] Iteration 100: error = 63.6116791, gradient norm = 0.4830212 (50 iterations in 0.046s)\n",
      "[t-SNE] Iteration 150: error = 66.6615143, gradient norm = 0.3698289 (50 iterations in 0.019s)\n",
      "[t-SNE] Iteration 200: error = 62.6667862, gradient norm = 0.9120907 (50 iterations in 0.021s)\n",
      "[t-SNE] Iteration 250: error = 64.7644424, gradient norm = 0.6266498 (50 iterations in 0.021s)\n",
      "[t-SNE] KL divergence after 250 iterations with early exaggeration: 64.764442\n",
      "[t-SNE] Iteration 300: error = 1.1716886, gradient norm = 0.0664756 (50 iterations in 0.023s)\n",
      "[t-SNE] Iteration 350: error = 1.0557528, gradient norm = 0.0082118 (50 iterations in 0.024s)\n",
      "[t-SNE] Iteration 400: error = 0.9872135, gradient norm = 0.0048723 (50 iterations in 0.083s)\n",
      "[t-SNE] Iteration 450: error = 0.9709105, gradient norm = 0.0024135 (50 iterations in 0.026s)\n",
      "[t-SNE] Iteration 500: error = 0.9685525, gradient norm = 0.0005648 (50 iterations in 0.028s)\n",
      "[t-SNE] KL divergence after 500 iterations: 0.968553\n"
     ]
    }
   ],
   "source": [
    "from sklearn.manifold import TSNE\n",
    "\n",
    "tsne = TSNE(n_components=2, n_iter=500, verbose=3, random_state=1)\n",
    "locales_embedding = tsne.fit_transform(svd.qi)\n",
    "projection = pd.DataFrame(columns=['x', 'y'], data=locales_embedding)\n",
    "projection['nombreGenerado'] = locales['name']"
   ]
  },
  {
   "cell_type": "code",
   "execution_count": null,
   "metadata": {},
   "outputs": [
    {
     "data": {
      "application/vnd.plotly.v1+json": {
       "config": {
        "plotlyServerURL": "https://plot.ly"
       },
       "data": [
        {
         "hovertemplate": "x=%{x}<br>y=%{y}<extra></extra>",
         "legendgroup": "",
         "marker": {
          "color": "#636efa",
          "symbol": "circle"
         },
         "mode": "markers",
         "name": "",
         "orientation": "v",
         "showlegend": false,
         "type": "scatter",
         "x": [
          -1.7407947778701782,
          -1.1132267713546753,
          -0.9728680849075317,
          -2.5965092182159424,
          -0.08860179036855698,
          1.4478222131729126,
          -2.2703073024749756,
          -0.05354607477784157,
          -3.2782647609710693,
          0.9802035689353943,
          1.742317795753479,
          -0.33009853959083557,
          0.9629327058792114,
          -2.7229723930358887,
          -3.119354248046875,
          1.3453571796417236,
          -0.5206027626991272,
          -4.0694661140441895,
          2.0002734661102295,
          -0.35582077503204346,
          -2.965982675552368,
          -0.6786357164382935,
          -0.4159647822380066,
          0.28708288073539734,
          1.6003607511520386,
          -2.1751527786254883,
          -3.605619430541992,
          -1.1446380615234375,
          0.20765061676502228,
          1.6887845993041992,
          -0.7392351627349854,
          2.0333609580993652,
          2.4230780601501465,
          -3.269660472869873,
          -0.9406847357749939,
          -2.479670524597168,
          3.109196424484253,
          -3.064736843109131,
          0.975935161113739,
          -0.7433620095252991,
          -3.407487154006958,
          1.3327465057373047,
          -1.3073145151138306,
          0.8547749519348145,
          2.269336700439453,
          0.6445870995521545,
          -4.516754627227783,
          -2.6667141914367676,
          -3.7979822158813477,
          -0.8091760873794556,
          0.37373086810112,
          -0.8783235549926758,
          -4.07617712020874,
          0.08205769211053848,
          0.811797559261322,
          -0.2735999524593353,
          -2.805640459060669,
          -1.9201138019561768,
          -1.3445327281951904,
          -0.23743285238742828,
          -2.45314884185791,
          1.7979285717010498,
          -0.43138840794563293,
          0.3135225772857666,
          2.752161979675293,
          -0.42046457529067993,
          -1.6390602588653564,
          -3.812783718109131,
          -1.2080024480819702,
          0.4544907212257385,
          -0.31646233797073364,
          0.19135352969169617,
          -0.12745146453380585,
          -2.519848585128784,
          -3.886225461959839,
          -2.129324436187744,
          -1.2316313982009888,
          -2.5637454986572266,
          3.4256861209869385,
          -3.888820171356201,
          -0.02146688848733902,
          -1.7979118824005127,
          -1.1861943006515503,
          1.3670392036437988,
          -0.4633585214614868,
          0.1782345473766327,
          -0.9503021240234375,
          -1.672621250152588,
          -1.6518867015838623,
          -0.760884702205658,
          2.294996976852417,
          0.5688695907592773,
          2.760579824447632,
          -2.8294808864593506,
          2.251819133758545,
          2.542503833770752,
          -2.1507084369659424,
          1.4726530313491821,
          -0.08725191652774811,
          -1.1839525699615479,
          -0.9529070854187012,
          -2.161311626434326,
          -2.359935760498047,
          1.7001793384552002,
          0.17272382974624634,
          -1.460415244102478,
          0.7525894641876221,
          -2.111739158630371,
          -3.4581470489501953,
          -1.219378113746643,
          -1.9986003637313843,
          1.117510199546814,
          2.956594228744507,
          3.1056787967681885,
          1.7739784717559814,
          2.077089548110962,
          0.4329899251461029,
          -2.075035333633423,
          1.6794222593307495,
          -0.31004592776298523,
          0.06663962453603745,
          -1.6261656284332275,
          -2.1112234592437744,
          1.5650691986083984,
          1.8498479127883911,
          1.3134045600891113,
          -1.1502320766448975,
          -0.27846989035606384,
          -1.6470872163772583,
          1.2127524614334106
         ],
         "xaxis": "x",
         "y": [
          2.303309202194214,
          1.2996954917907715,
          0.17012999951839447,
          -0.9322391152381897,
          -1.809773564338684,
          1.0538378953933716,
          -0.4726983308792114,
          0.36380788683891296,
          1.5404082536697388,
          -0.7621264457702637,
          -2.4038093090057373,
          3.1738693714141846,
          -3.0969042778015137,
          0.6352025866508484,
          -0.3281876742839813,
          -1.2675704956054688,
          -1.5960185527801514,
          1.5040277242660522,
          2.745380401611328,
          1.7272802591323853,
          3.560831069946289,
          -2.6112468242645264,
          0.9744818806648254,
          0.3258819282054901,
          1.5312458276748657,
          -0.3551352322101593,
          -1.0642485618591309,
          -0.001990152522921562,
          1.816017985343933,
          -0.2777692973613739,
          -1.1532180309295654,
          3.5014548301696777,
          1.4554460048675537,
          -1.7214211225509644,
          1.2603405714035034,
          0.9477728605270386,
          -0.2717559337615967,
          1.8457454442977905,
          1.95918869972229,
          0.9217843413352966,
          1.6306321620941162,
          -1.030219554901123,
          2.877408027648926,
          0.6862486600875854,
          -0.2599059045314789,
          0.019007185474038124,
          -0.844107985496521,
          0.09913746267557144,
          0.8132951259613037,
          -1.7194898128509521,
          -0.5027170777320862,
          -0.2808109521865845,
          0.1992943286895752,
          -0.15510711073875427,
          3.2011616230010986,
          2.3400685787200928,
          2.812924385070801,
          0.9992699027061462,
          -2.908451795578003,
          1.7253363132476807,
          -3.045239210128784,
          2.421485662460327,
          -1.1375504732131958,
          -2.134491205215454,
          -0.7924831509590149,
          0.35160091519355774,
          2.0187289714813232,
          2.6517386436462402,
          -0.1497371345758438,
          -0.09384676069021225,
          -0.16992247104644775,
          3.7958779335021973,
          -3.062880516052246,
          2.0395126342773438,
          0.8701692819595337,
          1.2102665901184082,
          3.43868088722229,
          0.1539364457130432,
          0.09203415364027023,
          0.36994606256484985,
          0.35488978028297424,
          -1.9803122282028198,
          -0.894350528717041,
          0.623974621295929,
          1.4489127397537231,
          1.3756483793258667,
          2.3209586143493652,
          0.38407397270202637,
          3.896611452102661,
          -0.07810960710048676,
          -1.0142642259597778,
          -0.9116487503051758,
          -1.7927912473678589,
          3.604722261428833,
          -1.4368137121200562,
          0.7715696692466736,
          -1.434861660003662,
          2.4565365314483643,
          -1.2922323942184448,
          -1.0078842639923096,
          0.7161574363708496,
          1.3840656280517578,
          -1.1382142305374146,
          -0.19681157171726227,
          0.8808493614196777,
          1.8757147789001465,
          0.6677613258361816,
          -1.5910658836364746,
          -1.763413906097412,
          4.224842548370361,
          3.0224807262420654,
          1.8984570503234863,
          -0.7820835113525391,
          0.8459197878837585,
          0.5503536462783813,
          3.1584489345550537,
          2.645437479019165,
          -0.9774649143218994,
          0.4870453476905823,
          -1.3046578168869019,
          -0.9430657625198364,
          0.6500295996665955,
          1.987098217010498,
          -1.7025915384292603,
          -0.030105695128440857,
          -1.7786959409713745,
          3.044105291366577,
          2.667719841003418,
          0.3305809199810028,
          1.547372817993164
         ],
         "yaxis": "y"
        }
       ],
       "layout": {
        "legend": {
         "tracegroupgap": 0
        },
        "margin": {
         "t": 60
        },
        "template": {
         "data": {
          "bar": [
           {
            "error_x": {
             "color": "#2a3f5f"
            },
            "error_y": {
             "color": "#2a3f5f"
            },
            "marker": {
             "line": {
              "color": "#E5ECF6",
              "width": 0.5
             },
             "pattern": {
              "fillmode": "overlay",
              "size": 10,
              "solidity": 0.2
             }
            },
            "type": "bar"
           }
          ],
          "barpolar": [
           {
            "marker": {
             "line": {
              "color": "#E5ECF6",
              "width": 0.5
             },
             "pattern": {
              "fillmode": "overlay",
              "size": 10,
              "solidity": 0.2
             }
            },
            "type": "barpolar"
           }
          ],
          "carpet": [
           {
            "aaxis": {
             "endlinecolor": "#2a3f5f",
             "gridcolor": "white",
             "linecolor": "white",
             "minorgridcolor": "white",
             "startlinecolor": "#2a3f5f"
            },
            "baxis": {
             "endlinecolor": "#2a3f5f",
             "gridcolor": "white",
             "linecolor": "white",
             "minorgridcolor": "white",
             "startlinecolor": "#2a3f5f"
            },
            "type": "carpet"
           }
          ],
          "choropleth": [
           {
            "colorbar": {
             "outlinewidth": 0,
             "ticks": ""
            },
            "type": "choropleth"
           }
          ],
          "contour": [
           {
            "colorbar": {
             "outlinewidth": 0,
             "ticks": ""
            },
            "colorscale": [
             [
              0,
              "#0d0887"
             ],
             [
              0.1111111111111111,
              "#46039f"
             ],
             [
              0.2222222222222222,
              "#7201a8"
             ],
             [
              0.3333333333333333,
              "#9c179e"
             ],
             [
              0.4444444444444444,
              "#bd3786"
             ],
             [
              0.5555555555555556,
              "#d8576b"
             ],
             [
              0.6666666666666666,
              "#ed7953"
             ],
             [
              0.7777777777777778,
              "#fb9f3a"
             ],
             [
              0.8888888888888888,
              "#fdca26"
             ],
             [
              1,
              "#f0f921"
             ]
            ],
            "type": "contour"
           }
          ],
          "contourcarpet": [
           {
            "colorbar": {
             "outlinewidth": 0,
             "ticks": ""
            },
            "type": "contourcarpet"
           }
          ],
          "heatmap": [
           {
            "colorbar": {
             "outlinewidth": 0,
             "ticks": ""
            },
            "colorscale": [
             [
              0,
              "#0d0887"
             ],
             [
              0.1111111111111111,
              "#46039f"
             ],
             [
              0.2222222222222222,
              "#7201a8"
             ],
             [
              0.3333333333333333,
              "#9c179e"
             ],
             [
              0.4444444444444444,
              "#bd3786"
             ],
             [
              0.5555555555555556,
              "#d8576b"
             ],
             [
              0.6666666666666666,
              "#ed7953"
             ],
             [
              0.7777777777777778,
              "#fb9f3a"
             ],
             [
              0.8888888888888888,
              "#fdca26"
             ],
             [
              1,
              "#f0f921"
             ]
            ],
            "type": "heatmap"
           }
          ],
          "heatmapgl": [
           {
            "colorbar": {
             "outlinewidth": 0,
             "ticks": ""
            },
            "colorscale": [
             [
              0,
              "#0d0887"
             ],
             [
              0.1111111111111111,
              "#46039f"
             ],
             [
              0.2222222222222222,
              "#7201a8"
             ],
             [
              0.3333333333333333,
              "#9c179e"
             ],
             [
              0.4444444444444444,
              "#bd3786"
             ],
             [
              0.5555555555555556,
              "#d8576b"
             ],
             [
              0.6666666666666666,
              "#ed7953"
             ],
             [
              0.7777777777777778,
              "#fb9f3a"
             ],
             [
              0.8888888888888888,
              "#fdca26"
             ],
             [
              1,
              "#f0f921"
             ]
            ],
            "type": "heatmapgl"
           }
          ],
          "histogram": [
           {
            "marker": {
             "pattern": {
              "fillmode": "overlay",
              "size": 10,
              "solidity": 0.2
             }
            },
            "type": "histogram"
           }
          ],
          "histogram2d": [
           {
            "colorbar": {
             "outlinewidth": 0,
             "ticks": ""
            },
            "colorscale": [
             [
              0,
              "#0d0887"
             ],
             [
              0.1111111111111111,
              "#46039f"
             ],
             [
              0.2222222222222222,
              "#7201a8"
             ],
             [
              0.3333333333333333,
              "#9c179e"
             ],
             [
              0.4444444444444444,
              "#bd3786"
             ],
             [
              0.5555555555555556,
              "#d8576b"
             ],
             [
              0.6666666666666666,
              "#ed7953"
             ],
             [
              0.7777777777777778,
              "#fb9f3a"
             ],
             [
              0.8888888888888888,
              "#fdca26"
             ],
             [
              1,
              "#f0f921"
             ]
            ],
            "type": "histogram2d"
           }
          ],
          "histogram2dcontour": [
           {
            "colorbar": {
             "outlinewidth": 0,
             "ticks": ""
            },
            "colorscale": [
             [
              0,
              "#0d0887"
             ],
             [
              0.1111111111111111,
              "#46039f"
             ],
             [
              0.2222222222222222,
              "#7201a8"
             ],
             [
              0.3333333333333333,
              "#9c179e"
             ],
             [
              0.4444444444444444,
              "#bd3786"
             ],
             [
              0.5555555555555556,
              "#d8576b"
             ],
             [
              0.6666666666666666,
              "#ed7953"
             ],
             [
              0.7777777777777778,
              "#fb9f3a"
             ],
             [
              0.8888888888888888,
              "#fdca26"
             ],
             [
              1,
              "#f0f921"
             ]
            ],
            "type": "histogram2dcontour"
           }
          ],
          "mesh3d": [
           {
            "colorbar": {
             "outlinewidth": 0,
             "ticks": ""
            },
            "type": "mesh3d"
           }
          ],
          "parcoords": [
           {
            "line": {
             "colorbar": {
              "outlinewidth": 0,
              "ticks": ""
             }
            },
            "type": "parcoords"
           }
          ],
          "pie": [
           {
            "automargin": true,
            "type": "pie"
           }
          ],
          "scatter": [
           {
            "fillpattern": {
             "fillmode": "overlay",
             "size": 10,
             "solidity": 0.2
            },
            "type": "scatter"
           }
          ],
          "scatter3d": [
           {
            "line": {
             "colorbar": {
              "outlinewidth": 0,
              "ticks": ""
             }
            },
            "marker": {
             "colorbar": {
              "outlinewidth": 0,
              "ticks": ""
             }
            },
            "type": "scatter3d"
           }
          ],
          "scattercarpet": [
           {
            "marker": {
             "colorbar": {
              "outlinewidth": 0,
              "ticks": ""
             }
            },
            "type": "scattercarpet"
           }
          ],
          "scattergeo": [
           {
            "marker": {
             "colorbar": {
              "outlinewidth": 0,
              "ticks": ""
             }
            },
            "type": "scattergeo"
           }
          ],
          "scattergl": [
           {
            "marker": {
             "colorbar": {
              "outlinewidth": 0,
              "ticks": ""
             }
            },
            "type": "scattergl"
           }
          ],
          "scattermapbox": [
           {
            "marker": {
             "colorbar": {
              "outlinewidth": 0,
              "ticks": ""
             }
            },
            "type": "scattermapbox"
           }
          ],
          "scatterpolar": [
           {
            "marker": {
             "colorbar": {
              "outlinewidth": 0,
              "ticks": ""
             }
            },
            "type": "scatterpolar"
           }
          ],
          "scatterpolargl": [
           {
            "marker": {
             "colorbar": {
              "outlinewidth": 0,
              "ticks": ""
             }
            },
            "type": "scatterpolargl"
           }
          ],
          "scatterternary": [
           {
            "marker": {
             "colorbar": {
              "outlinewidth": 0,
              "ticks": ""
             }
            },
            "type": "scatterternary"
           }
          ],
          "surface": [
           {
            "colorbar": {
             "outlinewidth": 0,
             "ticks": ""
            },
            "colorscale": [
             [
              0,
              "#0d0887"
             ],
             [
              0.1111111111111111,
              "#46039f"
             ],
             [
              0.2222222222222222,
              "#7201a8"
             ],
             [
              0.3333333333333333,
              "#9c179e"
             ],
             [
              0.4444444444444444,
              "#bd3786"
             ],
             [
              0.5555555555555556,
              "#d8576b"
             ],
             [
              0.6666666666666666,
              "#ed7953"
             ],
             [
              0.7777777777777778,
              "#fb9f3a"
             ],
             [
              0.8888888888888888,
              "#fdca26"
             ],
             [
              1,
              "#f0f921"
             ]
            ],
            "type": "surface"
           }
          ],
          "table": [
           {
            "cells": {
             "fill": {
              "color": "#EBF0F8"
             },
             "line": {
              "color": "white"
             }
            },
            "header": {
             "fill": {
              "color": "#C8D4E3"
             },
             "line": {
              "color": "white"
             }
            },
            "type": "table"
           }
          ]
         },
         "layout": {
          "annotationdefaults": {
           "arrowcolor": "#2a3f5f",
           "arrowhead": 0,
           "arrowwidth": 1
          },
          "autotypenumbers": "strict",
          "coloraxis": {
           "colorbar": {
            "outlinewidth": 0,
            "ticks": ""
           }
          },
          "colorscale": {
           "diverging": [
            [
             0,
             "#8e0152"
            ],
            [
             0.1,
             "#c51b7d"
            ],
            [
             0.2,
             "#de77ae"
            ],
            [
             0.3,
             "#f1b6da"
            ],
            [
             0.4,
             "#fde0ef"
            ],
            [
             0.5,
             "#f7f7f7"
            ],
            [
             0.6,
             "#e6f5d0"
            ],
            [
             0.7,
             "#b8e186"
            ],
            [
             0.8,
             "#7fbc41"
            ],
            [
             0.9,
             "#4d9221"
            ],
            [
             1,
             "#276419"
            ]
           ],
           "sequential": [
            [
             0,
             "#0d0887"
            ],
            [
             0.1111111111111111,
             "#46039f"
            ],
            [
             0.2222222222222222,
             "#7201a8"
            ],
            [
             0.3333333333333333,
             "#9c179e"
            ],
            [
             0.4444444444444444,
             "#bd3786"
            ],
            [
             0.5555555555555556,
             "#d8576b"
            ],
            [
             0.6666666666666666,
             "#ed7953"
            ],
            [
             0.7777777777777778,
             "#fb9f3a"
            ],
            [
             0.8888888888888888,
             "#fdca26"
            ],
            [
             1,
             "#f0f921"
            ]
           ],
           "sequentialminus": [
            [
             0,
             "#0d0887"
            ],
            [
             0.1111111111111111,
             "#46039f"
            ],
            [
             0.2222222222222222,
             "#7201a8"
            ],
            [
             0.3333333333333333,
             "#9c179e"
            ],
            [
             0.4444444444444444,
             "#bd3786"
            ],
            [
             0.5555555555555556,
             "#d8576b"
            ],
            [
             0.6666666666666666,
             "#ed7953"
            ],
            [
             0.7777777777777778,
             "#fb9f3a"
            ],
            [
             0.8888888888888888,
             "#fdca26"
            ],
            [
             1,
             "#f0f921"
            ]
           ]
          },
          "colorway": [
           "#636efa",
           "#EF553B",
           "#00cc96",
           "#ab63fa",
           "#FFA15A",
           "#19d3f3",
           "#FF6692",
           "#B6E880",
           "#FF97FF",
           "#FECB52"
          ],
          "font": {
           "color": "#2a3f5f"
          },
          "geo": {
           "bgcolor": "white",
           "lakecolor": "white",
           "landcolor": "#E5ECF6",
           "showlakes": true,
           "showland": true,
           "subunitcolor": "white"
          },
          "hoverlabel": {
           "align": "left"
          },
          "hovermode": "closest",
          "mapbox": {
           "style": "light"
          },
          "paper_bgcolor": "white",
          "plot_bgcolor": "#E5ECF6",
          "polar": {
           "angularaxis": {
            "gridcolor": "white",
            "linecolor": "white",
            "ticks": ""
           },
           "bgcolor": "#E5ECF6",
           "radialaxis": {
            "gridcolor": "white",
            "linecolor": "white",
            "ticks": ""
           }
          },
          "scene": {
           "xaxis": {
            "backgroundcolor": "#E5ECF6",
            "gridcolor": "white",
            "gridwidth": 2,
            "linecolor": "white",
            "showbackground": true,
            "ticks": "",
            "zerolinecolor": "white"
           },
           "yaxis": {
            "backgroundcolor": "#E5ECF6",
            "gridcolor": "white",
            "gridwidth": 2,
            "linecolor": "white",
            "showbackground": true,
            "ticks": "",
            "zerolinecolor": "white"
           },
           "zaxis": {
            "backgroundcolor": "#E5ECF6",
            "gridcolor": "white",
            "gridwidth": 2,
            "linecolor": "white",
            "showbackground": true,
            "ticks": "",
            "zerolinecolor": "white"
           }
          },
          "shapedefaults": {
           "line": {
            "color": "#2a3f5f"
           }
          },
          "ternary": {
           "aaxis": {
            "gridcolor": "white",
            "linecolor": "white",
            "ticks": ""
           },
           "baxis": {
            "gridcolor": "white",
            "linecolor": "white",
            "ticks": ""
           },
           "bgcolor": "#E5ECF6",
           "caxis": {
            "gridcolor": "white",
            "linecolor": "white",
            "ticks": ""
           }
          },
          "title": {
           "x": 0.05
          },
          "xaxis": {
           "automargin": true,
           "gridcolor": "white",
           "linecolor": "white",
           "ticks": "",
           "title": {
            "standoff": 15
           },
           "zerolinecolor": "white",
           "zerolinewidth": 2
          },
          "yaxis": {
           "automargin": true,
           "gridcolor": "white",
           "linecolor": "white",
           "ticks": "",
           "title": {
            "standoff": 15
           },
           "zerolinecolor": "white",
           "zerolinewidth": 2
          }
         }
        },
        "xaxis": {
         "anchor": "y",
         "domain": [
          0,
          1
         ],
         "title": {
          "text": "x"
         }
        },
        "yaxis": {
         "anchor": "x",
         "domain": [
          0,
          1
         ],
         "title": {
          "text": "y"
         }
        }
       }
      }
     },
     "metadata": {},
     "output_type": "display_data"
    }
   ],
   "source": [
    "import plotly.express as px\n",
    "import datapane as dp\n",
    "\n",
    "fig = px.scatter(\n",
    "    projection, x='x', y='y'\n",
    ")\n",
    "fig.show()\n",
    "\n",
    "report = dp.Report(dp.Plot(fig) )"
   ]
  },
  {
   "cell_type": "code",
   "execution_count": null,
   "metadata": {},
   "outputs": [],
   "source": [
    "from collections import defaultdict\n",
    "from surprise import Dataset, SVD\n",
    "\n",
    "def get_top_n(predictions, n=10):\n",
    "    \"\"\"Return the top-N recommendation for each user from a set of predictions.\n",
    "\n",
    "    Args:\n",
    "        predictions(list of Prediction objects): The list of predictions, as\n",
    "            returned by the test method of an algorithm.\n",
    "        n(int): The number of recommendation to output for each user. Default\n",
    "            is 10.\n",
    "\n",
    "    Returns:\n",
    "    A dict where keys are user (raw) ids and values are lists of tuples:\n",
    "        [(raw item id, rating estimation), ...] of size n.\n",
    "    \"\"\"\n",
    "\n",
    "    # First map the predictions to each user.\n",
    "    top_n = defaultdict(list)\n",
    "    for uid, iid, true_r, est, _ in predictions:\n",
    "        top_n[uid].append((iid, est))\n",
    "\n",
    "    # Then sort the predictions for each user and retrieve the k highest ones.\n",
    "    for uid, user_ratings in top_n.items():\n",
    "        user_ratings.sort(key=lambda x: x[1], reverse=True)\n",
    "        top_n[uid] = user_ratings[:n]\n",
    "\n",
    "    return top_n"
   ]
  },
  {
   "cell_type": "code",
   "execution_count": null,
   "metadata": {},
   "outputs": [
    {
     "data": {
      "text/plain": [
       "<surprise.prediction_algorithms.matrix_factorization.SVD at 0x146ae9790>"
      ]
     },
     "execution_count": 21,
     "metadata": {},
     "output_type": "execute_result"
    }
   ],
   "source": [
    "algo = SVD()\n",
    "algo.fit(trainset)"
   ]
  },
  {
   "cell_type": "code",
   "execution_count": null,
   "metadata": {},
   "outputs": [],
   "source": [
    "locales_visitados_usuario=df_ratings.loc[(df_ratings.userID=='U1077'),'placeID']\n",
    "locales_no_visitados_usuario=df_ratings.loc[~df_ratings.placeID.isin(locales_visitados_usuario),'placeID'].unique()\n",
    "\n",
    "pred=[]\n",
    "for local in locales_no_visitados_usuario:\n",
    "    pred.append(svd.predict(uid='U1077', iid=local))"
   ]
  },
  {
   "cell_type": "code",
   "execution_count": null,
   "metadata": {},
   "outputs": [
    {
     "data": {
      "text/plain": [
       "[Prediction(uid='U1077', iid=135104, r_ui=None, est=1.0403427940819578, details={'was_impossible': False}),\n",
       " Prediction(uid='U1077', iid=132740, r_ui=None, est=1.0009882997919972, details={'was_impossible': False}),\n",
       " Prediction(uid='U1077', iid=132663, r_ui=None, est=1.1595628826753517, details={'was_impossible': False}),\n",
       " Prediction(uid='U1077', iid=132732, r_ui=None, est=1.157455486225634, details={'was_impossible': False}),\n",
       " Prediction(uid='U1077', iid=132630, r_ui=None, est=1.2769883504308048, details={'was_impossible': False}),\n",
       " Prediction(uid='U1077', iid=132584, r_ui=None, est=1.1099401657295729, details={'was_impossible': False}),\n",
       " Prediction(uid='U1077', iid=132733, r_ui=None, est=1.4483497585107947, details={'was_impossible': False}),\n",
       " Prediction(uid='U1077', iid=132560, r_ui=None, est=1, details={'was_impossible': False}),\n",
       " Prediction(uid='U1077', iid=132613, r_ui=None, est=1.3513165183983191, details={'was_impossible': False}),\n",
       " Prediction(uid='U1077', iid=132667, r_ui=None, est=1.1636365307270486, details={'was_impossible': False}),\n",
       " Prediction(uid='U1077', iid=132660, r_ui=None, est=1.3165779365908064, details={'was_impossible': False}),\n",
       " Prediction(uid='U1077', iid=135088, r_ui=None, est=1.2282519995680539, details={'was_impossible': False}),\n",
       " Prediction(uid='U1077', iid=132583, r_ui=None, est=1.1228422650769931, details={'was_impossible': False}),\n",
       " Prediction(uid='U1077', iid=132608, r_ui=None, est=1.2871525882662616, details={'was_impossible': False}),\n",
       " Prediction(uid='U1077', iid=132609, r_ui=None, est=1, details={'was_impossible': False}),\n",
       " Prediction(uid='U1077', iid=132665, r_ui=None, est=1.2507190519766291, details={'was_impossible': False}),\n",
       " Prediction(uid='U1077', iid=132668, r_ui=None, est=1.0121385196083204, details={'was_impossible': False}),\n",
       " Prediction(uid='U1077', iid=132715, r_ui=None, est=1, details={'was_impossible': False}),\n",
       " Prediction(uid='U1077', iid=132717, r_ui=None, est=1.099863022690345, details={'was_impossible': False}),\n",
       " Prediction(uid='U1077', iid=132594, r_ui=None, est=1.0337391091417882, details={'was_impossible': False}),\n",
       " Prediction(uid='U1077', iid=132564, r_ui=None, est=1.1005616479700029, details={'was_impossible': False}),\n",
       " Prediction(uid='U1077', iid=135071, r_ui=None, est=1.190427827252369, details={'was_impossible': False}),\n",
       " Prediction(uid='U1077', iid=132626, r_ui=None, est=1.1366566529709665, details={'was_impossible': False}),\n",
       " Prediction(uid='U1077', iid=134987, r_ui=None, est=1.3394784128546657, details={'was_impossible': False}),\n",
       " Prediction(uid='U1077', iid=135034, r_ui=None, est=1.4722856724086713, details={'was_impossible': False}),\n",
       " Prediction(uid='U1077', iid=132723, r_ui=None, est=1.2168850587392106, details={'was_impossible': False}),\n",
       " Prediction(uid='U1077', iid=135046, r_ui=None, est=1.2165107597042024, details={'was_impossible': False}),\n",
       " Prediction(uid='U1077', iid=135075, r_ui=None, est=1.438949323339212, details={'was_impossible': False}),\n",
       " Prediction(uid='U1077', iid=132572, r_ui=None, est=1.2228119179950172, details={'was_impossible': False}),\n",
       " Prediction(uid='U1077', iid=135074, r_ui=None, est=1.2425892357945163, details={'was_impossible': False}),\n",
       " Prediction(uid='U1077', iid=135028, r_ui=None, est=1.6085031919996686, details={'was_impossible': False}),\n",
       " Prediction(uid='U1077', iid=135032, r_ui=None, est=1.181794410659432, details={'was_impossible': False}),\n",
       " Prediction(uid='U1077', iid=135086, r_ui=None, est=1.0225113574308193, details={'was_impossible': False}),\n",
       " Prediction(uid='U1077', iid=135058, r_ui=None, est=1.1764923012649304, details={'was_impossible': False}),\n",
       " Prediction(uid='U1077', iid=135001, r_ui=None, est=1.3729122635957722, details={'was_impossible': False}),\n",
       " Prediction(uid='U1077', iid=134983, r_ui=None, est=1.2779652950078426, details={'was_impossible': False}),\n",
       " Prediction(uid='U1077', iid=134996, r_ui=None, est=1.2176348685446114, details={'was_impossible': False}),\n",
       " Prediction(uid='U1077', iid=135019, r_ui=None, est=1.2375490768728907, details={'was_impossible': False}),\n",
       " Prediction(uid='U1077', iid=134976, r_ui=None, est=1.331940485414557, details={'was_impossible': False}),\n",
       " Prediction(uid='U1077', iid=134999, r_ui=None, est=1.3898857941485214, details={'was_impossible': False}),\n",
       " Prediction(uid='U1077', iid=135018, r_ui=None, est=1.3458373776615256, details={'was_impossible': False}),\n",
       " Prediction(uid='U1077', iid=135013, r_ui=None, est=1.3536832907267766, details={'was_impossible': False}),\n",
       " Prediction(uid='U1077', iid=134986, r_ui=None, est=1.4554823407097695, details={'was_impossible': False}),\n",
       " Prediction(uid='U1077', iid=132767, r_ui=None, est=1.2852524639835217, details={'was_impossible': False}),\n",
       " Prediction(uid='U1077', iid=135016, r_ui=None, est=1.143015793291187, details={'was_impossible': False}),\n",
       " Prediction(uid='U1077', iid=135011, r_ui=None, est=1.2136377102736435, details={'was_impossible': False}),\n",
       " Prediction(uid='U1077', iid=135109, r_ui=None, est=1.048279136325997, details={'was_impossible': False}),\n",
       " Prediction(uid='U1077', iid=134975, r_ui=None, est=1.3100676536201645, details={'was_impossible': False}),\n",
       " Prediction(uid='U1077', iid=135021, r_ui=None, est=1.2327331600403302, details={'was_impossible': False}),\n",
       " Prediction(uid='U1077', iid=132768, r_ui=None, est=1.459720246244411, details={'was_impossible': False}),\n",
       " Prediction(uid='U1077', iid=135000, r_ui=None, est=1.2907073019643218, details={'was_impossible': False}),\n",
       " Prediction(uid='U1077', iid=132766, r_ui=None, est=1.0845017788261122, details={'was_impossible': False}),\n",
       " Prediction(uid='U1077', iid=134992, r_ui=None, est=1.1137745315712972, details={'was_impossible': False}),\n",
       " Prediction(uid='U1077', iid=132773, r_ui=None, est=1.2831596124771274, details={'was_impossible': False}),\n",
       " Prediction(uid='U1077', iid=132561, r_ui=None, est=1.015964631300413, details={'was_impossible': False}),\n",
       " Prediction(uid='U1077', iid=132706, r_ui=None, est=1.2974702467478205, details={'was_impossible': False}),\n",
       " Prediction(uid='U1077', iid=132654, r_ui=None, est=1.0370756205854659, details={'was_impossible': False}),\n",
       " Prediction(uid='U1077', iid=135051, r_ui=None, est=1.133717198570941, details={'was_impossible': False}),\n",
       " Prediction(uid='U1077', iid=135025, r_ui=None, est=1.3970518189869308, details={'was_impossible': False}),\n",
       " Prediction(uid='U1077', iid=135049, r_ui=None, est=1.0149575037920855, details={'was_impossible': False}),\n",
       " Prediction(uid='U1077', iid=135106, r_ui=None, est=1.118422752960718, details={'was_impossible': False}),\n",
       " Prediction(uid='U1077', iid=135072, r_ui=None, est=1.3094920403545551, details={'was_impossible': False}),\n",
       " Prediction(uid='U1077', iid=132755, r_ui=None, est=1.1779554171654325, details={'was_impossible': False}),\n",
       " Prediction(uid='U1077', iid=135044, r_ui=None, est=1.249268651611374, details={'was_impossible': False}),\n",
       " Prediction(uid='U1077', iid=135048, r_ui=None, est=1.0979859347151144, details={'was_impossible': False}),\n",
       " Prediction(uid='U1077', iid=135047, r_ui=None, est=1.1881928603126275, details={'was_impossible': False}),\n",
       " Prediction(uid='U1077', iid=132754, r_ui=None, est=1.235950680006427, details={'was_impossible': False}),\n",
       " Prediction(uid='U1077', iid=135076, r_ui=None, est=1.1993301482429015, details={'was_impossible': False}),\n",
       " Prediction(uid='U1077', iid=135063, r_ui=None, est=1.3034546865514633, details={'was_impossible': False}),\n",
       " Prediction(uid='U1077', iid=135042, r_ui=None, est=1.1572041329684313, details={'was_impossible': False}),\n",
       " Prediction(uid='U1077', iid=135053, r_ui=None, est=1.1564083978119186, details={'was_impossible': False}),\n",
       " Prediction(uid='U1077', iid=135081, r_ui=None, est=1.1540263937359274, details={'was_impossible': False}),\n",
       " Prediction(uid='U1077', iid=135062, r_ui=None, est=1.2657201630066792, details={'was_impossible': False}),\n",
       " Prediction(uid='U1077', iid=135069, r_ui=None, est=1, details={'was_impossible': False}),\n",
       " Prediction(uid='U1077', iid=135057, r_ui=None, est=1.1656455235243444, details={'was_impossible': False}),\n",
       " Prediction(uid='U1077', iid=135043, r_ui=None, est=1.0799732933362078, details={'was_impossible': False}),\n",
       " Prediction(uid='U1077', iid=135039, r_ui=None, est=1.2709465111079712, details={'was_impossible': False}),\n",
       " Prediction(uid='U1077', iid=135052, r_ui=None, est=1.3077148001443022, details={'was_impossible': False}),\n",
       " Prediction(uid='U1077', iid=135030, r_ui=None, est=1.6042528038330732, details={'was_impossible': False}),\n",
       " Prediction(uid='U1077', iid=132830, r_ui=None, est=1.1828723488193933, details={'was_impossible': False}),\n",
       " Prediction(uid='U1077', iid=135108, r_ui=None, est=1.1920774091091115, details={'was_impossible': False}),\n",
       " Prediction(uid='U1077', iid=135050, r_ui=None, est=1.1890644112760613, details={'was_impossible': False}),\n",
       " Prediction(uid='U1077', iid=135070, r_ui=None, est=1.2976445886201655, details={'was_impossible': False}),\n",
       " Prediction(uid='U1077', iid=135041, r_ui=None, est=1.2371192075271868, details={'was_impossible': False}),\n",
       " Prediction(uid='U1077', iid=135082, r_ui=None, est=1, details={'was_impossible': False}),\n",
       " Prediction(uid='U1077', iid=135054, r_ui=None, est=1.0688836566765854, details={'was_impossible': False}),\n",
       " Prediction(uid='U1077', iid=135066, r_ui=None, est=1.271250024510937, details={'was_impossible': False}),\n",
       " Prediction(uid='U1077', iid=135026, r_ui=None, est=1.3409500120070803, details={'was_impossible': False}),\n",
       " Prediction(uid='U1077', iid=135059, r_ui=None, est=1.335638903208744, details={'was_impossible': False}),\n",
       " Prediction(uid='U1077', iid=135065, r_ui=None, est=1.2360505871428988, details={'was_impossible': False}),\n",
       " Prediction(uid='U1077', iid=135079, r_ui=None, est=1.3763999745911248, details={'was_impossible': False}),\n",
       " Prediction(uid='U1077', iid=135055, r_ui=None, est=1.387962777686377, details={'was_impossible': False}),\n",
       " Prediction(uid='U1077', iid=135080, r_ui=None, est=1, details={'was_impossible': False}),\n",
       " Prediction(uid='U1077', iid=135064, r_ui=None, est=1, details={'was_impossible': False}),\n",
       " Prediction(uid='U1077', iid=135040, r_ui=None, est=1.0943000684400863, details={'was_impossible': False}),\n",
       " Prediction(uid='U1077', iid=135073, r_ui=None, est=1.234966769881212, details={'was_impossible': False}),\n",
       " Prediction(uid='U1077', iid=135033, r_ui=None, est=1.1506184984965868, details={'was_impossible': False}),\n",
       " Prediction(uid='U1077', iid=135045, r_ui=None, est=1.3866362622267625, details={'was_impossible': False}),\n",
       " Prediction(uid='U1077', iid=132834, r_ui=None, est=1.2280057091816041, details={'was_impossible': False}),\n",
       " Prediction(uid='U1077', iid=132845, r_ui=None, est=1.3350460507603181, details={'was_impossible': False}),\n",
       " Prediction(uid='U1077', iid=132846, r_ui=None, est=1.4039828990004322, details={'was_impossible': False}),\n",
       " Prediction(uid='U1077', iid=132847, r_ui=None, est=1.151298341393376, details={'was_impossible': False}),\n",
       " Prediction(uid='U1077', iid=132851, r_ui=None, est=1.2122942858987875, details={'was_impossible': False}),\n",
       " Prediction(uid='U1077', iid=132854, r_ui=None, est=1.3424832673786733, details={'was_impossible': False}),\n",
       " Prediction(uid='U1077', iid=132856, r_ui=None, est=1.1252772195105498, details={'was_impossible': False}),\n",
       " Prediction(uid='U1077', iid=132858, r_ui=None, est=1.117979413966035, details={'was_impossible': False}),\n",
       " Prediction(uid='U1077', iid=132861, r_ui=None, est=1.1287462617473087, details={'was_impossible': False}),\n",
       " Prediction(uid='U1077', iid=132862, r_ui=None, est=1.2398734036951176, details={'was_impossible': False}),\n",
       " Prediction(uid='U1077', iid=135035, r_ui=None, est=1.2358112770419232, details={'was_impossible': False}),\n",
       " Prediction(uid='U1077', iid=132866, r_ui=None, est=1.2296341537819957, details={'was_impossible': False}),\n",
       " Prediction(uid='U1077', iid=132869, r_ui=None, est=1.0160662386435595, details={'was_impossible': False}),\n",
       " Prediction(uid='U1077', iid=132870, r_ui=None, est=1.1724630315969504, details={'was_impossible': False}),\n",
       " Prediction(uid='U1077', iid=132875, r_ui=None, est=1.36442650432423, details={'was_impossible': False}),\n",
       " Prediction(uid='U1077', iid=132877, r_ui=None, est=1.3830587264685428, details={'was_impossible': False}),\n",
       " Prediction(uid='U1077', iid=132884, r_ui=None, est=1.2988730529388994, details={'was_impossible': False}),\n",
       " Prediction(uid='U1077', iid=132872, r_ui=None, est=1.1538395925957474, details={'was_impossible': False}),\n",
       " Prediction(uid='U1077', iid=132885, r_ui=None, est=1.103412834782868, details={'was_impossible': False}),\n",
       " Prediction(uid='U1077', iid=132921, r_ui=None, est=1.2085765125620096, details={'was_impossible': False}),\n",
       " Prediction(uid='U1077', iid=132922, r_ui=None, est=1.3039360007127347, details={'was_impossible': False}),\n",
       " Prediction(uid='U1077', iid=132925, r_ui=None, est=1.0658821407979133, details={'was_impossible': False}),\n",
       " Prediction(uid='U1077', iid=132951, r_ui=None, est=1.0255141903922382, details={'was_impossible': False}),\n",
       " Prediction(uid='U1077', iid=132937, r_ui=None, est=1.5018636975562754, details={'was_impossible': False}),\n",
       " Prediction(uid='U1077', iid=132954, r_ui=None, est=1.0385134960398599, details={'was_impossible': False}),\n",
       " Prediction(uid='U1077', iid=132955, r_ui=None, est=1.4687350947530933, details={'was_impossible': False}),\n",
       " Prediction(uid='U1077', iid=132958, r_ui=None, est=1.18262046579092, details={'was_impossible': False})]"
      ]
     },
     "execution_count": 23,
     "metadata": {},
     "output_type": "execute_result"
    }
   ],
   "source": [
    "pred"
   ]
  },
  {
   "cell_type": "code",
   "execution_count": null,
   "metadata": {},
   "outputs": [
    {
     "data": {
      "text/plain": [
       "defaultdict(list,\n",
       "            {'U1077': [(135028, 1.6085031919996686),\n",
       "              (135030, 1.6042528038330732),\n",
       "              (132937, 1.5018636975562754),\n",
       "              (135034, 1.4722856724086713),\n",
       "              (132955, 1.4687350947530933),\n",
       "              (132768, 1.459720246244411),\n",
       "              (134986, 1.4554823407097695),\n",
       "              (132733, 1.4483497585107947),\n",
       "              (135075, 1.438949323339212),\n",
       "              (132846, 1.4039828990004322)]})"
      ]
     },
     "execution_count": 24,
     "metadata": {},
     "output_type": "execute_result"
    }
   ],
   "source": [
    "top_n = get_top_n(pred, n=10)\n",
    "top_n"
   ]
  },
  {
   "cell_type": "code",
   "execution_count": null,
   "metadata": {},
   "outputs": [
    {
     "name": "stdout",
     "output_type": "stream",
     "text": [
      "['La Virreina', 'Preambulo Wifi Zone Cafe', 'rockabilly ', 'Michiko Restaurant Japones', 'emilianos', 'Mariscos Tia Licha', 'Restaurant Las Mananitas', 'Little Cesarz', 'Mariscos El Pescador', 'el lechon potosino ']\n"
     ]
    }
   ],
   "source": [
    "for uid, user_ratings in top_n.items():\n",
    "    print([locales.loc[locales.placeID==iid,'name'].values[0] for (iid, _) in user_ratings])"
   ]
  },
  {
   "cell_type": "markdown",
   "metadata": {},
   "source": [
    "# Comparacion desempano algoritmos"
   ]
  },
  {
   "cell_type": "code",
   "execution_count": null,
   "metadata": {},
   "outputs": [
    {
     "name": "stdout",
     "output_type": "stream",
     "text": [
      "Computing the msd similarity matrix...\n",
      "Done computing similarity matrix.\n",
      "Estimating biases using als...\n"
     ]
    },
    {
     "data": {
      "text/plain": [
       "<surprise.prediction_algorithms.matrix_factorization.NMF at 0x290a06e20>"
      ]
     },
     "execution_count": 26,
     "metadata": {},
     "output_type": "execute_result"
    }
   ],
   "source": [
    "import pandas as pd\n",
    "from surprise import Dataset, Reader\n",
    "from surprise import SVD, KNNBasic, NormalPredictor, BaselineOnly, NMF\n",
    "from sklearn.model_selection import train_test_split\n",
    "\n",
    "train, test = train_test_split(df_ratings, test_size=0.20, random_state=100)\n",
    "\n",
    "reader = Reader(rating_scale=(1, 5))\n",
    "\n",
    "data_train = Dataset.load_from_df(train[['userID', 'placeID', 'rating']], reader)\n",
    "\n",
    "algo_svd = SVD()\n",
    "algo_knn = KNNBasic()\n",
    "algo_random = NormalPredictor()\n",
    "algo_baseline = BaselineOnly()\n",
    "algo_nmf = NMF()\n",
    "\n",
    "trainset = data_train.build_full_trainset()\n",
    "algo_svd.fit(trainset)\n",
    "algo_knn.fit(trainset)\n",
    "algo_random.fit(trainset)\n",
    "algo_baseline.fit(trainset)\n",
    "algo_nmf.fit(trainset)"
   ]
  },
  {
   "cell_type": "code",
   "execution_count": null,
   "metadata": {},
   "outputs": [],
   "source": [
    "cv_random=cross_validate(algo_random, data_train, measures=['RMSE'],cv=4, verbose=False, n_jobs=-1)"
   ]
  },
  {
   "cell_type": "code",
   "execution_count": null,
   "metadata": {},
   "outputs": [
    {
     "name": "stdout",
     "output_type": "stream",
     "text": [
      "Estimating biases using als...\n",
      "Estimating biases using als...\n",
      "Estimating biases using als...\n",
      "Estimating biases using als...\n",
      "Computing the msd similarity matrix...\n",
      "Done computing similarity matrix.\n",
      "Computing the msd similarity matrix...\n",
      "Done computing similarity matrix.\n",
      "Computing the msd similarity matrix...\n",
      "Done computing similarity matrix.\n",
      "Computing the msd similarity matrix...\n",
      "Done computing similarity matrix.\n"
     ]
    }
   ],
   "source": [
    "cv_baseline=cross_validate(algo_baseline, data_train, measures=['RMSE'],cv=4, verbose=False, n_jobs=-1)\n",
    "cv_svd=cross_validate(algo_svd, data_train, measures=['RMSE'],cv=4, verbose=False, n_jobs=-1)\n",
    "cv_knn=cross_validate(algo_knn, data_train, measures=['RMSE'],cv=4, verbose=False, n_jobs=-1)\n",
    "cv_nmf=cross_validate(algo_nmf, data_train, measures=['RMSE'],cv=4, verbose=False, n_jobs=-1)"
   ]
  },
  {
   "cell_type": "code",
   "execution_count": null,
   "metadata": {},
   "outputs": [
    {
     "data": {
      "text/html": [
       "<div>\n",
       "<style scoped>\n",
       "    .dataframe tbody tr th:only-of-type {\n",
       "        vertical-align: middle;\n",
       "    }\n",
       "\n",
       "    .dataframe tbody tr th {\n",
       "        vertical-align: top;\n",
       "    }\n",
       "\n",
       "    .dataframe thead th {\n",
       "        text-align: right;\n",
       "    }\n",
       "</style>\n",
       "<table border=\"1\" class=\"dataframe\">\n",
       "  <thead>\n",
       "    <tr style=\"text-align: right;\">\n",
       "      <th></th>\n",
       "      <th>Algoritmo</th>\n",
       "      <th>RMSE CV</th>\n",
       "    </tr>\n",
       "  </thead>\n",
       "  <tbody>\n",
       "    <tr>\n",
       "      <th>0</th>\n",
       "      <td>Random</td>\n",
       "      <td>0.949</td>\n",
       "    </tr>\n",
       "    <tr>\n",
       "      <th>1</th>\n",
       "      <td>Baseline</td>\n",
       "      <td>0.723</td>\n",
       "    </tr>\n",
       "    <tr>\n",
       "      <th>2</th>\n",
       "      <td>SVD</td>\n",
       "      <td>0.716</td>\n",
       "    </tr>\n",
       "    <tr>\n",
       "      <th>3</th>\n",
       "      <td>KNN</td>\n",
       "      <td>0.813</td>\n",
       "    </tr>\n",
       "    <tr>\n",
       "      <th>4</th>\n",
       "      <td>NMF</td>\n",
       "      <td>0.730</td>\n",
       "    </tr>\n",
       "  </tbody>\n",
       "</table>\n",
       "</div>"
      ],
      "text/plain": [
       "  Algoritmo  RMSE CV\n",
       "0    Random    0.949\n",
       "1  Baseline    0.723\n",
       "2       SVD    0.716\n",
       "3       KNN    0.813\n",
       "4       NMF    0.730"
      ]
     },
     "execution_count": 29,
     "metadata": {},
     "output_type": "execute_result"
    }
   ],
   "source": [
    "res=[]\n",
    "res.append(round(cv_random['test_rmse'].mean(),3))\n",
    "res.append(round(cv_baseline['test_rmse'].mean(),3))\n",
    "res.append(round(cv_svd['test_rmse'].mean(),3))\n",
    "res.append(round(cv_knn['test_rmse'].mean(),3))\n",
    "res.append(round(cv_nmf['test_rmse'].mean(),3))\n",
    "\n",
    "res_df=pd.DataFrame(pd.concat([pd.Series(['Random','Baseline','SVD','KNN','NMF']),pd.Series(res)],axis=1))\n",
    "res_df.columns=['Algoritmo','RMSE CV']\n",
    "res_df"
   ]
  },
  {
   "cell_type": "markdown",
   "metadata": {},
   "source": [
    "Los mejores algoritmos parecen ser Random y Baseline"
   ]
  },
  {
   "cell_type": "code",
   "execution_count": null,
   "metadata": {},
   "outputs": [],
   "source": [
    "from collections import defaultdict\n",
    "\n",
    "from surprise import Dataset, SVD\n",
    "from surprise.model_selection import KFold\n",
    "\n",
    "\n",
    "def precision_recall_at_k(predictions, k=10, threshold=3.5):\n",
    "    \"\"\"Return precision and recall at k metrics for each user\"\"\"\n",
    "\n",
    "    # First map the predictions to each user.\n",
    "    user_est_true = defaultdict(list)\n",
    "    for uid, _, true_r, est, _ in predictions:\n",
    "        user_est_true[uid].append((est, true_r))\n",
    "\n",
    "    precisions = dict()\n",
    "    recalls = dict()\n",
    "    for uid, user_ratings in user_est_true.items():\n",
    "\n",
    "        # Sort user ratings by estimated value\n",
    "        user_ratings.sort(key=lambda x: x[0], reverse=True)\n",
    "\n",
    "        # Number of relevant items\n",
    "        n_rel = sum((true_r >= threshold) for (_, true_r) in user_ratings)\n",
    "\n",
    "        # Number of recommended items in top k\n",
    "        n_rec_k = sum((est >= threshold) for (est, _) in user_ratings[:k])\n",
    "\n",
    "        # Number of relevant and recommended items in top k\n",
    "        n_rel_and_rec_k = sum(\n",
    "            ((true_r >= threshold) and (est >= threshold))\n",
    "            for (est, true_r) in user_ratings[:k]\n",
    "        )\n",
    "\n",
    "        # Precision@K: Proportion of recommended items that are relevant\n",
    "        # When n_rec_k is 0, Precision is undefined. We here set it to 0.\n",
    "\n",
    "        precisions[uid] = n_rel_and_rec_k / n_rec_k if n_rec_k != 0 else 0\n",
    "\n",
    "        # Recall@K: Proportion of relevant items that are recommended\n",
    "        # When n_rel is 0, Recall is undefined. We here set it to 0.\n",
    "\n",
    "        recalls[uid] = n_rel_and_rec_k / n_rel if n_rel != 0 else 0\n",
    "\n",
    "    return precisions, recalls"
   ]
  },
  {
   "cell_type": "code",
   "execution_count": null,
   "metadata": {},
   "outputs": [],
   "source": [
    "kf = KFold(n_splits=4)\n",
    "# algo = SVD()\n",
    "precision=[]\n",
    "recall=[]\n",
    "for trainset, testset in kf.split(data):\n",
    "    algo.fit(trainset)\n",
    "    predictions = algo.test(testset)\n",
    "    precisions, recalls = precision_recall_at_k(predictions, k=10, threshold=4)\n",
    "\n",
    "    # Precision and recall can then be averaged over all users\n",
    "    precision.append(sum(prec for prec in precisions.values()) / len(precisions))\n",
    "    recall.append(sum(rec for rec in recalls.values()) / len(recalls))"
   ]
  },
  {
   "cell_type": "code",
   "execution_count": null,
   "metadata": {},
   "outputs": [
    {
     "name": "stdout",
     "output_type": "stream",
     "text": [
      "Precision media: 0.0\n",
      "Recall medio: 0.0\n"
     ]
    }
   ],
   "source": [
    "print(f'Precision media: {np.array(precision).mean()}')\n",
    "print(f'Recall medio: {np.array(recall).mean()}')"
   ]
  },
  {
   "cell_type": "markdown",
   "metadata": {},
   "source": []
  }
 ],
 "metadata": {
  "kernelspec": {
   "display_name": "Python 3",
   "language": "python",
   "name": "python3"
  },
  "language_info": {
   "codemirror_mode": {
    "name": "ipython",
    "version": 3
   },
   "file_extension": ".py",
   "mimetype": "text/x-python",
   "name": "python",
   "nbconvert_exporter": "python",
   "pygments_lexer": "ipython3",
   "version": "3.8.18"
  }
 },
 "nbformat": 4,
 "nbformat_minor": 2
}
