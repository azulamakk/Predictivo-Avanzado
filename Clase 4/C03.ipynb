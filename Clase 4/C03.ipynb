{
 "cells": [
  {
   "cell_type": "markdown",
   "id": "2dabea9a",
   "metadata": {},
   "source": [
    "# DATASETS DESBALANCEADOS"
   ]
  },
  {
   "cell_type": "markdown",
   "id": "9ba07671",
   "metadata": {},
   "source": [
    "<img src=\"Unbalanced-Force.jpg\" align=\"center\" width=\"70%\"/>"
   ]
  },
  {
   "cell_type": "markdown",
   "id": "cf1b536b",
   "metadata": {},
   "source": [
    "Al momento de trabajar en problemas de clasificación en la vida real (en un ambiente profesional o en la investigación, por ejemplo), es muy común toparse con conjuntos de datos desbalanceados, es decir, con una clase positiva, o target, minoritaria, o muy minoritaria.<br><br>\n",
    "\n",
    "¿Cuando decimos que un dataset está desbalanceado? Una posible categorización es la siguiente:\n",
    "1. Leve: la clase positiva representa entre el 20% y el 40% de los casos.\n",
    "2. Moderado: la clase positiva representa entre el 1% y el 20% de los casos.\n",
    "3. Extrema: la clase positiva representa menos del 1% de los casos.\n",
    "\n",
    "<br><br>\n",
    "Los algoritmos de machine learning tendrán un desempeño regular o malo en la clase minoritaria, ¡si bien es justamente esta clase la que nos interesa predecir con precisión!. ¿Por qué? Porque en general están pensados para maximizar el accuracy y reducir los errores.<br><br> \n",
    "Podemos entender rápidamente que esto puede ser problemático. Pensemos en un problema de fraude, con una clase positiva de un 1%. Un algoritmo que prediga siempre la clase negativa (o sea, no fraude) obtendrá un accuracy de un 99%. El problema es que obtendríamos un 100% de accuracy para la clase negativa y un 0% de accuracy para la clase positiva.\n",
    "<br><br>\n",
    "A partir de estos resultados obtenemos dos conclusiones:\n",
    "1. Métricas como el accuracy no son útiles en los problemas de clasificación con datasets desbalanceados (es decir, en la **mayoría** de los problemas de clasificación).\n",
    "2. Podemos aplicar técnicas de balanceo de los datasets para obtener mejores resultados."
   ]
  },
  {
   "cell_type": "markdown",
   "id": "2597fb51",
   "metadata": {},
   "source": [
    "Lás tecnicas más sencillas de balanceo son el **oversampling** (sobremuestreo) y el **undersampling** (submuestreo).\n",
    "El oversampling implica *multiplicar* casos al azar de la clase minoritaria, mientras que undersampling implica *eliminar* registros al azar de la clase mayoritaria.\n",
    "<br><br>\n",
    "Veamos un ejemplo con un dataset de fraude de tarjetas de crédito:"
   ]
  },
  {
   "cell_type": "code",
   "execution_count": 1,
   "id": "1076d77b",
   "metadata": {},
   "outputs": [],
   "source": [
    "\n",
    "import numpy as np\n",
    "import pandas as pd\n",
    "\n",
    "from sklearn.metrics import accuracy_score, f1_score, confusion_matrix, roc_auc_score\n",
    "from sklearn.model_selection import train_test_split\n",
    "\n",
    "from collections import Counter\n",
    "\n",
    "import matplotlib.pyplot as plt\n",
    "import seaborn as sns"
   ]
  },
  {
   "cell_type": "code",
   "execution_count": 2,
   "id": "2b6dd15d",
   "metadata": {},
   "outputs": [],
   "source": [
    "#descargar creditcard.zip de https://drive.google.com/file/d/1INMfmb9RI30B8gGb2q5nY31BXDD-TrsF/view?usp=drive_link\n",
    "import pandas as pd\n",
    "data=pd.read_csv('data/creditcard.zip')"
   ]
  },
  {
   "cell_type": "code",
   "execution_count": 3,
   "id": "15b4001b",
   "metadata": {},
   "outputs": [
    {
     "data": {
      "text/plain": [
       "Class\n",
       "0    0.998273\n",
       "1    0.001727\n",
       "Name: proportion, dtype: float64"
      ]
     },
     "execution_count": 3,
     "metadata": {},
     "output_type": "execute_result"
    }
   ],
   "source": [
    "data['Class'].value_counts(normalize=True)\n",
    "#Vemos que la clase positiva es de apenas 0,17%"
   ]
  },
  {
   "cell_type": "code",
   "execution_count": 4,
   "id": "60af2378",
   "metadata": {},
   "outputs": [
    {
     "name": "stdout",
     "output_type": "stream",
     "text": [
      "class 0: (284315, 31)\n",
      "class 1: (492, 31)\n"
     ]
    }
   ],
   "source": [
    "class_count_0, class_count_1 = data['Class'].value_counts()\n",
    "\n",
    "class_0 = data[data['Class'] == 0]\n",
    "class_1 = data[data['Class'] == 1]\n",
    "print('class 0:', class_0.shape)\n",
    "print('class 1:', class_1.shape)"
   ]
  },
  {
   "cell_type": "code",
   "execution_count": 5,
   "id": "d6b5e9c8",
   "metadata": {},
   "outputs": [
    {
     "name": "stdout",
     "output_type": "stream",
     "text": [
      "total class of 1 and0: Class\n",
      "0    492\n",
      "1    492\n",
      "Name: count, dtype: int64\n"
     ]
    },
    {
     "data": {
      "text/plain": [
       "<Axes: title={'center': 'count (target)'}, xlabel='Class'>"
      ]
     },
     "execution_count": 5,
     "metadata": {},
     "output_type": "execute_result"
    },
    {
     "data": {
      "image/png": "[encoded data removed]",
      "text/plain": [
       "<Figure size 640x480 with 1 Axes>"
      ]
     },
     "metadata": {},
     "output_type": "display_data"
    }
   ],
   "source": [
    "#Hacemos under-sampling, tomando una muestra de la clase negativa del tamaño de la clase positiva\n",
    "class_0_under = class_0.sample(class_count_1)\n",
    "\n",
    "test_under = pd.concat([class_0_under, class_1], axis=0)\n",
    "\n",
    "print(\"total class of 1 and0:\",test_under['Class'].value_counts())# plot the count after under-sampeling\n",
    "test_under['Class'].value_counts().plot(kind='bar', title='count (target)')"
   ]
  },
  {
   "cell_type": "code",
   "execution_count": 6,
   "id": "84cdc46b",
   "metadata": {},
   "outputs": [
    {
     "name": "stdout",
     "output_type": "stream",
     "text": [
      "total class of 1 and 0: Class\n",
      "1    284315\n",
      "0    284315\n",
      "Name: count, dtype: int64\n"
     ]
    },
    {
     "data": {
      "text/plain": [
       "<Axes: title={'center': 'count (target)'}, xlabel='Class'>"
      ]
     },
     "execution_count": 6,
     "metadata": {},
     "output_type": "execute_result"
    },
    {
     "data": {
      "image/png": "[encoded data removed]",
      "text/plain": [
       "<Figure size 640x480 with 1 Axes>"
      ]
     },
     "metadata": {},
     "output_type": "display_data"
    }
   ],
   "source": [
    "#Hacemos over-sampling, tomando una muestra con reemplazo de la clase positiva del tamaño de la clase negativa,\n",
    "#es decir, multiplicando los registros de la clase positiva hasta igualar ambas clases\n",
    "\n",
    "class_1_over = class_1.sample(class_count_0, replace=True)\n",
    "\n",
    "test_over = pd.concat([class_1_over, class_0], axis=0)\n",
    "\n",
    "print(\"total class of 1 and 0:\",test_over['Class'].value_counts())\n",
    "test_over['Class'].value_counts().plot(kind='bar', title='count (target)')"
   ]
  },
  {
   "cell_type": "code",
   "execution_count": 7,
   "id": "19fa2d24",
   "metadata": {},
   "outputs": [],
   "source": [
    "# pip install imblearn"
   ]
  },
  {
   "cell_type": "code",
   "execution_count": 8,
   "id": "c37f18c8",
   "metadata": {},
   "outputs": [
    {
     "data": {
      "text/html": [
       "<div>\n",
       "<style scoped>\n",
       "    .dataframe tbody tr th:only-of-type {\n",
       "        vertical-align: middle;\n",
       "    }\n",
       "\n",
       "    .dataframe tbody tr th {\n",
       "        vertical-align: top;\n",
       "    }\n",
       "\n",
       "    .dataframe thead th {\n",
       "        text-align: right;\n",
       "    }\n",
       "</style>\n",
       "<table border=\"1\" class=\"dataframe\">\n",
       "  <thead>\n",
       "    <tr style=\"text-align: right;\">\n",
       "      <th></th>\n",
       "      <th>Time</th>\n",
       "      <th>V1</th>\n",
       "      <th>V2</th>\n",
       "      <th>V3</th>\n",
       "      <th>V4</th>\n",
       "      <th>V5</th>\n",
       "      <th>V6</th>\n",
       "      <th>V7</th>\n",
       "      <th>V8</th>\n",
       "      <th>V9</th>\n",
       "      <th>...</th>\n",
       "      <th>V21</th>\n",
       "      <th>V22</th>\n",
       "      <th>V23</th>\n",
       "      <th>V24</th>\n",
       "      <th>V25</th>\n",
       "      <th>V26</th>\n",
       "      <th>V27</th>\n",
       "      <th>V28</th>\n",
       "      <th>Amount</th>\n",
       "      <th>Class</th>\n",
       "    </tr>\n",
       "  </thead>\n",
       "  <tbody>\n",
       "    <tr>\n",
       "      <th>0</th>\n",
       "      <td>0.0</td>\n",
       "      <td>-1.359807</td>\n",
       "      <td>-0.072781</td>\n",
       "      <td>2.536347</td>\n",
       "      <td>1.378155</td>\n",
       "      <td>-0.338321</td>\n",
       "      <td>0.462388</td>\n",
       "      <td>0.239599</td>\n",
       "      <td>0.098698</td>\n",
       "      <td>0.363787</td>\n",
       "      <td>...</td>\n",
       "      <td>-0.018307</td>\n",
       "      <td>0.277838</td>\n",
       "      <td>-0.110474</td>\n",
       "      <td>0.066928</td>\n",
       "      <td>0.128539</td>\n",
       "      <td>-0.189115</td>\n",
       "      <td>0.133558</td>\n",
       "      <td>-0.021053</td>\n",
       "      <td>149.62</td>\n",
       "      <td>0</td>\n",
       "    </tr>\n",
       "    <tr>\n",
       "      <th>1</th>\n",
       "      <td>0.0</td>\n",
       "      <td>1.191857</td>\n",
       "      <td>0.266151</td>\n",
       "      <td>0.166480</td>\n",
       "      <td>0.448154</td>\n",
       "      <td>0.060018</td>\n",
       "      <td>-0.082361</td>\n",
       "      <td>-0.078803</td>\n",
       "      <td>0.085102</td>\n",
       "      <td>-0.255425</td>\n",
       "      <td>...</td>\n",
       "      <td>-0.225775</td>\n",
       "      <td>-0.638672</td>\n",
       "      <td>0.101288</td>\n",
       "      <td>-0.339846</td>\n",
       "      <td>0.167170</td>\n",
       "      <td>0.125895</td>\n",
       "      <td>-0.008983</td>\n",
       "      <td>0.014724</td>\n",
       "      <td>2.69</td>\n",
       "      <td>0</td>\n",
       "    </tr>\n",
       "    <tr>\n",
       "      <th>2</th>\n",
       "      <td>1.0</td>\n",
       "      <td>-1.358354</td>\n",
       "      <td>-1.340163</td>\n",
       "      <td>1.773209</td>\n",
       "      <td>0.379780</td>\n",
       "      <td>-0.503198</td>\n",
       "      <td>1.800499</td>\n",
       "      <td>0.791461</td>\n",
       "      <td>0.247676</td>\n",
       "      <td>-1.514654</td>\n",
       "      <td>...</td>\n",
       "      <td>0.247998</td>\n",
       "      <td>0.771679</td>\n",
       "      <td>0.909412</td>\n",
       "      <td>-0.689281</td>\n",
       "      <td>-0.327642</td>\n",
       "      <td>-0.139097</td>\n",
       "      <td>-0.055353</td>\n",
       "      <td>-0.059752</td>\n",
       "      <td>378.66</td>\n",
       "      <td>0</td>\n",
       "    </tr>\n",
       "    <tr>\n",
       "      <th>3</th>\n",
       "      <td>1.0</td>\n",
       "      <td>-0.966272</td>\n",
       "      <td>-0.185226</td>\n",
       "      <td>1.792993</td>\n",
       "      <td>-0.863291</td>\n",
       "      <td>-0.010309</td>\n",
       "      <td>1.247203</td>\n",
       "      <td>0.237609</td>\n",
       "      <td>0.377436</td>\n",
       "      <td>-1.387024</td>\n",
       "      <td>...</td>\n",
       "      <td>-0.108300</td>\n",
       "      <td>0.005274</td>\n",
       "      <td>-0.190321</td>\n",
       "      <td>-1.175575</td>\n",
       "      <td>0.647376</td>\n",
       "      <td>-0.221929</td>\n",
       "      <td>0.062723</td>\n",
       "      <td>0.061458</td>\n",
       "      <td>123.50</td>\n",
       "      <td>0</td>\n",
       "    </tr>\n",
       "    <tr>\n",
       "      <th>4</th>\n",
       "      <td>2.0</td>\n",
       "      <td>-1.158233</td>\n",
       "      <td>0.877737</td>\n",
       "      <td>1.548718</td>\n",
       "      <td>0.403034</td>\n",
       "      <td>-0.407193</td>\n",
       "      <td>0.095921</td>\n",
       "      <td>0.592941</td>\n",
       "      <td>-0.270533</td>\n",
       "      <td>0.817739</td>\n",
       "      <td>...</td>\n",
       "      <td>-0.009431</td>\n",
       "      <td>0.798278</td>\n",
       "      <td>-0.137458</td>\n",
       "      <td>0.141267</td>\n",
       "      <td>-0.206010</td>\n",
       "      <td>0.502292</td>\n",
       "      <td>0.219422</td>\n",
       "      <td>0.215153</td>\n",
       "      <td>69.99</td>\n",
       "      <td>0</td>\n",
       "    </tr>\n",
       "    <tr>\n",
       "      <th>...</th>\n",
       "      <td>...</td>\n",
       "      <td>...</td>\n",
       "      <td>...</td>\n",
       "      <td>...</td>\n",
       "      <td>...</td>\n",
       "      <td>...</td>\n",
       "      <td>...</td>\n",
       "      <td>...</td>\n",
       "      <td>...</td>\n",
       "      <td>...</td>\n",
       "      <td>...</td>\n",
       "      <td>...</td>\n",
       "      <td>...</td>\n",
       "      <td>...</td>\n",
       "      <td>...</td>\n",
       "      <td>...</td>\n",
       "      <td>...</td>\n",
       "      <td>...</td>\n",
       "      <td>...</td>\n",
       "      <td>...</td>\n",
       "      <td>...</td>\n",
       "    </tr>\n",
       "    <tr>\n",
       "      <th>284802</th>\n",
       "      <td>172786.0</td>\n",
       "      <td>-11.881118</td>\n",
       "      <td>10.071785</td>\n",
       "      <td>-9.834783</td>\n",
       "      <td>-2.066656</td>\n",
       "      <td>-5.364473</td>\n",
       "      <td>-2.606837</td>\n",
       "      <td>-4.918215</td>\n",
       "      <td>7.305334</td>\n",
       "      <td>1.914428</td>\n",
       "      <td>...</td>\n",
       "      <td>0.213454</td>\n",
       "      <td>0.111864</td>\n",
       "      <td>1.014480</td>\n",
       "      <td>-0.509348</td>\n",
       "      <td>1.436807</td>\n",
       "      <td>0.250034</td>\n",
       "      <td>0.943651</td>\n",
       "      <td>0.823731</td>\n",
       "      <td>0.77</td>\n",
       "      <td>0</td>\n",
       "    </tr>\n",
       "    <tr>\n",
       "      <th>284803</th>\n",
       "      <td>172787.0</td>\n",
       "      <td>-0.732789</td>\n",
       "      <td>-0.055080</td>\n",
       "      <td>2.035030</td>\n",
       "      <td>-0.738589</td>\n",
       "      <td>0.868229</td>\n",
       "      <td>1.058415</td>\n",
       "      <td>0.024330</td>\n",
       "      <td>0.294869</td>\n",
       "      <td>0.584800</td>\n",
       "      <td>...</td>\n",
       "      <td>0.214205</td>\n",
       "      <td>0.924384</td>\n",
       "      <td>0.012463</td>\n",
       "      <td>-1.016226</td>\n",
       "      <td>-0.606624</td>\n",
       "      <td>-0.395255</td>\n",
       "      <td>0.068472</td>\n",
       "      <td>-0.053527</td>\n",
       "      <td>24.79</td>\n",
       "      <td>0</td>\n",
       "    </tr>\n",
       "    <tr>\n",
       "      <th>284804</th>\n",
       "      <td>172788.0</td>\n",
       "      <td>1.919565</td>\n",
       "      <td>-0.301254</td>\n",
       "      <td>-3.249640</td>\n",
       "      <td>-0.557828</td>\n",
       "      <td>2.630515</td>\n",
       "      <td>3.031260</td>\n",
       "      <td>-0.296827</td>\n",
       "      <td>0.708417</td>\n",
       "      <td>0.432454</td>\n",
       "      <td>...</td>\n",
       "      <td>0.232045</td>\n",
       "      <td>0.578229</td>\n",
       "      <td>-0.037501</td>\n",
       "      <td>0.640134</td>\n",
       "      <td>0.265745</td>\n",
       "      <td>-0.087371</td>\n",
       "      <td>0.004455</td>\n",
       "      <td>-0.026561</td>\n",
       "      <td>67.88</td>\n",
       "      <td>0</td>\n",
       "    </tr>\n",
       "    <tr>\n",
       "      <th>284805</th>\n",
       "      <td>172788.0</td>\n",
       "      <td>-0.240440</td>\n",
       "      <td>0.530483</td>\n",
       "      <td>0.702510</td>\n",
       "      <td>0.689799</td>\n",
       "      <td>-0.377961</td>\n",
       "      <td>0.623708</td>\n",
       "      <td>-0.686180</td>\n",
       "      <td>0.679145</td>\n",
       "      <td>0.392087</td>\n",
       "      <td>...</td>\n",
       "      <td>0.265245</td>\n",
       "      <td>0.800049</td>\n",
       "      <td>-0.163298</td>\n",
       "      <td>0.123205</td>\n",
       "      <td>-0.569159</td>\n",
       "      <td>0.546668</td>\n",
       "      <td>0.108821</td>\n",
       "      <td>0.104533</td>\n",
       "      <td>10.00</td>\n",
       "      <td>0</td>\n",
       "    </tr>\n",
       "    <tr>\n",
       "      <th>284806</th>\n",
       "      <td>172792.0</td>\n",
       "      <td>-0.533413</td>\n",
       "      <td>-0.189733</td>\n",
       "      <td>0.703337</td>\n",
       "      <td>-0.506271</td>\n",
       "      <td>-0.012546</td>\n",
       "      <td>-0.649617</td>\n",
       "      <td>1.577006</td>\n",
       "      <td>-0.414650</td>\n",
       "      <td>0.486180</td>\n",
       "      <td>...</td>\n",
       "      <td>0.261057</td>\n",
       "      <td>0.643078</td>\n",
       "      <td>0.376777</td>\n",
       "      <td>0.008797</td>\n",
       "      <td>-0.473649</td>\n",
       "      <td>-0.818267</td>\n",
       "      <td>-0.002415</td>\n",
       "      <td>0.013649</td>\n",
       "      <td>217.00</td>\n",
       "      <td>0</td>\n",
       "    </tr>\n",
       "  </tbody>\n",
       "</table>\n",
       "<p>284807 rows × 31 columns</p>\n",
       "</div>"
      ],
      "text/plain": [
       "            Time         V1         V2        V3        V4        V5  \\\n",
       "0            0.0  -1.359807  -0.072781  2.536347  1.378155 -0.338321   \n",
       "1            0.0   1.191857   0.266151  0.166480  0.448154  0.060018   \n",
       "2            1.0  -1.358354  -1.340163  1.773209  0.379780 -0.503198   \n",
       "3            1.0  -0.966272  -0.185226  1.792993 -0.863291 -0.010309   \n",
       "4            2.0  -1.158233   0.877737  1.548718  0.403034 -0.407193   \n",
       "...          ...        ...        ...       ...       ...       ...   \n",
       "284802  172786.0 -11.881118  10.071785 -9.834783 -2.066656 -5.364473   \n",
       "284803  172787.0  -0.732789  -0.055080  2.035030 -0.738589  0.868229   \n",
       "284804  172788.0   1.919565  -0.301254 -3.249640 -0.557828  2.630515   \n",
       "284805  172788.0  -0.240440   0.530483  0.702510  0.689799 -0.377961   \n",
       "284806  172792.0  -0.533413  -0.189733  0.703337 -0.506271 -0.012546   \n",
       "\n",
       "              V6        V7        V8        V9  ...       V21       V22  \\\n",
       "0       0.462388  0.239599  0.098698  0.363787  ... -0.018307  0.277838   \n",
       "1      -0.082361 -0.078803  0.085102 -0.255425  ... -0.225775 -0.638672   \n",
       "2       1.800499  0.791461  0.247676 -1.514654  ...  0.247998  0.771679   \n",
       "3       1.247203  0.237609  0.377436 -1.387024  ... -0.108300  0.005274   \n",
       "4       0.095921  0.592941 -0.270533  0.817739  ... -0.009431  0.798278   \n",
       "...          ...       ...       ...       ...  ...       ...       ...   \n",
       "284802 -2.606837 -4.918215  7.305334  1.914428  ...  0.213454  0.111864   \n",
       "284803  1.058415  0.024330  0.294869  0.584800  ...  0.214205  0.924384   \n",
       "284804  3.031260 -0.296827  0.708417  0.432454  ...  0.232045  0.578229   \n",
       "284805  0.623708 -0.686180  0.679145  0.392087  ...  0.265245  0.800049   \n",
       "284806 -0.649617  1.577006 -0.414650  0.486180  ...  0.261057  0.643078   \n",
       "\n",
       "             V23       V24       V25       V26       V27       V28  Amount  \\\n",
       "0      -0.110474  0.066928  0.128539 -0.189115  0.133558 -0.021053  149.62   \n",
       "1       0.101288 -0.339846  0.167170  0.125895 -0.008983  0.014724    2.69   \n",
       "2       0.909412 -0.689281 -0.327642 -0.139097 -0.055353 -0.059752  378.66   \n",
       "3      -0.190321 -1.175575  0.647376 -0.221929  0.062723  0.061458  123.50   \n",
       "4      -0.137458  0.141267 -0.206010  0.502292  0.219422  0.215153   69.99   \n",
       "...          ...       ...       ...       ...       ...       ...     ...   \n",
       "284802  1.014480 -0.509348  1.436807  0.250034  0.943651  0.823731    0.77   \n",
       "284803  0.012463 -1.016226 -0.606624 -0.395255  0.068472 -0.053527   24.79   \n",
       "284804 -0.037501  0.640134  0.265745 -0.087371  0.004455 -0.026561   67.88   \n",
       "284805 -0.163298  0.123205 -0.569159  0.546668  0.108821  0.104533   10.00   \n",
       "284806  0.376777  0.008797 -0.473649 -0.818267 -0.002415  0.013649  217.00   \n",
       "\n",
       "        Class  \n",
       "0           0  \n",
       "1           0  \n",
       "2           0  \n",
       "3           0  \n",
       "4           0  \n",
       "...       ...  \n",
       "284802      0  \n",
       "284803      0  \n",
       "284804      0  \n",
       "284805      0  \n",
       "284806      0  \n",
       "\n",
       "[284807 rows x 31 columns]"
      ]
     },
     "execution_count": 8,
     "metadata": {},
     "output_type": "execute_result"
    }
   ],
   "source": [
    "data"
   ]
  },
  {
   "cell_type": "code",
   "execution_count": 9,
   "id": "37eb82f9",
   "metadata": {},
   "outputs": [],
   "source": [
    "x = data.drop(columns=['Class'])\n",
    "y = data['Class']\n",
    "x_train, x_test, y_train, y_test = train_test_split(x, y, test_size =0.20, random_state=42)"
   ]
  },
  {
   "cell_type": "code",
   "execution_count": 10,
   "id": "684a8b3c",
   "metadata": {
    "scrolled": true
   },
   "outputs": [
    {
     "name": "stdout",
     "output_type": "stream",
     "text": [
      "original dataset shape: Counter({0: 227451, 1: 394})\n",
      "Resample dataset shape Counter({0: 394, 1: 394})\n"
     ]
    }
   ],
   "source": [
    "#Podemos hacer lo mismo utilizando la librería imblearn\n",
    "from imblearn.under_sampling import RandomUnderSampler\n",
    "from collections import Counter\n",
    "\n",
    "rus = RandomUnderSampler(random_state=42, replacement=True)\n",
    "x_rus, y_rus = rus.fit_resample(x_train, y_train)\n",
    "\n",
    "print('original dataset shape:', Counter(y_train))\n",
    "print('Resample dataset shape', Counter(y_rus))"
   ]
  },
  {
   "cell_type": "markdown",
   "id": "af521f69",
   "metadata": {},
   "source": [
    "Ventajas de undersampling:\n",
    "- Más rápido\n",
    "\n",
    "Desventajas de undersampling:\n",
    "- Implica pérdida de información\n",
    "- La muestra tomada puede estar sesgada\n"
   ]
  },
  {
   "cell_type": "code",
   "execution_count": 11,
   "id": "90829ecc",
   "metadata": {},
   "outputs": [
    {
     "name": "stdout",
     "output_type": "stream",
     "text": [
      "Original dataset shape Counter({0: 227451, 1: 394})\n",
      "Resample dataset shape Counter({0: 227451, 1: 227451})\n"
     ]
    }
   ],
   "source": [
    "from imblearn.over_sampling import RandomOverSampler\n",
    "\n",
    "ros = RandomOverSampler(random_state=42)\n",
    "\n",
    "x_ros, y_ros = ros.fit_resample(x_train, y_train)\n",
    "\n",
    "print('Original dataset shape', Counter(y_train))\n",
    "print('Resample dataset shape', Counter(y_ros))"
   ]
  },
  {
   "cell_type": "markdown",
   "id": "5c0656ee",
   "metadata": {},
   "source": [
    "Ventajas de oversampling:\n",
    "- No implica pérdida de información\n",
    "- Suele generar mejores resultados\n",
    "\n",
    "Desventajas de oversampling:\n",
    "- Más lento\n",
    "- Puede derivar en overfitting"
   ]
  },
  {
   "cell_type": "markdown",
   "id": "fd840974",
   "metadata": {},
   "source": [
    "## Links de Tomek\n",
    "\n",
    "Los links de Tomek son pares de instancias de casos muy similares entre sí pero de distintas clases. Podemos descartar los casos de la clase mayoritaria de cada par, y así incrementar el espacio entre las clases, ayudando al algoritmo a diferenciarlas.<br>\n",
    "Esto no necesariamente va a devolvernos un dataset balanceado 50%-50%, sino que va a eliminar algunas instancias de la clase mayoritaria.\n",
    "<br><br>\n",
    "Tener en cuenta que este proceso puede ser costo computacionalmente, cuando tenemos un dataset con muchos registros y variables."
   ]
  },
  {
   "cell_type": "markdown",
   "id": "f4981194",
   "metadata": {},
   "source": [
    "<img src=\"tomek.png\" align=\"center\" width=\"70%\"/>"
   ]
  },
  {
   "cell_type": "code",
   "execution_count": 12,
   "id": "42d82f73",
   "metadata": {},
   "outputs": [],
   "source": [
    "# from imblearn.under_sampling import TomekLinks\n",
    "\n",
    "# tl = TomekLinks()\n",
    "# x_tl, y_tl = tl.fit_resample(x, y)\n",
    "\n",
    "# print('Original dataset shape', Counter(y))\n",
    "# print('Resample dataset shape', Counter(y_tl))\n",
    "\n",
    "#Vemos que se descartaron solamente 71 casos de la clase negativa"
   ]
  },
  {
   "cell_type": "markdown",
   "id": "16a6bf82",
   "metadata": {},
   "source": [
    "# Synthetic Minority Oversampling Technique (SMOTE)"
   ]
  },
  {
   "cell_type": "markdown",
   "id": "7a844d6b",
   "metadata": {},
   "source": [
    "SMOTE es una técnica de oversampling de la clase minoritaria que sintetiza nuevos casos artificiales. Actúa seleccionando casos que se encuentran cercanos en el espacio de variables, trazando una línea entre estos casos, y generando nuevos casos a lo largo de esa línea. Podemos pensar que es el equivalente a interpolar píxeles en una imagen con poca resolución.\n",
    "<br><br>\n",
    "¿Cómo funciona el algoritmo?\n",
    "1. Se selecciona un caso al azar de la clase minoritaria.\n",
    "2. Se encuentran k vecinos más cercanos al caso (típicamente, k=5).\n",
    "3. Se selecciona al azar uno de esos vecinos.\n",
    "4. Se crea un caso sintético ubicado entre el caso original y el vecino seleccionado.\n",
    "\n",
    "Este proceso se repite hasta que las clases queden balanceadas 50-50.\n",
    "<br><br>\n",
    "Podemos pensar que este método conserva las **ventajas** de oversampling, típicamente con una mejor performance.<br><br>\n",
    "Una **desventaja** de este método es que los casos sintéticos se crean sin tener en cuenta la clase mayoritoria, lo que puede resultar en nuevos casos ambiguos, si las clases se solapan entre sí. Además, es costoso computacionalmente."
   ]
  },
  {
   "cell_type": "code",
   "execution_count": 13,
   "id": "1d489724",
   "metadata": {},
   "outputs": [
    {
     "name": "stdout",
     "output_type": "stream",
     "text": [
      "Original dataset shape Counter({0: 227451, 1: 394})\n",
      "Resample dataset shape Counter({0: 227451, 1: 227451})\n"
     ]
    }
   ],
   "source": [
    "from imblearn.over_sampling import SMOTE\n",
    "\n",
    "smote = SMOTE()\n",
    "x_smote, y_smote = smote.fit_resample(x_train, y_train)\n",
    "\n",
    "print('Original dataset shape', Counter(y_train))\n",
    "print('Resample dataset shape', Counter(y_smote))"
   ]
  },
  {
   "cell_type": "markdown",
   "id": "df48614a",
   "metadata": {},
   "source": [
    "# Near Miss"
   ]
  },
  {
   "cell_type": "markdown",
   "id": "0b3a645a",
   "metadata": {},
   "source": [
    "Es una técnica de undersampling (reducimos la clase mayoritaria al tamaño de la minoritaria).\n",
    "Se puede pensar que tiene un funcionamiento opuesto a los links de Tomek: en este caso nos interesa seleccionar los casos de la clase mayoritaria más semejantes a la clase minoritaria.<br><br>\n",
    "Tenemos tres variantes:\n",
    "1. Se seleccionan ejemplos de la clase mayoritaria con la menor distancia promedio a los 3 ejemplos más cercanos de la clase minoritaria.\n",
    "2. Se seleccionan ejemplos de la clase mayoritaria con la menor distancia promedio a los 3 ejemplos más lejanos de la clase minoritaria.\n",
    "3. Se seleccionan k ejemplos cercanos de la clase mayoritaria por **cada ejemplo** de la clase minoritaria.\n",
    "\n",
    "Este método conserva las **ventajas** del undersampling, típicamente con mejor desempeño.\n",
    "\n",
    "Veamos un ejemplo con otro dataset:"
   ]
  },
  {
   "cell_type": "markdown",
   "id": "191162be",
   "metadata": {},
   "source": [
    "<img src=\"nearmiss0.jpg\" align=\"center\" width=\"50%\"/>"
   ]
  },
  {
   "cell_type": "markdown",
   "id": "a39129d3",
   "metadata": {},
   "source": [
    "Con la variante 1, se seleccionan casos muy cercanos a la clase positiva:"
   ]
  },
  {
   "cell_type": "markdown",
   "id": "137e25d0",
   "metadata": {},
   "source": [
    "<img src=\"nearmiss1.jpg\" align=\"center\" width=\"50%\"/>"
   ]
  },
  {
   "cell_type": "markdown",
   "id": "108a156a",
   "metadata": {},
   "source": [
    "Con la variante 2, se seleccionan casos en el centro de la superposición entre ambas clases:"
   ]
  },
  {
   "cell_type": "markdown",
   "id": "bdf777b1",
   "metadata": {},
   "source": [
    "<img src=\"nearmiss2.jpg\" align=\"center\" width=\"50%\"/>"
   ]
  },
  {
   "cell_type": "markdown",
   "id": "1b56e419",
   "metadata": {},
   "source": [
    "Con la variante 3, se seleccionan casos en la frontera de decisión entre ambas variables:"
   ]
  },
  {
   "cell_type": "markdown",
   "id": "0e65cb42",
   "metadata": {},
   "source": [
    "<img src=\"nearmiss3.jpg\" align=\"center\" width=\"50%\"/>"
   ]
  },
  {
   "cell_type": "code",
   "execution_count": 14,
   "id": "d09903c2",
   "metadata": {},
   "outputs": [
    {
     "name": "stdout",
     "output_type": "stream",
     "text": [
      "Original dataset shape: Counter({0: 227451, 1: 394})\n",
      "Resample dataset shape: Counter({0: 394, 1: 394})\n"
     ]
    }
   ],
   "source": [
    "from imblearn.under_sampling import NearMiss\n",
    "\n",
    "nm = NearMiss(version=1)\n",
    "\n",
    "x_nm, y_nm = nm.fit_resample(x_train, y_train)\n",
    "\n",
    "print('Original dataset shape:', Counter(y_train))\n",
    "print('Resample dataset shape:', Counter(y_nm))\n",
    "\n",
    "nm = NearMiss(version=1)\n",
    "x_nm_1, y_nm_1 = nm.fit_resample(x_train, y_train)\n",
    "\n",
    "nm = NearMiss(version=2)\n",
    "x_nm_2, y_nm_2 = nm.fit_resample(x_train, y_train)\n",
    "\n",
    "nm = NearMiss(version=3)\n",
    "x_nm_3, y_nm_3 = nm.fit_resample(x_train, y_train)"
   ]
  },
  {
   "cell_type": "markdown",
   "id": "c8af3f7d",
   "metadata": {},
   "source": [
    "## Entrenemos modelos a partir de los datasets desbalanceados..."
   ]
  },
  {
   "cell_type": "code",
   "execution_count": 15,
   "id": "0bfc40b6",
   "metadata": {},
   "outputs": [
    {
     "name": "stdout",
     "output_type": "stream",
     "text": [
      "ROCAUC score DF Original: 0.89\n",
      "ROCAUC score Under-sampling: 0.95\n",
      "ROCAUC score Over-sampling: 0.91\n",
      "ROCAUC score SMOTE: 0.93\n",
      "ROCAUC score Near Miss 1: 0.77\n",
      "ROCAUC score Near Miss 2: 0.5\n",
      "ROCAUC score Near Miss 3: 0.95\n"
     ]
    }
   ],
   "source": [
    "from xgboost import XGBClassifier\n",
    "\n",
    "m = XGBClassifier()\n",
    "\n",
    "m.fit(x_train, y_train)\n",
    "predict_y = m.predict(x_test)\n",
    "\n",
    "print('ROCAUC score DF Original:',round(roc_auc_score(y_test, predict_y),2))\n",
    "\n",
    "m.fit(x_rus, y_rus)\n",
    "predict_y = m.predict(x_test)\n",
    "print('ROCAUC score Under-sampling:',round(roc_auc_score(y_test, predict_y),2))\n",
    "\n",
    "m.fit(x_ros, y_ros)\n",
    "predict_y = m.predict(x_test)\n",
    "print('ROCAUC score Over-sampling:',round(roc_auc_score(y_test, predict_y),2))\n",
    "\n",
    "m.fit(x_smote, y_smote)\n",
    "predict_y = m.predict(x_test)\n",
    "print('ROCAUC score SMOTE:',round(roc_auc_score(y_test, predict_y),2))\n",
    "\n",
    "m.fit(x_nm_1, y_nm_1)\n",
    "predict_y = m.predict(x_test)\n",
    "print('ROCAUC score Near Miss 1:',round(roc_auc_score(y_test, predict_y),2))\n",
    "\n",
    "m.fit(x_nm_2, y_nm_2)\n",
    "predict_y = m.predict(x_test)\n",
    "print('ROCAUC score Near Miss 2:',round(roc_auc_score(y_test, predict_y),2))\n",
    "\n",
    "m.fit(x_nm_3, y_nm_3)\n",
    "predict_y = m.predict(x_test)\n",
    "print('ROCAUC score Near Miss 3:',round(roc_auc_score(y_test, predict_y),2))"
   ]
  },
  {
   "cell_type": "markdown",
   "id": "179b1b54",
   "metadata": {},
   "source": [
    "- En este caso en particular, el método under-sampling supera a over-sampling.\n",
    "- SMOTE supera a over-sampling.\n",
    "- La 3ra variante de Near-Miss es la mejor, y tiene un desempeño similar a under-sampling.\n",
    "\n",
    "**¡ATENCIÓN!** Entrenamos a partir de los datasets balanceados, pero predecimos con el conjunto de test original. ¿Por qué?"
   ]
  },
  {
   "cell_type": "markdown",
   "id": "e2176390",
   "metadata": {},
   "source": [
    "## Conclusiones\n",
    "\n",
    "Siempre que tengamos un problema de clasificación con clases desbalanceadas (clase positiva inferior al 20% de los casos), podemos intentar aplicar alguna técnica de balanceo de clases.\n",
    "Las mejores técnicas suelen ser también las más costosas computacionalmente, por lo que no siempre vamos a poder aplicarlas. Idealmente, probaríamos las técnicas en el siguiente orden:\n",
    "1. SMOTE\n",
    "2. Over-sampling\n",
    "3. Near-miss\n",
    "4. Under-sampling\n",
    "\n",
    "Si estamos trabajando con un dataset con muchas variables y registros, con un hardware limitado, es posible que solo podamos aplicar under-sampling."
   ]
  },
  {
   "cell_type": "markdown",
   "id": "411fecc6",
   "metadata": {},
   "source": [
    "# PRÁCTICA"
   ]
  },
  {
   "cell_type": "markdown",
   "id": "cc57c667",
   "metadata": {},
   "source": [
    "A partir del dataset disponible en 'data/seguros/aug_train.csv', probar las diferentes técnicas de balanceo de clases, ajustar los correspondientes modelos, calcular su ROC-AUC y comparar los resultados."
   ]
  },
  {
   "cell_type": "code",
   "execution_count": 16,
   "id": "4b671643",
   "metadata": {},
   "outputs": [
    {
     "data": {
      "text/html": [
       "<div>\n",
       "<style scoped>\n",
       "    .dataframe tbody tr th:only-of-type {\n",
       "        vertical-align: middle;\n",
       "    }\n",
       "\n",
       "    .dataframe tbody tr th {\n",
       "        vertical-align: top;\n",
       "    }\n",
       "\n",
       "    .dataframe thead th {\n",
       "        text-align: right;\n",
       "    }\n",
       "</style>\n",
       "<table border=\"1\" class=\"dataframe\">\n",
       "  <thead>\n",
       "    <tr style=\"text-align: right;\">\n",
       "      <th></th>\n",
       "      <th>Gender</th>\n",
       "      <th>Age</th>\n",
       "      <th>Driving_License</th>\n",
       "      <th>Region_Code</th>\n",
       "      <th>Previously_Insured</th>\n",
       "      <th>Vehicle_Age</th>\n",
       "      <th>Vehicle_Damage</th>\n",
       "      <th>Annual_Premium</th>\n",
       "      <th>Policy_Sales_Channel</th>\n",
       "      <th>Vintage</th>\n",
       "      <th>Response</th>\n",
       "    </tr>\n",
       "  </thead>\n",
       "  <tbody>\n",
       "    <tr>\n",
       "      <th>0</th>\n",
       "      <td>Male</td>\n",
       "      <td>22</td>\n",
       "      <td>1</td>\n",
       "      <td>7.0</td>\n",
       "      <td>1</td>\n",
       "      <td>&lt; 1 Year</td>\n",
       "      <td>No</td>\n",
       "      <td>2630.0</td>\n",
       "      <td>152.0</td>\n",
       "      <td>16</td>\n",
       "      <td>0</td>\n",
       "    </tr>\n",
       "    <tr>\n",
       "      <th>1</th>\n",
       "      <td>Male</td>\n",
       "      <td>42</td>\n",
       "      <td>1</td>\n",
       "      <td>28.0</td>\n",
       "      <td>0</td>\n",
       "      <td>1-2 Year</td>\n",
       "      <td>Yes</td>\n",
       "      <td>43327.0</td>\n",
       "      <td>26.0</td>\n",
       "      <td>135</td>\n",
       "      <td>0</td>\n",
       "    </tr>\n",
       "    <tr>\n",
       "      <th>2</th>\n",
       "      <td>Female</td>\n",
       "      <td>66</td>\n",
       "      <td>1</td>\n",
       "      <td>33.0</td>\n",
       "      <td>0</td>\n",
       "      <td>1-2 Year</td>\n",
       "      <td>Yes</td>\n",
       "      <td>35841.0</td>\n",
       "      <td>124.0</td>\n",
       "      <td>253</td>\n",
       "      <td>0</td>\n",
       "    </tr>\n",
       "    <tr>\n",
       "      <th>3</th>\n",
       "      <td>Female</td>\n",
       "      <td>22</td>\n",
       "      <td>1</td>\n",
       "      <td>33.0</td>\n",
       "      <td>0</td>\n",
       "      <td>&lt; 1 Year</td>\n",
       "      <td>No</td>\n",
       "      <td>27645.0</td>\n",
       "      <td>152.0</td>\n",
       "      <td>69</td>\n",
       "      <td>0</td>\n",
       "    </tr>\n",
       "    <tr>\n",
       "      <th>4</th>\n",
       "      <td>Male</td>\n",
       "      <td>28</td>\n",
       "      <td>1</td>\n",
       "      <td>46.0</td>\n",
       "      <td>1</td>\n",
       "      <td>&lt; 1 Year</td>\n",
       "      <td>No</td>\n",
       "      <td>29023.0</td>\n",
       "      <td>152.0</td>\n",
       "      <td>211</td>\n",
       "      <td>0</td>\n",
       "    </tr>\n",
       "  </tbody>\n",
       "</table>\n",
       "</div>"
      ],
      "text/plain": [
       "   Gender  Age  Driving_License Region_Code  Previously_Insured Vehicle_Age  \\\n",
       "0    Male   22                1         7.0                   1    < 1 Year   \n",
       "1    Male   42                1        28.0                   0    1-2 Year   \n",
       "2  Female   66                1        33.0                   0    1-2 Year   \n",
       "3  Female   22                1        33.0                   0    < 1 Year   \n",
       "4    Male   28                1        46.0                   1    < 1 Year   \n",
       "\n",
       "  Vehicle_Damage  Annual_Premium  Policy_Sales_Channel  Vintage  Response  \n",
       "0             No          2630.0                 152.0       16         0  \n",
       "1            Yes         43327.0                  26.0      135         0  \n",
       "2            Yes         35841.0                 124.0      253         0  \n",
       "3             No         27645.0                 152.0       69         0  \n",
       "4             No         29023.0                 152.0      211         0  "
      ]
     },
     "execution_count": 16,
     "metadata": {},
     "output_type": "execute_result"
    }
   ],
   "source": [
    "df_practica=pd.read_csv('data/seguros/aug_train.csv')\n",
    "df_practica.drop(columns='id',inplace=True)\n",
    "df_practica.Region_Code=df_practica.Region_Code.astype(object)\n",
    "\n",
    "df_practica.head()"
   ]
  },
  {
   "cell_type": "code",
   "execution_count": 17,
   "id": "37281fe2",
   "metadata": {},
   "outputs": [
    {
     "data": {
      "text/plain": [
       "Response\n",
       "0    0.836189\n",
       "1    0.163811\n",
       "Name: proportion, dtype: float64"
      ]
     },
     "execution_count": 17,
     "metadata": {},
     "output_type": "execute_result"
    }
   ],
   "source": [
    "df_practica.Response.value_counts(normalize=True)"
   ]
  },
  {
   "cell_type": "code",
   "execution_count": 18,
   "id": "ed393db9",
   "metadata": {},
   "outputs": [
    {
     "data": {
      "text/plain": [
       "(382154, 11)"
      ]
     },
     "execution_count": 18,
     "metadata": {},
     "output_type": "execute_result"
    }
   ],
   "source": [
    "df_practica.shape"
   ]
  },
  {
   "cell_type": "code",
   "execution_count": 19,
   "id": "252f5f6d",
   "metadata": {},
   "outputs": [
    {
     "data": {
      "text/plain": [
       "Gender                   object\n",
       "Age                       int64\n",
       "Driving_License           int64\n",
       "Region_Code              object\n",
       "Previously_Insured        int64\n",
       "Vehicle_Age              object\n",
       "Vehicle_Damage           object\n",
       "Annual_Premium          float64\n",
       "Policy_Sales_Channel    float64\n",
       "Vintage                   int64\n",
       "Response                  int64\n",
       "dtype: object"
      ]
     },
     "execution_count": 19,
     "metadata": {},
     "output_type": "execute_result"
    }
   ],
   "source": [
    "df_practica.dtypes"
   ]
  },
  {
   "cell_type": "code",
   "execution_count": 20,
   "id": "08fe8296",
   "metadata": {},
   "outputs": [],
   "source": [
    "x = df_practica.drop(columns=['Response'])\n",
    "y = df_practica['Response']\n",
    "X_train, X_test, y_train, y_test = train_test_split(x, y, test_size =0.20, random_state=42)\n",
    "X_train.reset_index(inplace=True,drop=True)\n",
    "y_train.reset_index(inplace=True,drop=True)\n",
    "X_test.reset_index(inplace=True,drop=True)\n",
    "y_test.reset_index(inplace=True,drop=True)\n"
   ]
  },
  {
   "cell_type": "markdown",
   "id": "c06f2a33",
   "metadata": {},
   "source": [
    "**¡Atención!** Para aplicar los métodos de balanceo tenemos que:\n",
    "1. Transformar las variables categóricas en numéricas (con feature engineering o one-hot encoding)\n",
    "2. Estandarizar todas las variables (ya que trabajan con distancias)"
   ]
  },
  {
   "cell_type": "markdown",
   "id": "dd8a19ae",
   "metadata": {},
   "source": [
    "# BIBLIOGRAFÍA\n",
    "\n",
    "- https://machinelearningmastery.com/undersampling-algorithms-for-imbalanced-classification/\n",
    "- https://www.analyticsvidhya.com/blog/2020/07/10-techniques-to-deal-with-class-imbalance-in-machine-learning/\n",
    "- https://www.geeksforgeeks.org/ml-handling-imbalanced-data-with-smote-and-near-miss-algorithm-in-python/"
   ]
  }
 ],
 "metadata": {
  "kernelspec": {
   "display_name": "Python 3 (ipykernel)",
   "language": "python",
   "name": "python3"
  },
  "language_info": {
   "codemirror_mode": {
    "name": "ipython",
    "version": 3
   },
   "file_extension": ".py",
   "mimetype": "text/x-python",
   "name": "python",
   "nbconvert_exporter": "python",
   "pygments_lexer": "ipython3",
   "version": "3.8.18"
  }
 },
 "nbformat": 4,
 "nbformat_minor": 5
}
